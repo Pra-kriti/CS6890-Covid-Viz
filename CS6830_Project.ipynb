{
  "cells": [
    {
      "cell_type": "markdown",
      "metadata": {
        "id": "51NyfWDjNJrU"
      },
      "source": [
        "## Download necessary libraries"
      ]
    },
    {
      "cell_type": "code",
      "execution_count": null,
      "metadata": {
        "colab": {
          "base_uri": "https://localhost:8080/"
        },
        "id": "8HvtcnZqMxwM",
        "outputId": "996d96d6-b0ab-4792-f825-e5cd7a20a740"
      },
      "outputs": [
        {
          "output_type": "stream",
          "name": "stdout",
          "text": [
            "Requirement already satisfied: praw in /usr/local/lib/python3.7/dist-packages (7.5.0)\n",
            "\u001b[31mERROR: Operation cancelled by user\u001b[0m\n"
          ]
        }
      ],
      "source": [
        "!pip install praw"
      ]
    },
    {
      "cell_type": "code",
      "execution_count": null,
      "metadata": {
        "colab": {
          "base_uri": "https://localhost:8080/"
        },
        "id": "Z75Xh853iXjW",
        "outputId": "eaf65bdc-b555-4a7e-bb43-91d451bd681f"
      },
      "outputs": [
        {
          "output_type": "stream",
          "name": "stdout",
          "text": [
            "Collecting psaw\n",
            "  Downloading psaw-0.1.0-py3-none-any.whl (15 kB)\n",
            "Requirement already satisfied: requests in /usr/local/lib/python3.7/dist-packages (from psaw) (2.23.0)\n",
            "Requirement already satisfied: Click in /usr/local/lib/python3.7/dist-packages (from psaw) (7.1.2)\n",
            "Requirement already satisfied: certifi>=2017.4.17 in /usr/local/lib/python3.7/dist-packages (from requests->psaw) (2021.10.8)\n",
            "Requirement already satisfied: chardet<4,>=3.0.2 in /usr/local/lib/python3.7/dist-packages (from requests->psaw) (3.0.4)\n",
            "Requirement already satisfied: urllib3!=1.25.0,!=1.25.1,<1.26,>=1.21.1 in /usr/local/lib/python3.7/dist-packages (from requests->psaw) (1.24.3)\n",
            "Requirement already satisfied: idna<3,>=2.5 in /usr/local/lib/python3.7/dist-packages (from requests->psaw) (2.10)\n",
            "Installing collected packages: psaw\n",
            "Successfully installed psaw-0.1.0\n"
          ]
        }
      ],
      "source": [
        "!pip install psaw"
      ]
    },
    {
      "cell_type": "markdown",
      "metadata": {
        "id": "xlpwqyqUPjj6"
      },
      "source": [
        "## Import Libraries\n"
      ]
    },
    {
      "cell_type": "code",
      "execution_count": 1,
      "metadata": {
        "colab": {
          "base_uri": "https://localhost:8080/"
        },
        "id": "FPKvYd9JmgjE",
        "outputId": "dce97ac3-667d-474c-854e-9e6981c72ba9"
      },
      "outputs": [
        {
          "output_type": "stream",
          "name": "stdout",
          "text": [
            "[nltk_data] Downloading package vader_lexicon to /root/nltk_data...\n",
            "[nltk_data] Downloading package stopwords to /root/nltk_data...\n",
            "[nltk_data]   Unzipping corpora/stopwords.zip.\n",
            "[nltk_data] Downloading package wordnet to /root/nltk_data...\n"
          ]
        },
        {
          "output_type": "stream",
          "name": "stderr",
          "text": [
            "/usr/local/lib/python3.7/dist-packages/nltk/twitter/__init__.py:20: UserWarning: The twython library has not been installed. Some functionality from the twitter package will not be available.\n",
            "  warnings.warn(\"The twython library has not been installed. \"\n"
          ]
        },
        {
          "output_type": "stream",
          "name": "stdout",
          "text": [
            "[nltk_data]   Unzipping corpora/wordnet.zip.\n",
            "[nltk_data] Downloading package punkt to /root/nltk_data...\n",
            "[nltk_data]   Unzipping tokenizers/punkt.zip.\n"
          ]
        }
      ],
      "source": [
        "import re\n",
        "import matplotlib.pyplot as plt\n",
        "import string\n",
        "from nltk.corpus import stopwords\n",
        "import nltk\n",
        "from nltk.corpus import wordnet\n",
        "from nltk.stem import WordNetLemmatizer\n",
        "from nltk.tokenize.treebank import TreebankWordDetokenizer\n",
        "from collections import Counter\n",
        "from wordcloud import WordCloud\n",
        "from gensim.utils import simple_preprocess\n",
        "import gensim\n",
        "from sklearn.model_selection import train_test_split\n",
        "import spacy\n",
        "import pickle\n",
        "import warnings\n",
        "import seaborn as sns\n",
        "from sklearn.metrics import confusion_matrix\n",
        "import tensorflow as tf\n",
        "import keras\n",
        "import numpy as np\n",
        "import pandas as pd\n",
        "from scipy import stats\n",
        "# import praw #use for data collection\n",
        "import datetime\n",
        "# from psaw import PushshiftAPI #use for data collection\n",
        "import networkx as nx\n",
        "import tabulate\n",
        "import operator\n",
        "from collections import defaultdict\n",
        "from nltk.tokenize import word_tokenize\n",
        "from os.path import exists\n",
        "import time\n",
        "import tweepy\n",
        "from tweepy import OAuthHandler\n",
        "from tweepy import API\n",
        "from tweepy import Cursor\n",
        "import time\n",
        "from tweepy import Stream\n",
        "from keras.models import Sequential\n",
        "from keras import layers\n",
        "from tensorflow.keras.optimizers import RMSprop,Adam\n",
        "from keras.preprocessing.text import Tokenizer\n",
        "from keras.preprocessing.sequence import pad_sequences\n",
        "from keras import regularizers\n",
        "from keras import backend as K\n",
        "from keras.callbacks import ModelCheckpoint\n",
        "from textblob import TextBlob    \n",
        "import requests\n",
        "\n",
        "nltk.download('vader_lexicon')\n",
        "from nltk.sentiment.vader import SentimentIntensityAnalyzer\n",
        "\n",
        "sid = SentimentIntensityAnalyzer()\n",
        "nltk.download('stopwords')\n",
        "nltk.download('wordnet')\n",
        "nltk.download('punkt')\n",
        "warnings.filterwarnings('ignore')"
      ]
    },
    {
      "cell_type": "markdown",
      "metadata": {
        "id": "y66jk2vvPpZ-"
      },
      "source": [
        "## Connect to google drive\n"
      ]
    },
    {
      "cell_type": "code",
      "execution_count": 2,
      "metadata": {
        "colab": {
          "base_uri": "https://localhost:8080/"
        },
        "id": "1oFB-F4wm7W5",
        "outputId": "baed79c3-aa74-413e-c2b7-1a3ad63ace30"
      },
      "outputs": [
        {
          "output_type": "stream",
          "name": "stdout",
          "text": [
            "Mounted at /content/drive\n"
          ]
        }
      ],
      "source": [
        "from google.colab import drive\n",
        "drive.mount('/content/drive')"
      ]
    },
    {
      "cell_type": "markdown",
      "metadata": {
        "id": "DIs8JCx2G1t4"
      },
      "source": [
        "### Setting Location for Ankit"
      ]
    },
    {
      "cell_type": "code",
      "execution_count": 3,
      "metadata": {
        "colab": {
          "base_uri": "https://localhost:8080/"
        },
        "id": "cPTJgviloIpP",
        "outputId": "f35ec9af-56a1-4c24-dea1-cfd6df2c1af9"
      },
      "outputs": [
        {
          "output_type": "stream",
          "name": "stdout",
          "text": [
            "/content/drive/My Drive/Data Analysis/Project/Datafiles\n",
            "'=4.0.0'                      reddit_data_modelled_first\n",
            " centers                      reddit_data_modelled_second\n",
            " centers.csv                  reddit_data_month.json\n",
            " \u001b[0m\u001b[01;34mcsv_files\u001b[0m/                   reddit_data_text\n",
            " figure.png                   reddit_data_text_day\n",
            " \u001b[01;34mfigures\u001b[0m/                     reddit_data_text_month\n",
            " \u001b[01;34mjson_files\u001b[0m/                  reddit_data_time\n",
            " \u001b[01;34mjson_files_new\u001b[0m/              tweet_data_combined\n",
            " \u001b[01;34mmodels\u001b[0m/                      tweet_data_combined_backup\n",
            " next_tokens                  tweet_data_daily\n",
            " next_tokens_backup           tweet_data_day.json\n",
            " reddit_data_combined         tweet_data_day_loc.json\n",
            " reddit_data_day.json         tweet_data_day_state.json\n",
            " reddit_data_labels           tweet_data_labelled\n",
            " reddit_data_modelled_1       tweet_data_labels\n",
            " reddit_data_modelled_2       tweet_data_language_temp\n",
            " reddit_data_modelled_3       tweet_data_modelled\n",
            " reddit_data_modelled_4       tweet_data_month.json\n",
            " reddit_data_modelled_5       tweet_data_month_loc.json\n",
            " reddit_data_modelled_6       tweet_data_month_state.json\n",
            " reddit_data_modelled_final\n"
          ]
        }
      ],
      "source": [
        "% cd \"/content/drive/My Drive/Data Science/Project/Datafiles\"\n",
        "% ls .``"
      ]
    },
    {
      "cell_type": "markdown",
      "metadata": {
        "id": "zvR1kOpsP4-a"
      },
      "source": [
        "## Connect to reddit API using your key, username and password\n"
      ]
    },
    {
      "cell_type": "code",
      "execution_count": null,
      "metadata": {
        "id": "iHOXltAQM948"
      },
      "outputs": [],
      "source": [
        "# Add your credentials here\n",
        "reddit = praw.Reddit(\n",
        "    client_id=\"X7RUeJfF7cJeMtbQ1LIt9w\",\n",
        "    client_secret=\"cnefAHZnBVXmb886eie2nOY1ycSOVg\",\n",
        "    password=\"ANkiTSthA   03\",\n",
        "    user_agent=\"Data_Science_Ankit\",\n",
        "    username=\"ankitstha3\",\n",
        "    check_for_async=False\n",
        ")"
      ]
    },
    {
      "cell_type": "code",
      "execution_count": null,
      "metadata": {
        "id": "ZWryZ5V2M1aa"
      },
      "outputs": [],
      "source": [
        "reddit.read_only = True\n",
        "api = PushshiftAPI(reddit)"
      ]
    },
    {
      "cell_type": "code",
      "execution_count": null,
      "metadata": {
        "id": "iwOaoRmlcISa"
      },
      "outputs": [],
      "source": [
        "def get_reddit_posts(start_date, end_date):\n",
        "  gen = api.search_submissions(q='COVID', after=int(start_date.timestamp()), before=int(end_date.timestamp()), filter=['created_utc', 'title', 'selftext'], limit=10000)\n",
        "  posts = list(gen)\n",
        "  return posts"
      ]
    },
    {
      "cell_type": "code",
      "execution_count": null,
      "metadata": {
        "colab": {
          "background_save": true
        },
        "id": "XhuraC7viYBC"
      },
      "outputs": [],
      "source": [
        "start_date = datetime.datetime(2020, 2, 11)\n",
        "end_date = datetime.datetime(2021, 12, 31)\n",
        "delta = datetime.timedelta(days=1)\n",
        "if exists('reddit_data_combined'):\n",
        "  reddit_data_combined=pd.read_csv('reddit_data_combined', header=None)\n",
        "  reddit_data_combined.columns=['date', 'text']\n",
        "  reddit_data_combined=reddit_data_combined.dropna()\n",
        "  reddit_data_combined['date']=pd.to_datetime(reddit_data_combined['date'])\n",
        "  start_date=reddit_data_combined['date'].max()+delta\n",
        "while start_date <= end_date:\n",
        "  temp_end=start_date+delta\n",
        "  posts=get_reddit_posts(start_date, temp_end)\n",
        "  date=[datetime.datetime.fromtimestamp(post.created_utc) for post in posts]\n",
        "  text=[post.title+' '+post.selftext for post in posts]\n",
        "  reddit_dict={'date':start_date, 'text':text}\n",
        "  time.sleep(3)\n",
        "  start_date += delta\n",
        "  reddit_data_combined = pd.DataFrame.from_dict(reddit_dict)\n",
        "  reddit_data_combined.to_csv('reddit_data_combined', mode='a', index=False, header=False)"
      ]
    },
    {
      "cell_type": "markdown",
      "metadata": {
        "id": "3nN4jzb22tP-"
      },
      "source": [
        "## Connect to twitter API using your key, username and password\n"
      ]
    },
    {
      "cell_type": "code",
      "execution_count": null,
      "metadata": {
        "id": "2SUj0EPagjaw"
      },
      "outputs": [],
      "source": [
        "# Put your consumer key and access token key here\n",
        "C_KEY = 'Po5qq9wQlQ4ABmKsAojUYWyDF'\n",
        "C_SECRET = 'RTtTq92VQiminG83F32dPJFLsUP2Y6L1QAqYrVZsHtF8NBGhEs'\n",
        "A_TOKEN_KEY = '2827422426-m0pzklPUXdIx0cypMQa48cD3LKRarc5dp5Wxqzm'\n",
        "A_TOKEN_SECRET = 'ScMC6G9DRujKagDAqd54uPaaQEgxaa3EN65pH1ov9Dx6T'\n",
        "B_token= 'AAAAAAAAAAAAAAAAAAAAAGCBawEAAAAAF6DS6dglUv9PgmwMorFWHK9MwD0%3D7wKuOpmrKw8JGEogikHPA8m4Vk9GzRQWsLIQCba58yD4xeJdhe'"
      ]
    },
    {
      "cell_type": "code",
      "execution_count": null,
      "metadata": {
        "id": "8KbReS8Fis25"
      },
      "outputs": [],
      "source": [
        "def get_tweets(start_date, end_date, next_token):\n",
        "  headers = {\"Authorization\": \"Bearer {}\".format(B_token)}\n",
        "  start=start_date.strftime(\"%Y-%m-%d\")\n",
        "  end=end_date.strftime(\"%Y-%m-%d\")\n",
        "  expansions='geo.place_id'\n",
        "  tweet_fields='created_at'\n",
        "  place_fields='contained_within,country,country_code,full_name,name,geo,place_type'\n",
        "  # sort_order='relevancy'\n",
        "  keyword = 'COVID'\n",
        "  query='{}%20place_country%3AUS'.format(keyword)\n",
        "  limit='500'\n",
        "  add_token=''\n",
        "  if next_token!='':\n",
        "    add_token=f'&next_token={next_token}'\n",
        "  url = f'https://api.twitter.com/2/tweets/search/all?query={query}&max_results={limit}&start_time={start}T00%3A00%3A00Z&end_time={end}T00%3A00%3A00Z&expansions={expansions}&tweet.fields={tweet_fields}&place.fields={place_fields}{add_token}'\n",
        "\n",
        "  response = requests.request(\"GET\", url, headers = headers)\n",
        "  return response.json()"
      ]
    },
    {
      "cell_type": "code",
      "execution_count": null,
      "metadata": {
        "id": "6NPyZoLE74aS"
      },
      "outputs": [],
      "source": [
        "def make_dataframe(tweets):\n",
        "  tweets_texts=tweets['data']\n",
        "  tweets_location=tweets['includes']['places']\n",
        "\n",
        "  id=[]\n",
        "  date=[]\n",
        "  coordinates=[]\n",
        "  loc_name=[]\n",
        "  loc_country=[]\n",
        "  text=[]\n",
        "  loc_type=[]\n",
        "  place_id_tweet=[]\n",
        "  place_id_loc=[]\n",
        "\n",
        "  for item in tweets_texts:\n",
        "    id.append(item['id'])\n",
        "    date.append(item['created_at'])\n",
        "    text.append(item['text'])\n",
        "    place_id_tweet.append(item['geo']['place_id'] if 'geo' in item else -1)\n",
        "\n",
        "  for item in tweets_location:\n",
        "    coordinates.append(item['geo']['bbox'] if 'geo' in item else -1)\n",
        "    loc_name.append(item['full_name'])\n",
        "    loc_country.append(item['country'])\n",
        "    loc_type.append(item['place_type'])\n",
        "    place_id_loc.append(item['id'])\n",
        "\n",
        "  tweet_dict={'tweet_id':id, 'date':date, 'text':text, 'place_id':place_id_tweet}\n",
        "  loc_dict={'place_id':place_id_loc, 'coordinates':coordinates, 'loc_name':loc_name, 'loc_country':loc_country, 'loc_type':loc_type}\n",
        "  tweet_df=pd.DataFrame.from_dict(tweet_dict)\n",
        "  loc_df=pd.DataFrame.from_dict(loc_dict)\n",
        "  tweet_data=tweet_df.merge(loc_df, on='place_id')\n",
        "  return tweet_data"
      ]
    },
    {
      "cell_type": "code",
      "execution_count": null,
      "metadata": {
        "id": "BUBRzVQQztDp"
      },
      "outputs": [],
      "source": [
        "start_date = datetime.datetime(2020, 2, 11)\n",
        "end_date = datetime.datetime(2021, 12, 31)\n",
        "delta = datetime.timedelta(days=1)\n",
        "next_token=''\n",
        "count=0\n",
        "if exists('tweet_data_combined'):\n",
        "  tweet_data_combined=pd.read_csv('tweet_data_combined', lineterminator='\\n', header=None)\n",
        "  tweet_data_combined.columns=['tweet_id', 'date', 'text', 'place_id', 'coordinates', 'loc_name', 'loc_country', 'loc_type']\n",
        "  tweet_data_combined=tweet_data_combined.dropna()\n",
        "  tweet_data_combined['date']=tweet_data_combined['date'].str[:10]+' '+tweet_data_combined['date'].str[11:19]\n",
        "  tweet_data_combined['date']=pd.to_datetime(tweet_data_combined['date'])\n",
        "  temp_date=tweet_data_combined['date'].max().date()\n",
        "  start_date = datetime.datetime(temp_date.year, temp_date.month, temp_date.day)\n",
        "  start_date+=delta\n",
        "\n",
        "while start_date <= end_date:\n",
        "  temp_end=start_date+delta\n",
        "  tweets=get_tweets(start_date, temp_end, next_token)\n",
        "  if tweets['meta']['result_count']!=0:\n",
        "    tweet_data=make_dataframe(tweets)\n",
        "    tweet_data.to_csv('tweet_data_daily', mode='w', index=False, header=True)\n",
        "  time.sleep(3)\n",
        "  while 'next_token' in tweets['meta'] and count<20:\n",
        "    next_token=tweets['meta']['next_token']\n",
        "    tweets=get_tweets(start_date, temp_end, next_token)\n",
        "    if tweets['meta']['result_count']!=0:\n",
        "      tweet_data=make_dataframe(tweets)\n",
        "      tweet_data.to_csv('tweet_data_daily', mode='a', index=False, header=False)\n",
        "    count=count+1\n",
        "    time.sleep(3)\n",
        "\n",
        "  if exists('tweet_data_daily'):\n",
        "    if 'next_token' in tweets['meta']:\n",
        "      next_token=tweets['meta']['next_token']\n",
        "    else:\n",
        "      next_token=''\n",
        "    if 'newest_id' in tweets['meta']:\n",
        "      newest_id=tweets['meta']['newest_id']\n",
        "    else:\n",
        "      newest_id=''\n",
        "    temp_token={'date':start_date, 'next_token':[next_token], 'newest_id':newest_id}\n",
        "    next_tokens=pd.DataFrame.from_dict(temp_token)\n",
        "    next_tokens.to_csv('next_tokens', mode='a', index=False, header=False)\n",
        "\n",
        "    tweet_data_combined=pd.read_csv('tweet_data_daily')\n",
        "    tweet_data_combined.to_csv('tweet_data_combined', mode='a', index=False, header=False)\n",
        "  start_date += delta\n",
        "  count=0"
      ]
    },
    {
      "cell_type": "code",
      "execution_count": null,
      "metadata": {
        "id": "N8q1UVOwXl46"
      },
      "outputs": [],
      "source": [
        "tweet_data_combined=pd.read_csv('tweet_data_combined', lineterminator='\\n', header=None)\n",
        "tweet_data_combined.columns=['tweet_id', 'date', 'text', 'place_id', 'coordinates', 'loc_name', 'loc_country', 'loc_type']\n",
        "tweet_data_combined=tweet_data_combined.dropna()\n",
        "tweet_data_combined['date']=tweet_data_combined['date'].str[:10]+' '+tweet_data_combined['date'].str[11:19]\n",
        "tweet_data_combined['date']=pd.to_datetime(tweet_data_combined['date'])"
      ]
    },
    {
      "cell_type": "code",
      "execution_count": null,
      "metadata": {
        "id": "DnbEEZi-S_mT"
      },
      "outputs": [],
      "source": [
        "reddit_data_combined=pd.read_csv('reddit_data_combined', header=None)\n",
        "reddit_data_combined.columns=['date', 'text']\n",
        "reddit_data_combined=reddit_data_combined.dropna()\n",
        "reddit_data_combined['date']=reddit_data_combined['date'].str[:10]+' '+reddit_data_combined['date'].str[11:19]\n",
        "reddit_data_combined['date']=pd.to_datetime(reddit_data_combined['date'])"
      ]
    },
    {
      "cell_type": "code",
      "execution_count": null,
      "metadata": {
        "colab": {
          "base_uri": "https://localhost:8080/",
          "height": 423
        },
        "id": "hFZfL7iWTO6i",
        "outputId": "39b14056-324a-4bc1-e7fa-9c51e9aa46dc"
      },
      "outputs": [
        {
          "data": {
            "text/html": [
              "\n",
              "  <div id=\"df-f2bc6664-e394-4cb1-85d9-3d32348b9b0a\">\n",
              "    <div class=\"colab-df-container\">\n",
              "      <div>\n",
              "<style scoped>\n",
              "    .dataframe tbody tr th:only-of-type {\n",
              "        vertical-align: middle;\n",
              "    }\n",
              "\n",
              "    .dataframe tbody tr th {\n",
              "        vertical-align: top;\n",
              "    }\n",
              "\n",
              "    .dataframe thead th {\n",
              "        text-align: right;\n",
              "    }\n",
              "</style>\n",
              "<table border=\"1\" class=\"dataframe\">\n",
              "  <thead>\n",
              "    <tr style=\"text-align: right;\">\n",
              "      <th></th>\n",
              "      <th>date</th>\n",
              "      <th>text</th>\n",
              "      <th>date_only</th>\n",
              "    </tr>\n",
              "  </thead>\n",
              "  <tbody>\n",
              "    <tr>\n",
              "      <th>0</th>\n",
              "      <td>2020-02-11</td>\n",
              "      <td>Are you guys worried about the Coronavirus (CO...</td>\n",
              "      <td>2020-02-11</td>\n",
              "    </tr>\n",
              "    <tr>\n",
              "      <th>1</th>\n",
              "      <td>2020-02-11</td>\n",
              "      <td>[World] - WHO names deadly virus from China as...</td>\n",
              "      <td>2020-02-11</td>\n",
              "    </tr>\n",
              "    <tr>\n",
              "      <th>2</th>\n",
              "      <td>2020-02-11</td>\n",
              "      <td>Is the COVID-19 death rate calculated correctl...</td>\n",
              "      <td>2020-02-11</td>\n",
              "    </tr>\n",
              "    <tr>\n",
              "      <th>3</th>\n",
              "      <td>2020-02-11</td>\n",
              "      <td>[World] - WHO names deadly virus from China as...</td>\n",
              "      <td>2020-02-11</td>\n",
              "    </tr>\n",
              "    <tr>\n",
              "      <th>4</th>\n",
              "      <td>2020-02-11</td>\n",
              "      <td>Is the COVID-19 death rate calculated correctl...</td>\n",
              "      <td>2020-02-11</td>\n",
              "    </tr>\n",
              "    <tr>\n",
              "      <th>...</th>\n",
              "      <td>...</td>\n",
              "      <td>...</td>\n",
              "      <td>...</td>\n",
              "    </tr>\n",
              "    <tr>\n",
              "      <th>5116642</th>\n",
              "      <td>2021-12-31</td>\n",
              "      <td>I Think my future is screwed **INTRO**:\\n\\nI a...</td>\n",
              "      <td>2021-12-31</td>\n",
              "    </tr>\n",
              "    <tr>\n",
              "      <th>5116643</th>\n",
              "      <td>2021-12-31</td>\n",
              "      <td>The reason Biden saying \"no federal solution t...</td>\n",
              "      <td>2021-12-31</td>\n",
              "    </tr>\n",
              "    <tr>\n",
              "      <th>5116644</th>\n",
              "      <td>2021-12-31</td>\n",
              "      <td>Even a broken clock is right twice a day... in...</td>\n",
              "      <td>2021-12-31</td>\n",
              "    </tr>\n",
              "    <tr>\n",
              "      <th>5116645</th>\n",
              "      <td>2021-12-31</td>\n",
              "      <td>Question for those who got a PCR test recently...</td>\n",
              "      <td>2021-12-31</td>\n",
              "    </tr>\n",
              "    <tr>\n",
              "      <th>5116646</th>\n",
              "      <td>2021-12-31</td>\n",
              "      <td>Not a nurse, but I work with some; what can I ...</td>\n",
              "      <td>2021-12-31</td>\n",
              "    </tr>\n",
              "  </tbody>\n",
              "</table>\n",
              "<p>5116640 rows × 3 columns</p>\n",
              "</div>\n",
              "      <button class=\"colab-df-convert\" onclick=\"convertToInteractive('df-f2bc6664-e394-4cb1-85d9-3d32348b9b0a')\"\n",
              "              title=\"Convert this dataframe to an interactive table.\"\n",
              "              style=\"display:none;\">\n",
              "        \n",
              "  <svg xmlns=\"http://www.w3.org/2000/svg\" height=\"24px\"viewBox=\"0 0 24 24\"\n",
              "       width=\"24px\">\n",
              "    <path d=\"M0 0h24v24H0V0z\" fill=\"none\"/>\n",
              "    <path d=\"M18.56 5.44l.94 2.06.94-2.06 2.06-.94-2.06-.94-.94-2.06-.94 2.06-2.06.94zm-11 1L8.5 8.5l.94-2.06 2.06-.94-2.06-.94L8.5 2.5l-.94 2.06-2.06.94zm10 10l.94 2.06.94-2.06 2.06-.94-2.06-.94-.94-2.06-.94 2.06-2.06.94z\"/><path d=\"M17.41 7.96l-1.37-1.37c-.4-.4-.92-.59-1.43-.59-.52 0-1.04.2-1.43.59L10.3 9.45l-7.72 7.72c-.78.78-.78 2.05 0 2.83L4 21.41c.39.39.9.59 1.41.59.51 0 1.02-.2 1.41-.59l7.78-7.78 2.81-2.81c.8-.78.8-2.07 0-2.86zM5.41 20L4 18.59l7.72-7.72 1.47 1.35L5.41 20z\"/>\n",
              "  </svg>\n",
              "      </button>\n",
              "      \n",
              "  <style>\n",
              "    .colab-df-container {\n",
              "      display:flex;\n",
              "      flex-wrap:wrap;\n",
              "      gap: 12px;\n",
              "    }\n",
              "\n",
              "    .colab-df-convert {\n",
              "      background-color: #E8F0FE;\n",
              "      border: none;\n",
              "      border-radius: 50%;\n",
              "      cursor: pointer;\n",
              "      display: none;\n",
              "      fill: #1967D2;\n",
              "      height: 32px;\n",
              "      padding: 0 0 0 0;\n",
              "      width: 32px;\n",
              "    }\n",
              "\n",
              "    .colab-df-convert:hover {\n",
              "      background-color: #E2EBFA;\n",
              "      box-shadow: 0px 1px 2px rgba(60, 64, 67, 0.3), 0px 1px 3px 1px rgba(60, 64, 67, 0.15);\n",
              "      fill: #174EA6;\n",
              "    }\n",
              "\n",
              "    [theme=dark] .colab-df-convert {\n",
              "      background-color: #3B4455;\n",
              "      fill: #D2E3FC;\n",
              "    }\n",
              "\n",
              "    [theme=dark] .colab-df-convert:hover {\n",
              "      background-color: #434B5C;\n",
              "      box-shadow: 0px 1px 3px 1px rgba(0, 0, 0, 0.15);\n",
              "      filter: drop-shadow(0px 1px 2px rgba(0, 0, 0, 0.3));\n",
              "      fill: #FFFFFF;\n",
              "    }\n",
              "  </style>\n",
              "\n",
              "      <script>\n",
              "        const buttonEl =\n",
              "          document.querySelector('#df-f2bc6664-e394-4cb1-85d9-3d32348b9b0a button.colab-df-convert');\n",
              "        buttonEl.style.display =\n",
              "          google.colab.kernel.accessAllowed ? 'block' : 'none';\n",
              "\n",
              "        async function convertToInteractive(key) {\n",
              "          const element = document.querySelector('#df-f2bc6664-e394-4cb1-85d9-3d32348b9b0a');\n",
              "          const dataTable =\n",
              "            await google.colab.kernel.invokeFunction('convertToInteractive',\n",
              "                                                     [key], {});\n",
              "          if (!dataTable) return;\n",
              "\n",
              "          const docLinkHtml = 'Like what you see? Visit the ' +\n",
              "            '<a target=\"_blank\" href=https://colab.research.google.com/notebooks/data_table.ipynb>data table notebook</a>'\n",
              "            + ' to learn more about interactive tables.';\n",
              "          element.innerHTML = '';\n",
              "          dataTable['output_type'] = 'display_data';\n",
              "          await google.colab.output.renderOutput(dataTable, element);\n",
              "          const docLink = document.createElement('div');\n",
              "          docLink.innerHTML = docLinkHtml;\n",
              "          element.appendChild(docLink);\n",
              "        }\n",
              "      </script>\n",
              "    </div>\n",
              "  </div>\n",
              "  "
            ],
            "text/plain": [
              "              date                                               text  \\\n",
              "0       2020-02-11  Are you guys worried about the Coronavirus (CO...   \n",
              "1       2020-02-11  [World] - WHO names deadly virus from China as...   \n",
              "2       2020-02-11  Is the COVID-19 death rate calculated correctl...   \n",
              "3       2020-02-11  [World] - WHO names deadly virus from China as...   \n",
              "4       2020-02-11  Is the COVID-19 death rate calculated correctl...   \n",
              "...            ...                                                ...   \n",
              "5116642 2021-12-31  I Think my future is screwed **INTRO**:\\n\\nI a...   \n",
              "5116643 2021-12-31  The reason Biden saying \"no federal solution t...   \n",
              "5116644 2021-12-31  Even a broken clock is right twice a day... in...   \n",
              "5116645 2021-12-31  Question for those who got a PCR test recently...   \n",
              "5116646 2021-12-31  Not a nurse, but I work with some; what can I ...   \n",
              "\n",
              "          date_only  \n",
              "0        2020-02-11  \n",
              "1        2020-02-11  \n",
              "2        2020-02-11  \n",
              "3        2020-02-11  \n",
              "4        2020-02-11  \n",
              "...             ...  \n",
              "5116642  2021-12-31  \n",
              "5116643  2021-12-31  \n",
              "5116644  2021-12-31  \n",
              "5116645  2021-12-31  \n",
              "5116646  2021-12-31  \n",
              "\n",
              "[5116640 rows x 3 columns]"
            ]
          },
          "execution_count": 22,
          "metadata": {},
          "output_type": "execute_result"
        }
      ],
      "source": [
        "reddit_data_combined"
      ]
    },
    {
      "cell_type": "code",
      "execution_count": null,
      "metadata": {
        "id": "jfAuOJFMajvB"
      },
      "outputs": [],
      "source": [
        "reddit_data_combined['date_only']=reddit_data_combined['date'].dt.date\n",
        "data_count=reddit_data_combined.groupby('date_only').agg({'text':'count'}).reset_index()"
      ]
    },
    {
      "cell_type": "code",
      "execution_count": null,
      "metadata": {
        "id": "wlELWEDe8O7C"
      },
      "outputs": [],
      "source": [
        "plt.figure(figsize=(10,10))\n",
        "# sns.barplot(x='date_only', y='text', data=data_count)\n",
        "sns.lineplot(x='date_only', y='text', data=data_count)"
      ]
    },
    {
      "cell_type": "code",
      "execution_count": null,
      "metadata": {
        "colab": {
          "base_uri": "https://localhost:8080/",
          "height": 659
        },
        "id": "ktldXNENVchy",
        "outputId": "33ef6a14-524f-4b16-928e-b5565e073f4f"
      },
      "outputs": [
        {
          "data": {
            "text/html": [
              "\n",
              "  <div id=\"df-9cd0f48b-8dfd-4e1d-85f6-29476c193e31\">\n",
              "    <div class=\"colab-df-container\">\n",
              "      <div>\n",
              "<style scoped>\n",
              "    .dataframe tbody tr th:only-of-type {\n",
              "        vertical-align: middle;\n",
              "    }\n",
              "\n",
              "    .dataframe tbody tr th {\n",
              "        vertical-align: top;\n",
              "    }\n",
              "\n",
              "    .dataframe thead th {\n",
              "        text-align: right;\n",
              "    }\n",
              "</style>\n",
              "<table border=\"1\" class=\"dataframe\">\n",
              "  <thead>\n",
              "    <tr style=\"text-align: right;\">\n",
              "      <th></th>\n",
              "      <th>tweet_id</th>\n",
              "      <th>date</th>\n",
              "      <th>text</th>\n",
              "      <th>place_id</th>\n",
              "      <th>coordinates</th>\n",
              "      <th>loc_name</th>\n",
              "      <th>loc_country</th>\n",
              "      <th>loc_type</th>\n",
              "      <th>date_only</th>\n",
              "    </tr>\n",
              "  </thead>\n",
              "  <tbody>\n",
              "    <tr>\n",
              "      <th>0</th>\n",
              "      <td>1227378701140140032</td>\n",
              "      <td>2020-02-11 23:47:40</td>\n",
              "      <td>NBC News: Coronavirus gets official name from ...</td>\n",
              "      <td>19e2bff2e89dc38e</td>\n",
              "      <td>[-86.505805, 35.751433, -86.313415, 35.943407]</td>\n",
              "      <td>Murfreesboro, TN</td>\n",
              "      <td>United States</td>\n",
              "      <td>city</td>\n",
              "      <td>2020-02-11</td>\n",
              "    </tr>\n",
              "    <tr>\n",
              "      <th>1</th>\n",
              "      <td>1227377150044647424</td>\n",
              "      <td>2020-02-11 23:41:30</td>\n",
              "      <td>COVID-19で、🇩🇪経済のみならず、ユーロ圏全体が不景気になる見込み。先進国では社会的セ...</td>\n",
              "      <td>cd450c94084cbf9b</td>\n",
              "      <td>[-73.508143, 41.187054, -69.858861, 42.8868241]</td>\n",
              "      <td>Massachusetts, USA</td>\n",
              "      <td>United States</td>\n",
              "      <td>admin</td>\n",
              "      <td>2020-02-11</td>\n",
              "    </tr>\n",
              "    <tr>\n",
              "      <th>2</th>\n",
              "      <td>1227372076505264128</td>\n",
              "      <td>2020-02-11 23:21:21</td>\n",
              "      <td>UPDATE: 3-year-old Annabel Wucinski was taken ...</td>\n",
              "      <td>a592bd6ceb1319f7</td>\n",
              "      <td>[-117.282538, 32.53962, -116.9274403, 33.0804044]</td>\n",
              "      <td>San Diego, CA</td>\n",
              "      <td>United States</td>\n",
              "      <td>city</td>\n",
              "      <td>2020-02-11</td>\n",
              "    </tr>\n",
              "    <tr>\n",
              "      <th>3</th>\n",
              "      <td>1227361258631917568</td>\n",
              "      <td>2020-02-11 22:38:21</td>\n",
              "      <td>@drsherbdr3 Just a little clarification. The v...</td>\n",
              "      <td>a592bd6ceb1319f7</td>\n",
              "      <td>[-117.282538, 32.53962, -116.9274403, 33.0804044]</td>\n",
              "      <td>San Diego, CA</td>\n",
              "      <td>United States</td>\n",
              "      <td>city</td>\n",
              "      <td>2020-02-11</td>\n",
              "    </tr>\n",
              "    <tr>\n",
              "      <th>4</th>\n",
              "      <td>1227369577358729217</td>\n",
              "      <td>2020-02-11 23:11:25</td>\n",
              "      <td>\"WHO officially names the illness caused by ne...</td>\n",
              "      <td>42e46bc3663a4b5f</td>\n",
              "      <td>[-97.538285, 32.569477, -97.033542, 32.990456]</td>\n",
              "      <td>Fort Worth, TX</td>\n",
              "      <td>United States</td>\n",
              "      <td>city</td>\n",
              "      <td>2020-02-11</td>\n",
              "    </tr>\n",
              "    <tr>\n",
              "      <th>...</th>\n",
              "      <td>...</td>\n",
              "      <td>...</td>\n",
              "      <td>...</td>\n",
              "      <td>...</td>\n",
              "      <td>...</td>\n",
              "      <td>...</td>\n",
              "      <td>...</td>\n",
              "      <td>...</td>\n",
              "      <td>...</td>\n",
              "    </tr>\n",
              "    <tr>\n",
              "      <th>2367320</th>\n",
              "      <td>1476704795608059922</td>\n",
              "      <td>2021-12-31 00:00:33</td>\n",
              "      <td>@Fan4Utah @Money23Green The meds created by Pf...</td>\n",
              "      <td>59bb4e6ce17a8b66</td>\n",
              "      <td>[-122.2884385, 37.533497, -122.245136, 37.575839]</td>\n",
              "      <td>Foster City, CA</td>\n",
              "      <td>United States</td>\n",
              "      <td>city</td>\n",
              "      <td>2021-12-31</td>\n",
              "    </tr>\n",
              "    <tr>\n",
              "      <th>2367321</th>\n",
              "      <td>1476704772874915840</td>\n",
              "      <td>2021-12-31 00:00:28</td>\n",
              "      <td>@nickdaschel I wonder what attendance will be ...</td>\n",
              "      <td>3b213491c5ae3f7e</td>\n",
              "      <td>[-119.3269396, 45.824334, -119.258928, 45.864803]</td>\n",
              "      <td>Hermiston, OR</td>\n",
              "      <td>United States</td>\n",
              "      <td>city</td>\n",
              "      <td>2021-12-31</td>\n",
              "    </tr>\n",
              "    <tr>\n",
              "      <th>2367322</th>\n",
              "      <td>1476704766612942851</td>\n",
              "      <td>2021-12-31 00:00:26</td>\n",
              "      <td>Welcome to another episode of ‘Covid test? Or ...</td>\n",
              "      <td>07d9f3254b084001</td>\n",
              "      <td>[-73.92985972694039, 40.85105983292507, -73.92...</td>\n",
              "      <td>Yeshiva University - Wilf Campus</td>\n",
              "      <td>United States</td>\n",
              "      <td>poi</td>\n",
              "      <td>2021-12-31</td>\n",
              "    </tr>\n",
              "    <tr>\n",
              "      <th>2367323</th>\n",
              "      <td>1476704724250468356</td>\n",
              "      <td>2021-12-31 00:00:16</td>\n",
              "      <td>What to do when hubby and I are home with COVI...</td>\n",
              "      <td>94779fa8bb1f79a8</td>\n",
              "      <td>[-77.694219, 43.087472, -77.516194, 43.167065]</td>\n",
              "      <td>Brighton, NY</td>\n",
              "      <td>United States</td>\n",
              "      <td>city</td>\n",
              "      <td>2021-12-31</td>\n",
              "    </tr>\n",
              "    <tr>\n",
              "      <th>2367324</th>\n",
              "      <td>1476704703559966728</td>\n",
              "      <td>2021-12-31 00:00:11</td>\n",
              "      <td>@ianbremmer If only my vaccinated friend &amp;amp;...</td>\n",
              "      <td>2cb954ccdc0dba5f</td>\n",
              "      <td>[-83.18921, 40.067746, -83.089352, 40.182801]</td>\n",
              "      <td>Dublin, OH</td>\n",
              "      <td>United States</td>\n",
              "      <td>city</td>\n",
              "      <td>2021-12-31</td>\n",
              "    </tr>\n",
              "  </tbody>\n",
              "</table>\n",
              "<p>2307744 rows × 9 columns</p>\n",
              "</div>\n",
              "      <button class=\"colab-df-convert\" onclick=\"convertToInteractive('df-9cd0f48b-8dfd-4e1d-85f6-29476c193e31')\"\n",
              "              title=\"Convert this dataframe to an interactive table.\"\n",
              "              style=\"display:none;\">\n",
              "        \n",
              "  <svg xmlns=\"http://www.w3.org/2000/svg\" height=\"24px\"viewBox=\"0 0 24 24\"\n",
              "       width=\"24px\">\n",
              "    <path d=\"M0 0h24v24H0V0z\" fill=\"none\"/>\n",
              "    <path d=\"M18.56 5.44l.94 2.06.94-2.06 2.06-.94-2.06-.94-.94-2.06-.94 2.06-2.06.94zm-11 1L8.5 8.5l.94-2.06 2.06-.94-2.06-.94L8.5 2.5l-.94 2.06-2.06.94zm10 10l.94 2.06.94-2.06 2.06-.94-2.06-.94-.94-2.06-.94 2.06-2.06.94z\"/><path d=\"M17.41 7.96l-1.37-1.37c-.4-.4-.92-.59-1.43-.59-.52 0-1.04.2-1.43.59L10.3 9.45l-7.72 7.72c-.78.78-.78 2.05 0 2.83L4 21.41c.39.39.9.59 1.41.59.51 0 1.02-.2 1.41-.59l7.78-7.78 2.81-2.81c.8-.78.8-2.07 0-2.86zM5.41 20L4 18.59l7.72-7.72 1.47 1.35L5.41 20z\"/>\n",
              "  </svg>\n",
              "      </button>\n",
              "      \n",
              "  <style>\n",
              "    .colab-df-container {\n",
              "      display:flex;\n",
              "      flex-wrap:wrap;\n",
              "      gap: 12px;\n",
              "    }\n",
              "\n",
              "    .colab-df-convert {\n",
              "      background-color: #E8F0FE;\n",
              "      border: none;\n",
              "      border-radius: 50%;\n",
              "      cursor: pointer;\n",
              "      display: none;\n",
              "      fill: #1967D2;\n",
              "      height: 32px;\n",
              "      padding: 0 0 0 0;\n",
              "      width: 32px;\n",
              "    }\n",
              "\n",
              "    .colab-df-convert:hover {\n",
              "      background-color: #E2EBFA;\n",
              "      box-shadow: 0px 1px 2px rgba(60, 64, 67, 0.3), 0px 1px 3px 1px rgba(60, 64, 67, 0.15);\n",
              "      fill: #174EA6;\n",
              "    }\n",
              "\n",
              "    [theme=dark] .colab-df-convert {\n",
              "      background-color: #3B4455;\n",
              "      fill: #D2E3FC;\n",
              "    }\n",
              "\n",
              "    [theme=dark] .colab-df-convert:hover {\n",
              "      background-color: #434B5C;\n",
              "      box-shadow: 0px 1px 3px 1px rgba(0, 0, 0, 0.15);\n",
              "      filter: drop-shadow(0px 1px 2px rgba(0, 0, 0, 0.3));\n",
              "      fill: #FFFFFF;\n",
              "    }\n",
              "  </style>\n",
              "\n",
              "      <script>\n",
              "        const buttonEl =\n",
              "          document.querySelector('#df-9cd0f48b-8dfd-4e1d-85f6-29476c193e31 button.colab-df-convert');\n",
              "        buttonEl.style.display =\n",
              "          google.colab.kernel.accessAllowed ? 'block' : 'none';\n",
              "\n",
              "        async function convertToInteractive(key) {\n",
              "          const element = document.querySelector('#df-9cd0f48b-8dfd-4e1d-85f6-29476c193e31');\n",
              "          const dataTable =\n",
              "            await google.colab.kernel.invokeFunction('convertToInteractive',\n",
              "                                                     [key], {});\n",
              "          if (!dataTable) return;\n",
              "\n",
              "          const docLinkHtml = 'Like what you see? Visit the ' +\n",
              "            '<a target=\"_blank\" href=https://colab.research.google.com/notebooks/data_table.ipynb>data table notebook</a>'\n",
              "            + ' to learn more about interactive tables.';\n",
              "          element.innerHTML = '';\n",
              "          dataTable['output_type'] = 'display_data';\n",
              "          await google.colab.output.renderOutput(dataTable, element);\n",
              "          const docLink = document.createElement('div');\n",
              "          docLink.innerHTML = docLinkHtml;\n",
              "          element.appendChild(docLink);\n",
              "        }\n",
              "      </script>\n",
              "    </div>\n",
              "  </div>\n",
              "  "
            ],
            "text/plain": [
              "                    tweet_id                date  \\\n",
              "0        1227378701140140032 2020-02-11 23:47:40   \n",
              "1        1227377150044647424 2020-02-11 23:41:30   \n",
              "2        1227372076505264128 2020-02-11 23:21:21   \n",
              "3        1227361258631917568 2020-02-11 22:38:21   \n",
              "4        1227369577358729217 2020-02-11 23:11:25   \n",
              "...                      ...                 ...   \n",
              "2367320  1476704795608059922 2021-12-31 00:00:33   \n",
              "2367321  1476704772874915840 2021-12-31 00:00:28   \n",
              "2367322  1476704766612942851 2021-12-31 00:00:26   \n",
              "2367323  1476704724250468356 2021-12-31 00:00:16   \n",
              "2367324  1476704703559966728 2021-12-31 00:00:11   \n",
              "\n",
              "                                                      text          place_id  \\\n",
              "0        NBC News: Coronavirus gets official name from ...  19e2bff2e89dc38e   \n",
              "1        COVID-19で、🇩🇪経済のみならず、ユーロ圏全体が不景気になる見込み。先進国では社会的セ...  cd450c94084cbf9b   \n",
              "2        UPDATE: 3-year-old Annabel Wucinski was taken ...  a592bd6ceb1319f7   \n",
              "3        @drsherbdr3 Just a little clarification. The v...  a592bd6ceb1319f7   \n",
              "4        \"WHO officially names the illness caused by ne...  42e46bc3663a4b5f   \n",
              "...                                                    ...               ...   \n",
              "2367320  @Fan4Utah @Money23Green The meds created by Pf...  59bb4e6ce17a8b66   \n",
              "2367321  @nickdaschel I wonder what attendance will be ...  3b213491c5ae3f7e   \n",
              "2367322  Welcome to another episode of ‘Covid test? Or ...  07d9f3254b084001   \n",
              "2367323  What to do when hubby and I are home with COVI...  94779fa8bb1f79a8   \n",
              "2367324  @ianbremmer If only my vaccinated friend &amp;...  2cb954ccdc0dba5f   \n",
              "\n",
              "                                               coordinates  \\\n",
              "0           [-86.505805, 35.751433, -86.313415, 35.943407]   \n",
              "1          [-73.508143, 41.187054, -69.858861, 42.8868241]   \n",
              "2        [-117.282538, 32.53962, -116.9274403, 33.0804044]   \n",
              "3        [-117.282538, 32.53962, -116.9274403, 33.0804044]   \n",
              "4           [-97.538285, 32.569477, -97.033542, 32.990456]   \n",
              "...                                                    ...   \n",
              "2367320  [-122.2884385, 37.533497, -122.245136, 37.575839]   \n",
              "2367321  [-119.3269396, 45.824334, -119.258928, 45.864803]   \n",
              "2367322  [-73.92985972694039, 40.85105983292507, -73.92...   \n",
              "2367323     [-77.694219, 43.087472, -77.516194, 43.167065]   \n",
              "2367324      [-83.18921, 40.067746, -83.089352, 40.182801]   \n",
              "\n",
              "                                 loc_name    loc_country loc_type   date_only  \n",
              "0                        Murfreesboro, TN  United States     city  2020-02-11  \n",
              "1                      Massachusetts, USA  United States    admin  2020-02-11  \n",
              "2                           San Diego, CA  United States     city  2020-02-11  \n",
              "3                           San Diego, CA  United States     city  2020-02-11  \n",
              "4                          Fort Worth, TX  United States     city  2020-02-11  \n",
              "...                                   ...            ...      ...         ...  \n",
              "2367320                   Foster City, CA  United States     city  2021-12-31  \n",
              "2367321                     Hermiston, OR  United States     city  2021-12-31  \n",
              "2367322  Yeshiva University - Wilf Campus  United States      poi  2021-12-31  \n",
              "2367323                      Brighton, NY  United States     city  2021-12-31  \n",
              "2367324                        Dublin, OH  United States     city  2021-12-31  \n",
              "\n",
              "[2307744 rows x 9 columns]"
            ]
          },
          "execution_count": 21,
          "metadata": {},
          "output_type": "execute_result"
        }
      ],
      "source": [
        "tweet_data_combined"
      ]
    },
    {
      "cell_type": "code",
      "execution_count": null,
      "metadata": {
        "id": "VhAHG7NHQNrf"
      },
      "outputs": [],
      "source": [
        "tweet_data_combined['date_only']=tweet_data_combined['date'].dt.date\n",
        "data_count=tweet_data_combined.groupby('date_only').agg({'text':'count'}).reset_index()"
      ]
    },
    {
      "cell_type": "code",
      "execution_count": null,
      "metadata": {
        "id": "IJb5aImi9ghc"
      },
      "outputs": [],
      "source": [
        "plt.figure(figsize=(10,10))\n",
        "# sns.barplot(x='date_only', y='text', data=data_count)\n",
        "sns.lineplot(x='date_only', y='text', data=data_count)"
      ]
    },
    {
      "cell_type": "markdown",
      "metadata": {
        "id": "jpgUbyTenXEv"
      },
      "source": [
        "#Start here for labelling data"
      ]
    },
    {
      "cell_type": "code",
      "execution_count": null,
      "metadata": {
        "id": "LS5MguBalikA"
      },
      "outputs": [],
      "source": [
        "def score_to_sentiment(x):\n",
        "  if x>=0.2:\n",
        "    return 'pos'\n",
        "  elif x<=-0.2:\n",
        "    return 'neg'\n",
        "  else:\n",
        "    return 'neu'"
      ]
    },
    {
      "cell_type": "code",
      "source": [
        "tweet_data_combined=pd.read_csv('tweet_data_combined', lineterminator='\\n', header=None)\n",
        "tweet_data_combined.columns=['tweet_id', 'date', 'text', 'place_id', 'coordinates', 'loc_name', 'loc_country', 'loc_type']\n",
        "tweet_data_combined=tweet_data_combined.dropna()\n",
        "tweet_data_combined['date']=tweet_data_combined['date'].str[:10]+' '+tweet_data_lang['date'].str[11:19]\n",
        "tweet_data_combined['date']=pd.to_datetime(tweet_data_combined['date'])\n",
        "\n",
        "tweet_data_labeled=tweet_data_combined.sample(3000)\n",
        "tweet_data_labeled.to_csv('tweet_data_labeled', mode='a', index=False, header=False)\n",
        "\n",
        "reddit_data_combined=pd.read_csv('reddit_data_combined', lineterminator='\\n', header=None)\n",
        "reddit_data_combined.columns=['date', 'text']\n",
        "reddit_data_combined=reddit_data_combined.dropna()\n",
        "reddit_data_combined['date']=reddit_data_combined['date'].str[:10]+' '+tweet_data_lang['date'].str[11:19]\n",
        "reddit_data_combined['date']=pd.to_datetime(reddit_data_combined['date'])\n",
        "\n",
        "reddit_data_labeled=reddit_data_combined.sample(3000)\n",
        "reddit_data_labeled.to_csv('reddit_data_labeled', mode='a', index=False, header=False)"
      ],
      "metadata": {
        "id": "RiCYOOOtK-mH"
      },
      "execution_count": null,
      "outputs": []
    },
    {
      "cell_type": "code",
      "execution_count": null,
      "metadata": {
        "id": "e3ONOmf0jkI4"
      },
      "outputs": [],
      "source": [
        "tweet_data_lang=pd.read_csv('tweet_data_combined', lineterminator='\\n', header=None)\n",
        "tweet_data_lang.columns=['tweet_id', 'date', 'text', 'place_id', 'coordinates', 'loc_name', 'loc_country', 'loc_type']\n",
        "tweet_data_lang=tweet_data_lang.dropna()\n",
        "tweet_data_lang['date']=tweet_data_lang['date'].str[:10]+' '+tweet_data_lang['date'].str[11:19]\n",
        "tweet_data_lang['date']=pd.to_datetime(tweet_data_lang['date'])\n",
        "\n",
        "tweet_data_labels=tweet_data_lang.sample(47000)\n",
        "tweet_data_labels['scores'] = tweet_data_labels['text'].apply(lambda text: sid.polarity_scores(text))\n",
        "tweet_data_labels['compound']  = tweet_data_labels['scores'].apply(lambda score_dict: score_dict['compound'])\n",
        "tweet_data_labels['comp_score'] = tweet_data_labels['compound'].apply(lambda c: score_to_sentiment(c))\n",
        "tweet_data_labels.drop(['scores', 'compound'], axis=1)\n",
        "\n",
        "tweet_data_labeled=pd.read_csv('tweet_data_labeled', lineterminator='\\n')\n",
        "\n",
        "tweet_data_labels=pd.concat([tweet_data_labels, tweet_data_labeled], ignore_index=True)"
      ]
    },
    {
      "cell_type": "code",
      "execution_count": null,
      "metadata": {
        "id": "QStixP9furp8"
      },
      "outputs": [],
      "source": [
        "tweet_data_labels.to_csv('tweet_data_labels', mode='w', index=False, header=True)"
      ]
    },
    {
      "cell_type": "code",
      "execution_count": null,
      "metadata": {
        "colab": {
          "base_uri": "https://localhost:8080/",
          "height": 175
        },
        "id": "NSCJHEHSvWjh",
        "outputId": "848e6871-7bf0-407a-a953-db3fd22c904d"
      },
      "outputs": [
        {
          "data": {
            "text/html": [
              "\n",
              "  <div id=\"df-ce7a775d-61c7-452a-8373-1cafdeb1682d\">\n",
              "    <div class=\"colab-df-container\">\n",
              "      <div>\n",
              "<style scoped>\n",
              "    .dataframe tbody tr th:only-of-type {\n",
              "        vertical-align: middle;\n",
              "    }\n",
              "\n",
              "    .dataframe tbody tr th {\n",
              "        vertical-align: top;\n",
              "    }\n",
              "\n",
              "    .dataframe thead th {\n",
              "        text-align: right;\n",
              "    }\n",
              "</style>\n",
              "<table border=\"1\" class=\"dataframe\">\n",
              "  <thead>\n",
              "    <tr style=\"text-align: right;\">\n",
              "      <th>comp_score</th>\n",
              "      <th>neg</th>\n",
              "      <th>neu</th>\n",
              "      <th>pos</th>\n",
              "    </tr>\n",
              "    <tr>\n",
              "      <th>comp_score</th>\n",
              "      <th></th>\n",
              "      <th></th>\n",
              "      <th></th>\n",
              "    </tr>\n",
              "  </thead>\n",
              "  <tbody>\n",
              "    <tr>\n",
              "      <th>neg</th>\n",
              "      <td>31.962</td>\n",
              "      <td>0.000</td>\n",
              "      <td>0.000</td>\n",
              "    </tr>\n",
              "    <tr>\n",
              "      <th>neu</th>\n",
              "      <td>0.000</td>\n",
              "      <td>32.382</td>\n",
              "      <td>0.000</td>\n",
              "    </tr>\n",
              "    <tr>\n",
              "      <th>pos</th>\n",
              "      <td>0.000</td>\n",
              "      <td>0.000</td>\n",
              "      <td>35.656</td>\n",
              "    </tr>\n",
              "  </tbody>\n",
              "</table>\n",
              "</div>\n",
              "      <button class=\"colab-df-convert\" onclick=\"convertToInteractive('df-ce7a775d-61c7-452a-8373-1cafdeb1682d')\"\n",
              "              title=\"Convert this dataframe to an interactive table.\"\n",
              "              style=\"display:none;\">\n",
              "        \n",
              "  <svg xmlns=\"http://www.w3.org/2000/svg\" height=\"24px\"viewBox=\"0 0 24 24\"\n",
              "       width=\"24px\">\n",
              "    <path d=\"M0 0h24v24H0V0z\" fill=\"none\"/>\n",
              "    <path d=\"M18.56 5.44l.94 2.06.94-2.06 2.06-.94-2.06-.94-.94-2.06-.94 2.06-2.06.94zm-11 1L8.5 8.5l.94-2.06 2.06-.94-2.06-.94L8.5 2.5l-.94 2.06-2.06.94zm10 10l.94 2.06.94-2.06 2.06-.94-2.06-.94-.94-2.06-.94 2.06-2.06.94z\"/><path d=\"M17.41 7.96l-1.37-1.37c-.4-.4-.92-.59-1.43-.59-.52 0-1.04.2-1.43.59L10.3 9.45l-7.72 7.72c-.78.78-.78 2.05 0 2.83L4 21.41c.39.39.9.59 1.41.59.51 0 1.02-.2 1.41-.59l7.78-7.78 2.81-2.81c.8-.78.8-2.07 0-2.86zM5.41 20L4 18.59l7.72-7.72 1.47 1.35L5.41 20z\"/>\n",
              "  </svg>\n",
              "      </button>\n",
              "      \n",
              "  <style>\n",
              "    .colab-df-container {\n",
              "      display:flex;\n",
              "      flex-wrap:wrap;\n",
              "      gap: 12px;\n",
              "    }\n",
              "\n",
              "    .colab-df-convert {\n",
              "      background-color: #E8F0FE;\n",
              "      border: none;\n",
              "      border-radius: 50%;\n",
              "      cursor: pointer;\n",
              "      display: none;\n",
              "      fill: #1967D2;\n",
              "      height: 32px;\n",
              "      padding: 0 0 0 0;\n",
              "      width: 32px;\n",
              "    }\n",
              "\n",
              "    .colab-df-convert:hover {\n",
              "      background-color: #E2EBFA;\n",
              "      box-shadow: 0px 1px 2px rgba(60, 64, 67, 0.3), 0px 1px 3px 1px rgba(60, 64, 67, 0.15);\n",
              "      fill: #174EA6;\n",
              "    }\n",
              "\n",
              "    [theme=dark] .colab-df-convert {\n",
              "      background-color: #3B4455;\n",
              "      fill: #D2E3FC;\n",
              "    }\n",
              "\n",
              "    [theme=dark] .colab-df-convert:hover {\n",
              "      background-color: #434B5C;\n",
              "      box-shadow: 0px 1px 3px 1px rgba(0, 0, 0, 0.15);\n",
              "      filter: drop-shadow(0px 1px 2px rgba(0, 0, 0, 0.3));\n",
              "      fill: #FFFFFF;\n",
              "    }\n",
              "  </style>\n",
              "\n",
              "      <script>\n",
              "        const buttonEl =\n",
              "          document.querySelector('#df-ce7a775d-61c7-452a-8373-1cafdeb1682d button.colab-df-convert');\n",
              "        buttonEl.style.display =\n",
              "          google.colab.kernel.accessAllowed ? 'block' : 'none';\n",
              "\n",
              "        async function convertToInteractive(key) {\n",
              "          const element = document.querySelector('#df-ce7a775d-61c7-452a-8373-1cafdeb1682d');\n",
              "          const dataTable =\n",
              "            await google.colab.kernel.invokeFunction('convertToInteractive',\n",
              "                                                     [key], {});\n",
              "          if (!dataTable) return;\n",
              "\n",
              "          const docLinkHtml = 'Like what you see? Visit the ' +\n",
              "            '<a target=\"_blank\" href=https://colab.research.google.com/notebooks/data_table.ipynb>data table notebook</a>'\n",
              "            + ' to learn more about interactive tables.';\n",
              "          element.innerHTML = '';\n",
              "          dataTable['output_type'] = 'display_data';\n",
              "          await google.colab.output.renderOutput(dataTable, element);\n",
              "          const docLink = document.createElement('div');\n",
              "          docLink.innerHTML = docLinkHtml;\n",
              "          element.appendChild(docLink);\n",
              "        }\n",
              "      </script>\n",
              "    </div>\n",
              "  </div>\n",
              "  "
            ],
            "text/plain": [
              "comp_score     neg     neu     pos\n",
              "comp_score                        \n",
              "neg         31.962   0.000   0.000\n",
              "neu          0.000  32.382   0.000\n",
              "pos          0.000   0.000  35.656"
            ]
          },
          "execution_count": 10,
          "metadata": {},
          "output_type": "execute_result"
        }
      ],
      "source": [
        "pd.crosstab(tweet_data_labels['comp_score'],tweet_data_labels['comp_score'], normalize='all')*100"
      ]
    },
    {
      "cell_type": "code",
      "execution_count": null,
      "metadata": {
        "colab": {
          "base_uri": "https://localhost:8080/",
          "height": 424
        },
        "id": "MwUYQ6TKlYpx",
        "outputId": "1bee9cde-10b7-404f-a8c1-292285527cc1"
      },
      "outputs": [
        {
          "data": {
            "text/html": [
              "\n",
              "  <div id=\"df-bd6e98ff-2e7e-42ae-93f4-cfba3d241db8\">\n",
              "    <div class=\"colab-df-container\">\n",
              "      <div>\n",
              "<style scoped>\n",
              "    .dataframe tbody tr th:only-of-type {\n",
              "        vertical-align: middle;\n",
              "    }\n",
              "\n",
              "    .dataframe tbody tr th {\n",
              "        vertical-align: top;\n",
              "    }\n",
              "\n",
              "    .dataframe thead th {\n",
              "        text-align: right;\n",
              "    }\n",
              "</style>\n",
              "<table border=\"1\" class=\"dataframe\">\n",
              "  <thead>\n",
              "    <tr style=\"text-align: right;\">\n",
              "      <th></th>\n",
              "      <th>date</th>\n",
              "      <th>text</th>\n",
              "      <th>scores</th>\n",
              "      <th>compound</th>\n",
              "      <th>comp_score</th>\n",
              "    </tr>\n",
              "  </thead>\n",
              "  <tbody>\n",
              "    <tr>\n",
              "      <th>200773</th>\n",
              "      <td>2020-03-27</td>\n",
              "      <td>How are Veterinary Clinics handling euthanasia...</td>\n",
              "      <td>{'neg': 0.0, 'neu': 1.0, 'pos': 0.0, 'compound...</td>\n",
              "      <td>0.0000</td>\n",
              "      <td>neu</td>\n",
              "    </tr>\n",
              "    <tr>\n",
              "      <th>3281928</th>\n",
              "      <td>2021-04-07</td>\n",
              "      <td>Officials: Covid surge at Pitt 'endangering ou...</td>\n",
              "      <td>{'neg': 0.0, 'neu': 1.0, 'pos': 0.0, 'compound...</td>\n",
              "      <td>0.0000</td>\n",
              "      <td>neu</td>\n",
              "    </tr>\n",
              "    <tr>\n",
              "      <th>3004755</th>\n",
              "      <td>2021-02-22</td>\n",
              "      <td>[Top Stories] - Covid lockdown: 'We are burnin...</td>\n",
              "      <td>{'neg': 0.0, 'neu': 1.0, 'pos': 0.0, 'compound...</td>\n",
              "      <td>0.0000</td>\n",
              "      <td>neu</td>\n",
              "    </tr>\n",
              "    <tr>\n",
              "      <th>365915</th>\n",
              "      <td>2020-04-14</td>\n",
              "      <td>So, How Does One Join This Covid-19 Cult?</td>\n",
              "      <td>{'neg': 0.0, 'neu': 0.761, 'pos': 0.239, 'comp...</td>\n",
              "      <td>0.2960</td>\n",
              "      <td>pos</td>\n",
              "    </tr>\n",
              "    <tr>\n",
              "      <th>2621917</th>\n",
              "      <td>2021-01-09</td>\n",
              "      <td>Anti-propaganda portal: COVID-19 Facebook misi...</td>\n",
              "      <td>{'neg': 0.247, 'neu': 0.753, 'pos': 0.0, 'comp...</td>\n",
              "      <td>-0.3182</td>\n",
              "      <td>neg</td>\n",
              "    </tr>\n",
              "    <tr>\n",
              "      <th>...</th>\n",
              "      <td>...</td>\n",
              "      <td>...</td>\n",
              "      <td>...</td>\n",
              "      <td>...</td>\n",
              "      <td>...</td>\n",
              "    </tr>\n",
              "    <tr>\n",
              "      <th>2494150</th>\n",
              "      <td>2020-12-27</td>\n",
              "      <td>Post-COVID Rest? [removed]</td>\n",
              "      <td>{'neg': 0.0, 'neu': 1.0, 'pos': 0.0, 'compound...</td>\n",
              "      <td>0.0000</td>\n",
              "      <td>neu</td>\n",
              "    </tr>\n",
              "    <tr>\n",
              "      <th>4343594</th>\n",
              "      <td>2021-08-30</td>\n",
              "      <td>Recovering from Delta, need help finding solid...</td>\n",
              "      <td>{'neg': 0.099, 'neu': 0.79, 'pos': 0.111, 'com...</td>\n",
              "      <td>0.6177</td>\n",
              "      <td>pos</td>\n",
              "    </tr>\n",
              "    <tr>\n",
              "      <th>2274125</th>\n",
              "      <td>2020-12-04</td>\n",
              "      <td>my grandpa is dying and reddit called me an as...</td>\n",
              "      <td>{'neg': 0.0, 'neu': 1.0, 'pos': 0.0, 'compound...</td>\n",
              "      <td>0.0000</td>\n",
              "      <td>neu</td>\n",
              "    </tr>\n",
              "    <tr>\n",
              "      <th>884123</th>\n",
              "      <td>2020-06-13</td>\n",
              "      <td>It’s his “lifestyle” [deleted]</td>\n",
              "      <td>{'neg': 0.0, 'neu': 1.0, 'pos': 0.0, 'compound...</td>\n",
              "      <td>0.0000</td>\n",
              "      <td>neu</td>\n",
              "    </tr>\n",
              "    <tr>\n",
              "      <th>2662811</th>\n",
              "      <td>2021-01-13</td>\n",
              "      <td>[PH] - UK variant of COVID-19 now in PH</td>\n",
              "      <td>{'neg': 0.0, 'neu': 1.0, 'pos': 0.0, 'compound...</td>\n",
              "      <td>0.0000</td>\n",
              "      <td>neu</td>\n",
              "    </tr>\n",
              "  </tbody>\n",
              "</table>\n",
              "<p>50000 rows × 5 columns</p>\n",
              "</div>\n",
              "      <button class=\"colab-df-convert\" onclick=\"convertToInteractive('df-bd6e98ff-2e7e-42ae-93f4-cfba3d241db8')\"\n",
              "              title=\"Convert this dataframe to an interactive table.\"\n",
              "              style=\"display:none;\">\n",
              "        \n",
              "  <svg xmlns=\"http://www.w3.org/2000/svg\" height=\"24px\"viewBox=\"0 0 24 24\"\n",
              "       width=\"24px\">\n",
              "    <path d=\"M0 0h24v24H0V0z\" fill=\"none\"/>\n",
              "    <path d=\"M18.56 5.44l.94 2.06.94-2.06 2.06-.94-2.06-.94-.94-2.06-.94 2.06-2.06.94zm-11 1L8.5 8.5l.94-2.06 2.06-.94-2.06-.94L8.5 2.5l-.94 2.06-2.06.94zm10 10l.94 2.06.94-2.06 2.06-.94-2.06-.94-.94-2.06-.94 2.06-2.06.94z\"/><path d=\"M17.41 7.96l-1.37-1.37c-.4-.4-.92-.59-1.43-.59-.52 0-1.04.2-1.43.59L10.3 9.45l-7.72 7.72c-.78.78-.78 2.05 0 2.83L4 21.41c.39.39.9.59 1.41.59.51 0 1.02-.2 1.41-.59l7.78-7.78 2.81-2.81c.8-.78.8-2.07 0-2.86zM5.41 20L4 18.59l7.72-7.72 1.47 1.35L5.41 20z\"/>\n",
              "  </svg>\n",
              "      </button>\n",
              "      \n",
              "  <style>\n",
              "    .colab-df-container {\n",
              "      display:flex;\n",
              "      flex-wrap:wrap;\n",
              "      gap: 12px;\n",
              "    }\n",
              "\n",
              "    .colab-df-convert {\n",
              "      background-color: #E8F0FE;\n",
              "      border: none;\n",
              "      border-radius: 50%;\n",
              "      cursor: pointer;\n",
              "      display: none;\n",
              "      fill: #1967D2;\n",
              "      height: 32px;\n",
              "      padding: 0 0 0 0;\n",
              "      width: 32px;\n",
              "    }\n",
              "\n",
              "    .colab-df-convert:hover {\n",
              "      background-color: #E2EBFA;\n",
              "      box-shadow: 0px 1px 2px rgba(60, 64, 67, 0.3), 0px 1px 3px 1px rgba(60, 64, 67, 0.15);\n",
              "      fill: #174EA6;\n",
              "    }\n",
              "\n",
              "    [theme=dark] .colab-df-convert {\n",
              "      background-color: #3B4455;\n",
              "      fill: #D2E3FC;\n",
              "    }\n",
              "\n",
              "    [theme=dark] .colab-df-convert:hover {\n",
              "      background-color: #434B5C;\n",
              "      box-shadow: 0px 1px 3px 1px rgba(0, 0, 0, 0.15);\n",
              "      filter: drop-shadow(0px 1px 2px rgba(0, 0, 0, 0.3));\n",
              "      fill: #FFFFFF;\n",
              "    }\n",
              "  </style>\n",
              "\n",
              "      <script>\n",
              "        const buttonEl =\n",
              "          document.querySelector('#df-bd6e98ff-2e7e-42ae-93f4-cfba3d241db8 button.colab-df-convert');\n",
              "        buttonEl.style.display =\n",
              "          google.colab.kernel.accessAllowed ? 'block' : 'none';\n",
              "\n",
              "        async function convertToInteractive(key) {\n",
              "          const element = document.querySelector('#df-bd6e98ff-2e7e-42ae-93f4-cfba3d241db8');\n",
              "          const dataTable =\n",
              "            await google.colab.kernel.invokeFunction('convertToInteractive',\n",
              "                                                     [key], {});\n",
              "          if (!dataTable) return;\n",
              "\n",
              "          const docLinkHtml = 'Like what you see? Visit the ' +\n",
              "            '<a target=\"_blank\" href=https://colab.research.google.com/notebooks/data_table.ipynb>data table notebook</a>'\n",
              "            + ' to learn more about interactive tables.';\n",
              "          element.innerHTML = '';\n",
              "          dataTable['output_type'] = 'display_data';\n",
              "          await google.colab.output.renderOutput(dataTable, element);\n",
              "          const docLink = document.createElement('div');\n",
              "          docLink.innerHTML = docLinkHtml;\n",
              "          element.appendChild(docLink);\n",
              "        }\n",
              "      </script>\n",
              "    </div>\n",
              "  </div>\n",
              "  "
            ],
            "text/plain": [
              "              date                                               text  \\\n",
              "200773  2020-03-27  How are Veterinary Clinics handling euthanasia...   \n",
              "3281928 2021-04-07  Officials: Covid surge at Pitt 'endangering ou...   \n",
              "3004755 2021-02-22  [Top Stories] - Covid lockdown: 'We are burnin...   \n",
              "365915  2020-04-14         So, How Does One Join This Covid-19 Cult?    \n",
              "2621917 2021-01-09  Anti-propaganda portal: COVID-19 Facebook misi...   \n",
              "...            ...                                                ...   \n",
              "2494150 2020-12-27                         Post-COVID Rest? [removed]   \n",
              "4343594 2021-08-30  Recovering from Delta, need help finding solid...   \n",
              "2274125 2020-12-04  my grandpa is dying and reddit called me an as...   \n",
              "884123  2020-06-13                     It’s his “lifestyle” [deleted]   \n",
              "2662811 2021-01-13           [PH] - UK variant of COVID-19 now in PH    \n",
              "\n",
              "                                                    scores  compound  \\\n",
              "200773   {'neg': 0.0, 'neu': 1.0, 'pos': 0.0, 'compound...    0.0000   \n",
              "3281928  {'neg': 0.0, 'neu': 1.0, 'pos': 0.0, 'compound...    0.0000   \n",
              "3004755  {'neg': 0.0, 'neu': 1.0, 'pos': 0.0, 'compound...    0.0000   \n",
              "365915   {'neg': 0.0, 'neu': 0.761, 'pos': 0.239, 'comp...    0.2960   \n",
              "2621917  {'neg': 0.247, 'neu': 0.753, 'pos': 0.0, 'comp...   -0.3182   \n",
              "...                                                    ...       ...   \n",
              "2494150  {'neg': 0.0, 'neu': 1.0, 'pos': 0.0, 'compound...    0.0000   \n",
              "4343594  {'neg': 0.099, 'neu': 0.79, 'pos': 0.111, 'com...    0.6177   \n",
              "2274125  {'neg': 0.0, 'neu': 1.0, 'pos': 0.0, 'compound...    0.0000   \n",
              "884123   {'neg': 0.0, 'neu': 1.0, 'pos': 0.0, 'compound...    0.0000   \n",
              "2662811  {'neg': 0.0, 'neu': 1.0, 'pos': 0.0, 'compound...    0.0000   \n",
              "\n",
              "        comp_score  \n",
              "200773         neu  \n",
              "3281928        neu  \n",
              "3004755        neu  \n",
              "365915         pos  \n",
              "2621917        neg  \n",
              "...            ...  \n",
              "2494150        neu  \n",
              "4343594        pos  \n",
              "2274125        neu  \n",
              "884123         neu  \n",
              "2662811        neu  \n",
              "\n",
              "[50000 rows x 5 columns]"
            ]
          },
          "execution_count": 11,
          "metadata": {},
          "output_type": "execute_result"
        }
      ],
      "source": [
        "reddit_data_lang=pd.read_csv('reddit_data_combined', header=None)\n",
        "reddit_data_lang.columns=['date', 'text']\n",
        "reddit_data_lang=reddit_data_lang.dropna()\n",
        "reddit_data_lang['date']=reddit_data_lang['date'].str[:10]+' '+reddit_data_lang['date'].str[11:19]\n",
        "reddit_data_lang['date']=pd.to_datetime(reddit_data_lang['date'])\n",
        "\n",
        "reddit_data_labels=reddit_data_lang.sample(50000)\n",
        "reddit_data_labels['scores'] = reddit_data_labels['text'].apply(lambda text: sid.polarity_scores(text))\n",
        "reddit_data_labels['compound']  = reddit_data_labels['scores'].apply(lambda score_dict: score_dict['compound'])\n",
        "reddit_data_labels['comp_score'] = reddit_data_labels['compound'].apply(lambda c: score_to_sentiment(c))\n",
        "reddit_data_labels.drop(['scores', 'compound'], axis=1)\n",
        "\n",
        "reddit_data_labeled=pd.read_csv('reddit_data_labeled', lineterminator='\\n')\n",
        "\n",
        "reddit_data_labeled=pd.concat([reddit_data_labels, reddit_data_labeled], ignore_index=True)\n",
        "\n",
        "reddit_data_labels"
      ]
    },
    {
      "cell_type": "code",
      "execution_count": null,
      "metadata": {
        "id": "C45w2xUVlYpx"
      },
      "outputs": [],
      "source": [
        "reddit_data_labels.to_csv('reddit_data_labels', mode='w', index=False, header=True)"
      ]
    },
    {
      "cell_type": "code",
      "execution_count": null,
      "metadata": {
        "colab": {
          "base_uri": "https://localhost:8080/",
          "height": 175
        },
        "id": "AkuUw9iGlYpx",
        "outputId": "a143b46b-f4bb-4263-8a01-8bcc8d541cc7"
      },
      "outputs": [
        {
          "data": {
            "text/html": [
              "\n",
              "  <div id=\"df-615ebe40-24f8-4e60-be4b-c366543cc012\">\n",
              "    <div class=\"colab-df-container\">\n",
              "      <div>\n",
              "<style scoped>\n",
              "    .dataframe tbody tr th:only-of-type {\n",
              "        vertical-align: middle;\n",
              "    }\n",
              "\n",
              "    .dataframe tbody tr th {\n",
              "        vertical-align: top;\n",
              "    }\n",
              "\n",
              "    .dataframe thead th {\n",
              "        text-align: right;\n",
              "    }\n",
              "</style>\n",
              "<table border=\"1\" class=\"dataframe\">\n",
              "  <thead>\n",
              "    <tr style=\"text-align: right;\">\n",
              "      <th>comp_score</th>\n",
              "      <th>neg</th>\n",
              "      <th>neu</th>\n",
              "      <th>pos</th>\n",
              "    </tr>\n",
              "    <tr>\n",
              "      <th>comp_score</th>\n",
              "      <th></th>\n",
              "      <th></th>\n",
              "      <th></th>\n",
              "    </tr>\n",
              "  </thead>\n",
              "  <tbody>\n",
              "    <tr>\n",
              "      <th>neg</th>\n",
              "      <td>25.572</td>\n",
              "      <td>0.000</td>\n",
              "      <td>0.000</td>\n",
              "    </tr>\n",
              "    <tr>\n",
              "      <th>neu</th>\n",
              "      <td>0.000</td>\n",
              "      <td>42.234</td>\n",
              "      <td>0.000</td>\n",
              "    </tr>\n",
              "    <tr>\n",
              "      <th>pos</th>\n",
              "      <td>0.000</td>\n",
              "      <td>0.000</td>\n",
              "      <td>32.194</td>\n",
              "    </tr>\n",
              "  </tbody>\n",
              "</table>\n",
              "</div>\n",
              "      <button class=\"colab-df-convert\" onclick=\"convertToInteractive('df-615ebe40-24f8-4e60-be4b-c366543cc012')\"\n",
              "              title=\"Convert this dataframe to an interactive table.\"\n",
              "              style=\"display:none;\">\n",
              "        \n",
              "  <svg xmlns=\"http://www.w3.org/2000/svg\" height=\"24px\"viewBox=\"0 0 24 24\"\n",
              "       width=\"24px\">\n",
              "    <path d=\"M0 0h24v24H0V0z\" fill=\"none\"/>\n",
              "    <path d=\"M18.56 5.44l.94 2.06.94-2.06 2.06-.94-2.06-.94-.94-2.06-.94 2.06-2.06.94zm-11 1L8.5 8.5l.94-2.06 2.06-.94-2.06-.94L8.5 2.5l-.94 2.06-2.06.94zm10 10l.94 2.06.94-2.06 2.06-.94-2.06-.94-.94-2.06-.94 2.06-2.06.94z\"/><path d=\"M17.41 7.96l-1.37-1.37c-.4-.4-.92-.59-1.43-.59-.52 0-1.04.2-1.43.59L10.3 9.45l-7.72 7.72c-.78.78-.78 2.05 0 2.83L4 21.41c.39.39.9.59 1.41.59.51 0 1.02-.2 1.41-.59l7.78-7.78 2.81-2.81c.8-.78.8-2.07 0-2.86zM5.41 20L4 18.59l7.72-7.72 1.47 1.35L5.41 20z\"/>\n",
              "  </svg>\n",
              "      </button>\n",
              "      \n",
              "  <style>\n",
              "    .colab-df-container {\n",
              "      display:flex;\n",
              "      flex-wrap:wrap;\n",
              "      gap: 12px;\n",
              "    }\n",
              "\n",
              "    .colab-df-convert {\n",
              "      background-color: #E8F0FE;\n",
              "      border: none;\n",
              "      border-radius: 50%;\n",
              "      cursor: pointer;\n",
              "      display: none;\n",
              "      fill: #1967D2;\n",
              "      height: 32px;\n",
              "      padding: 0 0 0 0;\n",
              "      width: 32px;\n",
              "    }\n",
              "\n",
              "    .colab-df-convert:hover {\n",
              "      background-color: #E2EBFA;\n",
              "      box-shadow: 0px 1px 2px rgba(60, 64, 67, 0.3), 0px 1px 3px 1px rgba(60, 64, 67, 0.15);\n",
              "      fill: #174EA6;\n",
              "    }\n",
              "\n",
              "    [theme=dark] .colab-df-convert {\n",
              "      background-color: #3B4455;\n",
              "      fill: #D2E3FC;\n",
              "    }\n",
              "\n",
              "    [theme=dark] .colab-df-convert:hover {\n",
              "      background-color: #434B5C;\n",
              "      box-shadow: 0px 1px 3px 1px rgba(0, 0, 0, 0.15);\n",
              "      filter: drop-shadow(0px 1px 2px rgba(0, 0, 0, 0.3));\n",
              "      fill: #FFFFFF;\n",
              "    }\n",
              "  </style>\n",
              "\n",
              "      <script>\n",
              "        const buttonEl =\n",
              "          document.querySelector('#df-615ebe40-24f8-4e60-be4b-c366543cc012 button.colab-df-convert');\n",
              "        buttonEl.style.display =\n",
              "          google.colab.kernel.accessAllowed ? 'block' : 'none';\n",
              "\n",
              "        async function convertToInteractive(key) {\n",
              "          const element = document.querySelector('#df-615ebe40-24f8-4e60-be4b-c366543cc012');\n",
              "          const dataTable =\n",
              "            await google.colab.kernel.invokeFunction('convertToInteractive',\n",
              "                                                     [key], {});\n",
              "          if (!dataTable) return;\n",
              "\n",
              "          const docLinkHtml = 'Like what you see? Visit the ' +\n",
              "            '<a target=\"_blank\" href=https://colab.research.google.com/notebooks/data_table.ipynb>data table notebook</a>'\n",
              "            + ' to learn more about interactive tables.';\n",
              "          element.innerHTML = '';\n",
              "          dataTable['output_type'] = 'display_data';\n",
              "          await google.colab.output.renderOutput(dataTable, element);\n",
              "          const docLink = document.createElement('div');\n",
              "          docLink.innerHTML = docLinkHtml;\n",
              "          element.appendChild(docLink);\n",
              "        }\n",
              "      </script>\n",
              "    </div>\n",
              "  </div>\n",
              "  "
            ],
            "text/plain": [
              "comp_score     neg     neu     pos\n",
              "comp_score                        \n",
              "neg         25.572   0.000   0.000\n",
              "neu          0.000  42.234   0.000\n",
              "pos          0.000   0.000  32.194"
            ]
          },
          "execution_count": 13,
          "metadata": {},
          "output_type": "execute_result"
        }
      ],
      "source": [
        "pd.crosstab(reddit_data_labels['comp_score'],reddit_data_labels['comp_score'], normalize='all')*100"
      ]
    },
    {
      "cell_type": "markdown",
      "metadata": {
        "id": "WXZ3ZPQFujHf"
      },
      "source": [
        "# Imports"
      ]
    },
    {
      "cell_type": "markdown",
      "metadata": {
        "id": "TXwMXh60ujHm"
      },
      "source": [
        "# Data importing"
      ]
    },
    {
      "cell_type": "code",
      "execution_count": null,
      "metadata": {
        "id": "X46QgDpQmkMl"
      },
      "outputs": [],
      "source": [
        "tweet_data_labels=pd.read_csv('tweet_data_labels', lineterminator='\\n')\n",
        "tweet_data_labels=tweet_data_labels.dropna()\n",
        "tweet_data_labels['date']=tweet_data_labels['date'].str[:10]+' '+tweet_data_labels['date'].str[11:19]\n",
        "tweet_data_labels['date']=pd.to_datetime(tweet_data_labels['date'])"
      ]
    },
    {
      "cell_type": "code",
      "execution_count": null,
      "metadata": {
        "id": "G4liChmSmjrX"
      },
      "outputs": [],
      "source": [
        "reddit_data_labels=pd.read_csv('reddit_data_labels', lineterminator='\\n')\n",
        "reddit_data_labels=reddit_data_labels.dropna()\n",
        "reddit_data_labels['date']=reddit_data_labels['date'].str[:10]+' '+reddit_data_labels['date'].str[11:19]\n",
        "reddit_data_labels['date']=pd.to_datetime(reddit_data_labels['date'])"
      ]
    },
    {
      "cell_type": "markdown",
      "metadata": {
        "id": "AF7foqLJujHq"
      },
      "source": [
        "# Data exploration"
      ]
    },
    {
      "cell_type": "code",
      "execution_count": null,
      "metadata": {
        "colab": {
          "base_uri": "https://localhost:8080/",
          "height": 52
        },
        "id": "6emgjB-XujHu",
        "outputId": "0333d0e3-4332-4610-ec5c-17a9ec582259"
      },
      "outputs": [
        {
          "output_type": "display_data",
          "data": {
            "text/plain": [
              "50000"
            ]
          },
          "metadata": {}
        },
        {
          "output_type": "execute_result",
          "data": {
            "text/plain": [
              "50000"
            ]
          },
          "metadata": {},
          "execution_count": 10
        }
      ],
      "source": [
        "#Let's get the dataset lenght\n",
        "display(len(tweet_data_labels))\n",
        "len(reddit_data_labels)"
      ]
    },
    {
      "cell_type": "code",
      "execution_count": null,
      "metadata": {
        "colab": {
          "base_uri": "https://localhost:8080/",
          "height": 52
        },
        "id": "lDCLUFpvujHx",
        "outputId": "c775d292-977d-4d65-ab9d-a43554abce37"
      },
      "outputs": [
        {
          "output_type": "display_data",
          "data": {
            "text/plain": [
              "array(['neg', 'pos', 'neu'], dtype=object)"
            ]
          },
          "metadata": {}
        },
        {
          "output_type": "execute_result",
          "data": {
            "text/plain": [
              "array(['neu', 'pos', 'neg'], dtype=object)"
            ]
          },
          "metadata": {},
          "execution_count": 11
        }
      ],
      "source": [
        "display(tweet_data_labels['comp_score'].unique())\n",
        "reddit_data_labels['comp_score'].unique()"
      ]
    },
    {
      "cell_type": "markdown",
      "metadata": {
        "id": "ARP-k7LSujH0"
      },
      "source": [
        "# Data cleaning\n",
        "\n",
        "Even when the dataset is a little bit biased, we'll keep it this way because the differences are not significant."
      ]
    },
    {
      "cell_type": "code",
      "execution_count": null,
      "metadata": {
        "colab": {
          "base_uri": "https://localhost:8080/",
          "height": 206
        },
        "id": "wwbOSVRNujH0",
        "outputId": "a7fe29ac-0364-42bf-ecb7-a80f46a6e246"
      },
      "outputs": [
        {
          "output_type": "execute_result",
          "data": {
            "text/plain": [
              "                                                text comp_score\n",
              "0  The grief watching some people and businesses ...        neg\n",
              "1  I got the covid vaccine and I feel like shit, ...        pos\n",
              "2  @KCGrock @Momifornia1 @LondonBreed Please sign...        pos\n",
              "3  Re-upping what I said in 2020…\\n\\nI swear, if ...        neu\n",
              "4                            https://t.co/J03PLS8U87        neu"
            ],
            "text/html": [
              "\n",
              "  <div id=\"df-d9b18c85-d950-4822-80bf-8b45bed31c99\">\n",
              "    <div class=\"colab-df-container\">\n",
              "      <div>\n",
              "<style scoped>\n",
              "    .dataframe tbody tr th:only-of-type {\n",
              "        vertical-align: middle;\n",
              "    }\n",
              "\n",
              "    .dataframe tbody tr th {\n",
              "        vertical-align: top;\n",
              "    }\n",
              "\n",
              "    .dataframe thead th {\n",
              "        text-align: right;\n",
              "    }\n",
              "</style>\n",
              "<table border=\"1\" class=\"dataframe\">\n",
              "  <thead>\n",
              "    <tr style=\"text-align: right;\">\n",
              "      <th></th>\n",
              "      <th>text</th>\n",
              "      <th>comp_score</th>\n",
              "    </tr>\n",
              "  </thead>\n",
              "  <tbody>\n",
              "    <tr>\n",
              "      <th>0</th>\n",
              "      <td>The grief watching some people and businesses ...</td>\n",
              "      <td>neg</td>\n",
              "    </tr>\n",
              "    <tr>\n",
              "      <th>1</th>\n",
              "      <td>I got the covid vaccine and I feel like shit, ...</td>\n",
              "      <td>pos</td>\n",
              "    </tr>\n",
              "    <tr>\n",
              "      <th>2</th>\n",
              "      <td>@KCGrock @Momifornia1 @LondonBreed Please sign...</td>\n",
              "      <td>pos</td>\n",
              "    </tr>\n",
              "    <tr>\n",
              "      <th>3</th>\n",
              "      <td>Re-upping what I said in 2020…\\n\\nI swear, if ...</td>\n",
              "      <td>neu</td>\n",
              "    </tr>\n",
              "    <tr>\n",
              "      <th>4</th>\n",
              "      <td>https://t.co/J03PLS8U87</td>\n",
              "      <td>neu</td>\n",
              "    </tr>\n",
              "  </tbody>\n",
              "</table>\n",
              "</div>\n",
              "      <button class=\"colab-df-convert\" onclick=\"convertToInteractive('df-d9b18c85-d950-4822-80bf-8b45bed31c99')\"\n",
              "              title=\"Convert this dataframe to an interactive table.\"\n",
              "              style=\"display:none;\">\n",
              "        \n",
              "  <svg xmlns=\"http://www.w3.org/2000/svg\" height=\"24px\"viewBox=\"0 0 24 24\"\n",
              "       width=\"24px\">\n",
              "    <path d=\"M0 0h24v24H0V0z\" fill=\"none\"/>\n",
              "    <path d=\"M18.56 5.44l.94 2.06.94-2.06 2.06-.94-2.06-.94-.94-2.06-.94 2.06-2.06.94zm-11 1L8.5 8.5l.94-2.06 2.06-.94-2.06-.94L8.5 2.5l-.94 2.06-2.06.94zm10 10l.94 2.06.94-2.06 2.06-.94-2.06-.94-.94-2.06-.94 2.06-2.06.94z\"/><path d=\"M17.41 7.96l-1.37-1.37c-.4-.4-.92-.59-1.43-.59-.52 0-1.04.2-1.43.59L10.3 9.45l-7.72 7.72c-.78.78-.78 2.05 0 2.83L4 21.41c.39.39.9.59 1.41.59.51 0 1.02-.2 1.41-.59l7.78-7.78 2.81-2.81c.8-.78.8-2.07 0-2.86zM5.41 20L4 18.59l7.72-7.72 1.47 1.35L5.41 20z\"/>\n",
              "  </svg>\n",
              "      </button>\n",
              "      \n",
              "  <style>\n",
              "    .colab-df-container {\n",
              "      display:flex;\n",
              "      flex-wrap:wrap;\n",
              "      gap: 12px;\n",
              "    }\n",
              "\n",
              "    .colab-df-convert {\n",
              "      background-color: #E8F0FE;\n",
              "      border: none;\n",
              "      border-radius: 50%;\n",
              "      cursor: pointer;\n",
              "      display: none;\n",
              "      fill: #1967D2;\n",
              "      height: 32px;\n",
              "      padding: 0 0 0 0;\n",
              "      width: 32px;\n",
              "    }\n",
              "\n",
              "    .colab-df-convert:hover {\n",
              "      background-color: #E2EBFA;\n",
              "      box-shadow: 0px 1px 2px rgba(60, 64, 67, 0.3), 0px 1px 3px 1px rgba(60, 64, 67, 0.15);\n",
              "      fill: #174EA6;\n",
              "    }\n",
              "\n",
              "    [theme=dark] .colab-df-convert {\n",
              "      background-color: #3B4455;\n",
              "      fill: #D2E3FC;\n",
              "    }\n",
              "\n",
              "    [theme=dark] .colab-df-convert:hover {\n",
              "      background-color: #434B5C;\n",
              "      box-shadow: 0px 1px 3px 1px rgba(0, 0, 0, 0.15);\n",
              "      filter: drop-shadow(0px 1px 2px rgba(0, 0, 0, 0.3));\n",
              "      fill: #FFFFFF;\n",
              "    }\n",
              "  </style>\n",
              "\n",
              "      <script>\n",
              "        const buttonEl =\n",
              "          document.querySelector('#df-d9b18c85-d950-4822-80bf-8b45bed31c99 button.colab-df-convert');\n",
              "        buttonEl.style.display =\n",
              "          google.colab.kernel.accessAllowed ? 'block' : 'none';\n",
              "\n",
              "        async function convertToInteractive(key) {\n",
              "          const element = document.querySelector('#df-d9b18c85-d950-4822-80bf-8b45bed31c99');\n",
              "          const dataTable =\n",
              "            await google.colab.kernel.invokeFunction('convertToInteractive',\n",
              "                                                     [key], {});\n",
              "          if (!dataTable) return;\n",
              "\n",
              "          const docLinkHtml = 'Like what you see? Visit the ' +\n",
              "            '<a target=\"_blank\" href=https://colab.research.google.com/notebooks/data_table.ipynb>data table notebook</a>'\n",
              "            + ' to learn more about interactive tables.';\n",
              "          element.innerHTML = '';\n",
              "          dataTable['output_type'] = 'display_data';\n",
              "          await google.colab.output.renderOutput(dataTable, element);\n",
              "          const docLink = document.createElement('div');\n",
              "          docLink.innerHTML = docLinkHtml;\n",
              "          element.appendChild(docLink);\n",
              "        }\n",
              "      </script>\n",
              "    </div>\n",
              "  </div>\n",
              "  "
            ]
          },
          "metadata": {},
          "execution_count": 12
        }
      ],
      "source": [
        "#Let's keep only the columns that we're going to use\n",
        "train_tweet = tweet_data_labels[['text','comp_score']]\n",
        "train_reddit = reddit_data_labels[['text','comp_score']]\n",
        "\n",
        "train=pd.concat([train_tweet, train_reddit], ignore_index=True)\n",
        "train.head()"
      ]
    },
    {
      "cell_type": "code",
      "execution_count": null,
      "metadata": {
        "colab": {
          "base_uri": "https://localhost:8080/"
        },
        "id": "yhFggggyujH1",
        "outputId": "0e387462-9e34-4b90-a914-96d861228360"
      },
      "outputs": [
        {
          "output_type": "execute_result",
          "data": {
            "text/plain": [
              "0"
            ]
          },
          "metadata": {},
          "execution_count": 13
        }
      ],
      "source": [
        "#Is there any null value?\n",
        "train[\"text\"].isnull().sum()"
      ]
    },
    {
      "cell_type": "code",
      "execution_count": null,
      "metadata": {
        "id": "SDfs8mINujH2"
      },
      "outputs": [],
      "source": [
        "#Let's fill the only null value.\n",
        "train[\"selected_text\"].fillna(\"No content\", inplace = True)\n",
        "train[\"text\"]=train[\"selected_text\"]"
      ]
    },
    {
      "cell_type": "markdown",
      "metadata": {
        "id": "glAPHSj-ujH3"
      },
      "source": [
        "### The next steps about data cleaning will be:\n",
        "\n",
        "* Remove URLs from the tweets\n",
        "* Tokenize text\n",
        "* Remove emails\n",
        "* Remove new lines characters\n",
        "* Remove distracting single quotes\n",
        "* Remove all punctuation signs\n",
        "* Lowercase all text\n",
        "* Detokenize text\n",
        "* Convert list of texts to Numpy array"
      ]
    },
    {
      "cell_type": "markdown",
      "metadata": {
        "id": "Wk-IYYuzujIG"
      },
      "source": [
        "# Data cleaning sequencing and splitting\n",
        "\n",
        "We'll implement the Keras tokenizer as well as its pad_sequences method to transform our text data into 3D float data, otherwise our neural networks won't be able to be trained on it."
      ]
    },
    {
      "cell_type": "code",
      "execution_count": null,
      "metadata": {
        "id": "vopLjun34iJc"
      },
      "outputs": [],
      "source": [
        "def depure_data(data):\n",
        "    #Removing URLs with a regular expression\n",
        "    url_pattern = re.compile(r'https?://\\S+|www\\.\\S+')\n",
        "    data = url_pattern.sub(r'', data)\n",
        "    # Remove Emails\n",
        "    data = re.sub('\\S*@\\S*\\s?', '', data)\n",
        "    # Remove new line characters\n",
        "    data = re.sub('\\s+', ' ', data)\n",
        "    # Remove distracting single quotes\n",
        "    data = re.sub(\"\\'\", \"\", data)\n",
        "    # Remove punctuations    \n",
        "    data = re.sub(r'[^\\w\\s]', '', data) \n",
        "    return data\n",
        "\n",
        "def sent_to_words(sentences):\n",
        "    for sentence in sentences:\n",
        "        yield(gensim.utils.simple_preprocess(str(sentence), deacc=True))  # deacc=True removes punctuations\n",
        "\n",
        "def make_sequence(data):\n",
        "  max_words = 5000\n",
        "  max_len = 200\n",
        "  tokenizer = Tokenizer(num_words=max_words)\n",
        "  tokenizer.fit_on_texts(data)\n",
        "  sequences = tokenizer.texts_to_sequences(data)\n",
        "  tweets = pad_sequences(sequences, maxlen=max_len)\n",
        "  return tweets\n",
        "\n",
        "def detokenize(text):\n",
        "    return TreebankWordDetokenizer().detokenize(text)\n",
        "\n",
        "def cleanup_data(data):\n",
        "  temp = []\n",
        "  data_to_list = data['text'].values.tolist()\n",
        "  for i in range(len(data_to_list)):\n",
        "    temp.append(depure_data(data_to_list[i].lower()))\n",
        "  data_words = list(sent_to_words(temp))\n",
        "  data = []\n",
        "  for i in range(len(data_words)):\n",
        "    data.append(detokenize(data_words[i]))\n",
        "  tweets=make_sequence(data)\n",
        "  return tweets"
      ]
    },
    {
      "cell_type": "code",
      "execution_count": null,
      "metadata": {
        "id": "5xhr3epdTbC1"
      },
      "outputs": [],
      "source": [
        "tweets=cleanup_data(train)"
      ]
    },
    {
      "cell_type": "code",
      "execution_count": null,
      "metadata": {
        "colab": {
          "base_uri": "https://localhost:8080/"
        },
        "id": "KWKGp0TakK42",
        "outputId": "63172a4b-b826-4e70-9347-75c74762abfa"
      },
      "outputs": [
        {
          "output_type": "execute_result",
          "data": {
            "text/plain": [
              "array([[   0,    0,    0, ...,    2,   88,   37],\n",
              "       [   0,    0,    0, ...,  204,   13,  388],\n",
              "       [   0,    0,    0, ...,  356,   13, 3022],\n",
              "       ...,\n",
              "       [   0,    0,    0, ...,  193,  601,   76],\n",
              "       [   0,    0,    0, ...,   73, 2808,   76],\n",
              "       [   0,    0,    0, ...,   57,    6, 3534]], dtype=int32)"
            ]
          },
          "metadata": {},
          "execution_count": 16
        }
      ],
      "source": [
        "tweets"
      ]
    },
    {
      "cell_type": "markdown",
      "metadata": {
        "id": "9JJPzFsqujH-"
      },
      "source": [
        "# Label encoding\n",
        "\n",
        "As the dataset is categorical, we need to convert the sentiment labels from Neutral, Negative and Positive to a float type that our model can understand. To achieve this task, we'll implement the to_categorical method from Keras."
      ]
    },
    {
      "cell_type": "code",
      "execution_count": null,
      "metadata": {
        "id": "F3ZqW62KujH_"
      },
      "outputs": [],
      "source": [
        "labels = np.array(train['comp_score'])\n",
        "y = []\n",
        "for i in range(len(labels)):\n",
        "    if labels[i] == 'neu':\n",
        "        y.append(0)\n",
        "    if labels[i] == 'neg':\n",
        "        y.append(1)\n",
        "    if labels[i] == 'pos':\n",
        "        y.append(2)\n",
        "y = np.array(y)\n",
        "labels = tf.keras.utils.to_categorical(y, 3, dtype=\"float32\")\n",
        "del y"
      ]
    },
    {
      "cell_type": "code",
      "execution_count": null,
      "metadata": {
        "colab": {
          "base_uri": "https://localhost:8080/"
        },
        "id": "m1woEu6_ujIL",
        "outputId": "02456f47-7c3d-41ee-8cf1-2dba0067b228"
      },
      "outputs": [
        {
          "output_type": "stream",
          "name": "stdout",
          "text": [
            "75000 25000 75000 25000\n"
          ]
        }
      ],
      "source": [
        "#Splitting the data\n",
        "X_train, X_test, y_train, y_test = train_test_split(tweets,labels, random_state=7, shuffle=True)\n",
        "print (len(X_train),len(X_test),len(y_train),len(y_test))"
      ]
    },
    {
      "cell_type": "markdown",
      "metadata": {
        "id": "2IwFNZBKujIQ"
      },
      "source": [
        "## Bidirectional LTSM model"
      ]
    },
    {
      "cell_type": "code",
      "execution_count": null,
      "metadata": {
        "id": "ffGTqeP_dwe3"
      },
      "outputs": [],
      "source": [
        "# Creating Attention for LSTM\n",
        "\n",
        "from keras.layers import Layer\n",
        "from keras import backend as K, initializers, regularizers, constraints\n",
        "\n",
        "def dot_product(x, kernel):\n",
        "    \"\"\"\n",
        "    Wrapper for dot product operation, in order to be compatible with both\n",
        "    Theano and Tensorflow\n",
        "    Args:\n",
        "        x (): input\n",
        "        kernel (): weights\n",
        "    Returns:\n",
        "    \"\"\"\n",
        "    if K.backend() == 'tensorflow':\n",
        "        # todo: check that this is correct\n",
        "        return K.squeeze(K.dot(x, K.expand_dims(kernel)), axis=-1)\n",
        "    else:\n",
        "        return K.dot(x, kernel)\n",
        "\n",
        "\n",
        "class Attention(Layer):\n",
        "    def __init__(self,\n",
        "                 W_regularizer=None, b_regularizer=None,\n",
        "                 W_constraint=None, b_constraint=None,\n",
        "                 bias=True,\n",
        "                 return_attention=False,\n",
        "                 **kwargs):\n",
        "        \"\"\"\n",
        "        Keras Layer that implements an Attention mechanism for temporal data.\n",
        "        Supports Masking.\n",
        "        Follows the work of Raffel et al. [https://arxiv.org/abs/1512.08756]\n",
        "        # Input shape\n",
        "            3D tensor with shape: `(samples, steps, features)`.\n",
        "        # Output shape\n",
        "            2D tensor with shape: `(samples, features)`.\n",
        "        :param kwargs:\n",
        "        Just put it on top of an RNN Layer (GRU/LSTM/SimpleRNN) with return_sequences=True.\n",
        "        The dimensions are inferred based on the output shape of the RNN.\n",
        "        Note: The layer has been tested with Keras 1.x\n",
        "        Example:\n",
        "        \n",
        "            # 1\n",
        "            model.add(LSTM(64, return_sequences=True))\n",
        "            model.add(Attention())\n",
        "            # next add a Dense layer (for classification/regression) or whatever...\n",
        "            # 2 - Get the attention scores\n",
        "            hidden = LSTM(64, return_sequences=True)(words)\n",
        "            sentence, word_scores = Attention(return_attention=True)(hidden)\n",
        "        \"\"\"\n",
        "        self.supports_masking = True\n",
        "        self.return_attention = return_attention\n",
        "        self.init = initializers.get('glorot_uniform')\n",
        "\n",
        "        self.W_regularizer = regularizers.get(W_regularizer)\n",
        "        self.b_regularizer = regularizers.get(b_regularizer)\n",
        "\n",
        "        self.W_constraint = constraints.get(W_constraint)\n",
        "        self.b_constraint = constraints.get(b_constraint)\n",
        "\n",
        "        self.bias = bias\n",
        "        super(Attention, self).__init__(**kwargs)\n",
        "\n",
        "    def get_config(self):\n",
        "        config = super().get_config()\n",
        "        config.update({\n",
        "            \"W_regularizer\": self.W_regularizer,\n",
        "            \"b_regularizer\": self.b_regularizer,\n",
        "            \"W_constraint\": self.W_constraint,\n",
        "            \"b_constraint\": self.b_constraint,\n",
        "            \"bias\": self.bias,\n",
        "            \"return_attention\": self.return_attention,\n",
        "        })\n",
        "        return config\n",
        "\n",
        "    def build(self, input_shape):\n",
        "        assert len(input_shape) == 3\n",
        "\n",
        "        self.W = self.add_weight(shape=(input_shape[-1],),\n",
        "                                 initializer=self.init,\n",
        "                                 name='{}_W'.format(self.name),\n",
        "                                 regularizer=self.W_regularizer,\n",
        "                                 constraint=self.W_constraint)\n",
        "        if self.bias:\n",
        "            self.b = self.add_weight(shape=(input_shape[1],),\n",
        "                                     initializer='zero',\n",
        "                                     name='{}_b'.format(self.name),\n",
        "                                     regularizer=self.b_regularizer,\n",
        "                                     constraint=self.b_constraint)\n",
        "        else:\n",
        "            self.b = None\n",
        "\n",
        "        self.built = True\n",
        "\n",
        "    def compute_mask(self, input, input_mask=None):\n",
        "        # do not pass the mask to the next layers\n",
        "        return None\n",
        "\n",
        "    def call(self, x, mask=None):\n",
        "        eij = dot_product(x, self.W)\n",
        "\n",
        "        if self.bias:\n",
        "            eij += self.b\n",
        "\n",
        "        eij = K.tanh(eij)\n",
        "\n",
        "        a = K.exp(eij)\n",
        "\n",
        "        # apply mask after the exp. will be re-normalized next\n",
        "        if mask is not None:\n",
        "            # Cast the mask to floatX to avoid float64 upcasting in theano\n",
        "            a *= K.cast(mask, K.floatx())\n",
        "\n",
        "        # in some cases especially in the early stages of training the sum may be almost zero\n",
        "        # and this results in NaN's. A workaround is to add a very small positive number to the sum.\n",
        "        # a /= K.cast(K.sum(a, axis=1, keepdims=True), K.floatx())\n",
        "        a /= K.cast(K.sum(a, axis=1, keepdims=True) + K.epsilon(), K.floatx())\n",
        "\n",
        "        weighted_input = x * K.expand_dims(a)\n",
        "\n",
        "        result = K.sum(weighted_input, axis=1)\n",
        "\n",
        "        if self.return_attention:\n",
        "            return [result, a]\n",
        "        return result\n",
        "\n",
        "    def compute_output_shape(self, input_shape):\n",
        "        if self.return_attention:\n",
        "            return [(input_shape[0], input_shape[-1]),\n",
        "                    (input_shape[0], input_shape[1])]\n",
        "        else:\n",
        "            return input_shape[0], input_shape[-1]"
      ]
    },
    {
      "cell_type": "code",
      "execution_count": null,
      "metadata": {
        "colab": {
          "base_uri": "https://localhost:8080/"
        },
        "id": "aZ9Y4akug2wb",
        "outputId": "9700eac7-e7dc-4fd3-b038-8cf2ae0640bc"
      },
      "outputs": [
        {
          "output_type": "stream",
          "name": "stdout",
          "text": [
            "Model: \"sequential\"\n",
            "_________________________________________________________________\n",
            " Layer (type)                Output Shape              Param #   \n",
            "=================================================================\n",
            " embedding (Embedding)       (None, 200, 40)           200000    \n",
            "                                                                 \n",
            " lstm (LSTM)                 (None, 200, 32)           9344      \n",
            "                                                                 \n",
            " dropout (Dropout)           (None, 200, 32)           0         \n",
            "                                                                 \n",
            " leaky_re_lu (LeakyReLU)     (None, 200, 32)           0         \n",
            "                                                                 \n",
            " lstm_1 (LSTM)               (None, 200, 32)           8320      \n",
            "                                                                 \n",
            " attention (Attention)       (None, 32)                232       \n",
            "                                                                 \n",
            " dense (Dense)               (None, 3)                 99        \n",
            "                                                                 \n",
            "=================================================================\n",
            "Total params: 217,995\n",
            "Trainable params: 217,995\n",
            "Non-trainable params: 0\n",
            "_________________________________________________________________\n",
            "None\n"
          ]
        }
      ],
      "source": [
        "max_words=5000\n",
        "max_len=200\n",
        "model = Sequential()\n",
        "model.add(layers.Embedding(max_words, 40, input_length=max_len))\n",
        "model.add(layers.LSTM(32, dropout=0.2, recurrent_dropout=0.2, return_sequences=True))\n",
        "model.add(layers.Dropout(0.25))\n",
        "model.add(layers.LeakyReLU(alpha=0.05))\n",
        "model.add(layers.LSTM(32, dropout=0.1, activation='tanh', recurrent_dropout=0.1,return_sequences=True))\n",
        "model.add(Attention())\n",
        "model.add(layers.Dense(3, activation='softmax'))\n",
        "model.compile(loss='categorical_crossentropy', optimizer='rmsprop', metrics=['accuracy'])\n",
        "print(model.summary())"
      ]
    },
    {
      "cell_type": "code",
      "execution_count": null,
      "metadata": {
        "colab": {
          "base_uri": "https://localhost:8080/"
        },
        "id": "iLE_Cf1NmzIR",
        "outputId": "3db174c5-b4d6-42f1-eef0-84671ea4941d"
      },
      "outputs": [
        {
          "output_type": "stream",
          "name": "stdout",
          "text": [
            "Epoch 1/35\n",
            "1172/1172 [==============================] - 590s 497ms/step - loss: 0.9228 - accuracy: 0.5567 - val_loss: 0.7819 - val_accuracy: 0.6626\n",
            "Epoch 2/35\n",
            "1172/1172 [==============================] - 575s 490ms/step - loss: 0.6718 - accuracy: 0.7359 - val_loss: 0.5841 - val_accuracy: 0.7801\n",
            "Epoch 3/35\n",
            "1172/1172 [==============================] - 574s 490ms/step - loss: 0.5536 - accuracy: 0.7973 - val_loss: 0.5301 - val_accuracy: 0.8118\n",
            "Epoch 4/35\n",
            "1172/1172 [==============================] - 571s 488ms/step - loss: 0.5073 - accuracy: 0.8161 - val_loss: 0.4941 - val_accuracy: 0.8214\n",
            "Epoch 5/35\n",
            "1172/1172 [==============================] - 570s 487ms/step - loss: 0.4787 - accuracy: 0.8287 - val_loss: 0.4762 - val_accuracy: 0.8335\n",
            "Epoch 6/35\n",
            "1172/1172 [==============================] - 569s 485ms/step - loss: 0.4576 - accuracy: 0.8380 - val_loss: 0.4660 - val_accuracy: 0.8345\n",
            "Epoch 7/35\n",
            "1172/1172 [==============================] - 570s 487ms/step - loss: 0.4427 - accuracy: 0.8432 - val_loss: 0.4533 - val_accuracy: 0.8392\n",
            "Epoch 8/35\n",
            "1172/1172 [==============================] - 570s 486ms/step - loss: 0.4276 - accuracy: 0.8483 - val_loss: 0.4480 - val_accuracy: 0.8398\n",
            "Epoch 9/35\n",
            "1172/1172 [==============================] - 570s 486ms/step - loss: 0.4166 - accuracy: 0.8514 - val_loss: 0.4492 - val_accuracy: 0.8396\n",
            "Epoch 10/35\n",
            "1172/1172 [==============================] - 568s 485ms/step - loss: 0.4063 - accuracy: 0.8544 - val_loss: 0.4399 - val_accuracy: 0.8431\n",
            "Epoch 11/35\n",
            "1172/1172 [==============================] - 572s 488ms/step - loss: 0.3990 - accuracy: 0.8576 - val_loss: 0.4319 - val_accuracy: 0.8454\n",
            "Epoch 12/35\n",
            "1172/1172 [==============================] - 570s 486ms/step - loss: 0.3916 - accuracy: 0.8600 - val_loss: 0.4303 - val_accuracy: 0.8470\n",
            "Epoch 13/35\n",
            "1172/1172 [==============================] - 569s 485ms/step - loss: 0.3850 - accuracy: 0.8625 - val_loss: 0.4362 - val_accuracy: 0.8471\n",
            "Epoch 14/35\n",
            "1172/1172 [==============================] - 580s 495ms/step - loss: 0.3792 - accuracy: 0.8643 - val_loss: 0.4314 - val_accuracy: 0.8472\n",
            "Epoch 15/35\n",
            "1172/1172 [==============================] - 574s 490ms/step - loss: 0.3723 - accuracy: 0.8669 - val_loss: 0.4291 - val_accuracy: 0.8496\n",
            "Epoch 16/35\n",
            "1172/1172 [==============================] - 569s 486ms/step - loss: 0.3693 - accuracy: 0.8684 - val_loss: 0.4313 - val_accuracy: 0.8480\n",
            "Epoch 17/35\n",
            "1172/1172 [==============================] - 571s 487ms/step - loss: 0.3632 - accuracy: 0.8714 - val_loss: 0.4380 - val_accuracy: 0.8514\n",
            "Epoch 18/35\n",
            "1172/1172 [==============================] - 570s 486ms/step - loss: 0.3601 - accuracy: 0.8720 - val_loss: 0.4543 - val_accuracy: 0.8370\n",
            "Epoch 19/35\n",
            "1172/1172 [==============================] - 569s 486ms/step - loss: 0.3547 - accuracy: 0.8746 - val_loss: 0.4354 - val_accuracy: 0.8484\n",
            "Epoch 20/35\n",
            "1172/1172 [==============================] - 568s 485ms/step - loss: 0.3516 - accuracy: 0.8758 - val_loss: 0.4450 - val_accuracy: 0.8448\n",
            "Epoch 21/35\n",
            "1172/1172 [==============================] - 574s 490ms/step - loss: 0.3504 - accuracy: 0.8774 - val_loss: 0.4445 - val_accuracy: 0.8457\n",
            "Epoch 22/35\n",
            "1172/1172 [==============================] - 585s 499ms/step - loss: 0.3463 - accuracy: 0.8779 - val_loss: 0.4330 - val_accuracy: 0.8499\n",
            "Epoch 23/35\n",
            "1172/1172 [==============================] - 581s 496ms/step - loss: 0.3431 - accuracy: 0.8799 - val_loss: 0.4349 - val_accuracy: 0.8504\n",
            "Epoch 24/35\n",
            "1172/1172 [==============================] - 578s 493ms/step - loss: 0.3400 - accuracy: 0.8819 - val_loss: 0.4396 - val_accuracy: 0.8496\n",
            "Epoch 25/35\n",
            "1172/1172 [==============================] - 586s 500ms/step - loss: 0.3368 - accuracy: 0.8825 - val_loss: 0.4478 - val_accuracy: 0.8471\n",
            "Epoch 26/35\n",
            "1172/1172 [==============================] - 588s 502ms/step - loss: 0.3350 - accuracy: 0.8831 - val_loss: 0.4410 - val_accuracy: 0.8470\n",
            "Epoch 27/35\n",
            "1172/1172 [==============================] - 573s 489ms/step - loss: 0.3316 - accuracy: 0.8848 - val_loss: 0.4415 - val_accuracy: 0.8484\n",
            "Epoch 28/35\n",
            "1172/1172 [==============================] - 565s 482ms/step - loss: 0.3313 - accuracy: 0.8857 - val_loss: 0.4383 - val_accuracy: 0.8518\n",
            "Epoch 29/35\n",
            "1172/1172 [==============================] - 563s 480ms/step - loss: 0.3280 - accuracy: 0.8855 - val_loss: 0.4426 - val_accuracy: 0.8503\n",
            "Epoch 30/35\n",
            "1172/1172 [==============================] - 561s 479ms/step - loss: 0.3264 - accuracy: 0.8868 - val_loss: 0.4465 - val_accuracy: 0.8498\n",
            "Epoch 31/35\n",
            "1172/1172 [==============================] - 561s 479ms/step - loss: 0.3240 - accuracy: 0.8884 - val_loss: 0.4447 - val_accuracy: 0.8512\n",
            "Epoch 32/35\n",
            "1172/1172 [==============================] - 561s 479ms/step - loss: 0.3222 - accuracy: 0.8887 - val_loss: 0.4488 - val_accuracy: 0.8486\n",
            "Epoch 33/35\n",
            "1172/1172 [==============================] - 561s 479ms/step - loss: 0.3203 - accuracy: 0.8899 - val_loss: 0.4462 - val_accuracy: 0.8542\n",
            "Epoch 34/35\n",
            "1172/1172 [==============================] - 565s 482ms/step - loss: 0.3193 - accuracy: 0.8905 - val_loss: 0.4508 - val_accuracy: 0.8500\n",
            "Epoch 35/35\n",
            "1172/1172 [==============================] - 586s 500ms/step - loss: 0.3164 - accuracy: 0.8923 - val_loss: 0.4759 - val_accuracy: 0.8429\n"
          ]
        }
      ],
      "source": [
        "history=model.fit(X_train, y_train, epochs=35, batch_size=64, validation_data=(X_test, y_test))"
      ]
    },
    {
      "cell_type": "code",
      "execution_count": null,
      "metadata": {
        "id": "dYGD87WrnEy5"
      },
      "outputs": [],
      "source": [
        "model.save('models/model.h5')"
      ]
    },
    {
      "cell_type": "code",
      "execution_count": null,
      "metadata": {
        "id": "vTWF8Q_NnPMW",
        "colab": {
          "base_uri": "https://localhost:8080/",
          "height": 590
        },
        "outputId": "6db430e8-0d42-4e39-c968-82ae15c91f26"
      },
      "outputs": [
        {
          "output_type": "stream",
          "name": "stdout",
          "text": [
            "dict_keys(['loss', 'accuracy', 'val_loss', 'val_accuracy'])\n"
          ]
        },
        {
          "output_type": "display_data",
          "data": {
            "text/plain": [
              "<Figure size 432x288 with 1 Axes>"
            ],
            "image/png": "[encoded data removed]"
          },
          "metadata": {
            "needs_background": "light"
          }
        },
        {
          "output_type": "display_data",
          "data": {
            "text/plain": [
              "<Figure size 432x288 with 1 Axes>"
            ],
            "image/png": "[encoded data removed]"
          },
          "metadata": {
            "needs_background": "light"
          }
        }
      ],
      "source": [
        "print(history.history.keys())\n",
        "#  \"Accuracy\"\n",
        "plt.plot(history.history['accuracy'], 'r--')\n",
        "plt.plot(history.history['val_accuracy'])\n",
        "plt.title('Model accuracy')\n",
        "plt.ylabel('accuracy')\n",
        "plt.xlabel('epoch')\n",
        "plt.legend(['train', 'validation'], loc='upper left')\n",
        "plt.show()\n",
        "# \"Loss\"\n",
        "plt.plot(history.history['loss'], 'r--')\n",
        "plt.plot(history.history['val_loss'])\n",
        "plt.title('Model loss')\n",
        "plt.ylabel('loss')\n",
        "plt.xlabel('epoch')\n",
        "plt.legend(['train', 'validation'], loc='upper left')\n",
        "plt.show()"
      ]
    },
    {
      "cell_type": "code",
      "source": [
        "history=model.fit(tweets, labels, epochs=10, batch_size=64)"
      ],
      "metadata": {
        "id": "6W6pADJTNNfx"
      },
      "execution_count": null,
      "outputs": []
    },
    {
      "cell_type": "code",
      "execution_count": null,
      "metadata": {
        "id": "NhewVNQ7iXTm",
        "colab": {
          "base_uri": "https://localhost:8080/"
        },
        "outputId": "0712b8dc-61af-4f80-9097-4307be38d288"
      },
      "outputs": [
        {
          "output_type": "stream",
          "name": "stdout",
          "text": [
            "Model: \"sequential_11\"\n",
            "_________________________________________________________________\n",
            " Layer (type)                Output Shape              Param #   \n",
            "=================================================================\n",
            " embedding_11 (Embedding)    (None, 200, 40)           200000    \n",
            "                                                                 \n",
            " lstm_22 (LSTM)              (None, 200, 32)           9344      \n",
            "                                                                 \n",
            " dropout_11 (Dropout)        (None, 200, 32)           0         \n",
            "                                                                 \n",
            " leaky_re_lu_11 (LeakyReLU)  (None, 200, 32)           0         \n",
            "                                                                 \n",
            " lstm_23 (LSTM)              (None, 32)                8320      \n",
            "                                                                 \n",
            " dense_11 (Dense)            (None, 3)                 99        \n",
            "                                                                 \n",
            "=================================================================\n",
            "Total params: 217,763\n",
            "Trainable params: 217,763\n",
            "Non-trainable params: 0\n",
            "_________________________________________________________________\n",
            "None\n"
          ]
        }
      ],
      "source": [
        "max_words=5000\n",
        "max_len=200\n",
        "model2 = Sequential()\n",
        "model2.add(layers.Embedding(max_words, 40, input_length=max_len))\n",
        "model2.add(layers.LSTM(32, dropout=0.2, recurrent_dropout=0.2, return_sequences=True))\n",
        "model2.add(layers.Dropout(0.25))\n",
        "model2.add(layers.LeakyReLU(alpha=0.05))\n",
        "model2.add(layers.LSTM(32, dropout=0.1, activation='tanh', recurrent_dropout=0.1))\n",
        "model2.add(layers.Dense(3, activation='softmax'))\n",
        "model2.compile(loss='categorical_crossentropy', optimizer='rmsprop', metrics=['accuracy'])\n",
        "print(model2.summary())"
      ]
    },
    {
      "cell_type": "code",
      "source": [
        "history2=model2.fit(X_train, y_train, epochs=35, batch_size=64, validation_data=(X_test, y_test))"
      ],
      "metadata": {
        "id": "4CnokcCaZ-qa"
      },
      "execution_count": null,
      "outputs": []
    },
    {
      "cell_type": "code",
      "execution_count": null,
      "metadata": {
        "id": "uTVsDDRyca6M"
      },
      "outputs": [],
      "source": [
        "model2.save('models/model2_lstm.h5')"
      ]
    },
    {
      "cell_type": "code",
      "execution_count": null,
      "metadata": {
        "id": "mpIaqsYtrCT7"
      },
      "outputs": [],
      "source": [
        "print(history2.history.keys())\n",
        "#  \"Accuracy\"\n",
        "plt.plot(history2.history['accuracy'], 'r--')\n",
        "plt.plot(history2.history['val_accuracy'])\n",
        "plt.title('Model accuracy')\n",
        "plt.ylabel('accuracy')\n",
        "plt.xlabel('epoch')\n",
        "plt.legend(['train', 'validation'], loc='upper left')\n",
        "plt.show()\n",
        "# \"Loss\"\n",
        "plt.plot(history2.history['loss'], 'r--')\n",
        "plt.plot(history2.history['val_loss'])\n",
        "plt.title('Model loss')\n",
        "plt.ylabel('loss')\n",
        "plt.xlabel('epoch')\n",
        "plt.legend(['train', 'validation'], loc='upper left')\n",
        "plt.show()"
      ]
    },
    {
      "cell_type": "markdown",
      "metadata": {
        "id": "u5DGZqsmpx_9"
      },
      "source": [
        "# Predicitng using model\n"
      ]
    },
    {
      "cell_type": "code",
      "execution_count": null,
      "metadata": {
        "id": "7iqC34izujIa"
      },
      "outputs": [],
      "source": [
        "# Redefine model for loading weights\n",
        "max_words=5000\n",
        "max_len=200\n",
        "model = Sequential()\n",
        "model.add(layers.Embedding(max_words, 40, input_length=max_len))\n",
        "model.add(layers.LSTM(32, dropout=0.2, recurrent_dropout=0.2, return_sequences=True))\n",
        "model.add(layers.Dropout(0.25))\n",
        "model.add(layers.LeakyReLU(alpha=0.05))\n",
        "model.add(layers.LSTM(32, dropout=0.1, activation='tanh', recurrent_dropout=0.1,return_sequences=True))\n",
        "model.add(Attention())\n",
        "model.add(layers.Dense(3, activation='softmax'))\n",
        "model.compile(loss='categorical_crossentropy', optimizer='rmsprop', metrics=['accuracy'])\n",
        "\n",
        "# Load the model obtained during training\n",
        "model.load_weights(\"models/model.h5\")"
      ]
    },
    {
      "cell_type": "code",
      "execution_count": null,
      "metadata": {
        "id": "XRdZBmttp8sG"
      },
      "outputs": [],
      "source": [
        "def depure_data(data):\n",
        "    #Removing URLs with a regular expression\n",
        "    url_pattern = re.compile(r'https?://\\S+|www\\.\\S+')\n",
        "    data = url_pattern.sub(r'', data)\n",
        "    # Remove Emails\n",
        "    data = re.sub('\\S*@\\S*\\s?', '', data)\n",
        "    # Remove new line characters\n",
        "    data = re.sub('\\s+', ' ', data)\n",
        "    # Remove distracting single quotes\n",
        "    data = re.sub(\"\\'\", \"\", data)    \n",
        "    return data\n",
        "\n",
        "def sent_to_words(sentences):\n",
        "    for sentence in sentences:\n",
        "        yield(gensim.utils.simple_preprocess(str(sentence), deacc=True))  # deacc=True removes punctuations\n",
        "\n",
        "def make_sequence(data):\n",
        "  max_words = 5000\n",
        "  max_len = 200\n",
        "  tokenizer = Tokenizer(num_words=max_words)\n",
        "  tokenizer.fit_on_texts(data)\n",
        "  data = tokenizer.texts_to_sequences(data)\n",
        "  data = pad_sequences(data, maxlen=max_len)\n",
        "  return data\n",
        "\n",
        "def detokenize(text):\n",
        "    return TreebankWordDetokenizer().detokenize(text)\n",
        "\n",
        "def cleanup_data(data):\n",
        "  temp = []\n",
        "  data_to_list = data['text'].values.tolist()\n",
        "  for i in range(len(data_to_list)):\n",
        "    temp.append(depure_data(data_to_list[i]))\n",
        "  data_to_list = list(sent_to_words(temp))\n",
        "  temp = []\n",
        "  for i in range(len(data_to_list)):\n",
        "    temp.append(detokenize(data_to_list[i]))\n",
        "  data_to_list=make_sequence(temp)\n",
        "  return data_to_list"
      ]
    },
    {
      "cell_type": "code",
      "execution_count": null,
      "metadata": {
        "id": "7VJ9Fi76p1Qg"
      },
      "outputs": [],
      "source": [
        "tweet_data_lang=pd.read_csv('tweet_data_combined', lineterminator='\\n', header=None)\n",
        "tweet_data_lang.columns=['tweet_id', 'date', 'text', 'place_id', 'coordinates', 'loc_name', 'loc_country', 'loc_type']\n",
        "tweet_data_lang=tweet_data_lang.dropna()\n",
        "tweet_data_lang['date']=tweet_data_lang['date'].str[:10]+' '+tweet_data_lang['date'].str[11:19]\n",
        "tweet_data_lang['date']=pd.to_datetime(tweet_data_lang['date'])"
      ]
    },
    {
      "cell_type": "code",
      "source": [
        "sentiment = ['neu','neg','pos']\n",
        "tweet_clean=cleanup_data(tweet_data_lang)\n",
        "predictions = model.predict(tweet_clean)\n",
        "text_predictions=[]\n",
        "for prediction in predictions:\n",
        "  text_predictions.append(sentiment[np.around([prediction], decimals=0).argmax(axis=1)[0]])\n",
        "tweet_data_lang['comp_score']=text_predictions"
      ],
      "metadata": {
        "id": "v9OZEIMgukRq"
      },
      "execution_count": null,
      "outputs": []
    },
    {
      "cell_type": "code",
      "source": [
        "tweet_data_lang.to_csv('tweet_data_modelled', mode='w', index=False, header=True)"
      ],
      "metadata": {
        "id": "i0DFQBUQutP5"
      },
      "execution_count": null,
      "outputs": []
    },
    {
      "cell_type": "code",
      "execution_count": null,
      "metadata": {
        "id": "M4sjTWSgp1Qg"
      },
      "outputs": [],
      "source": [
        "reddit_data_lang=pd.read_csv('reddit_data_combined', header=None)\n",
        "reddit_data_lang.columns=['date', 'text']\n",
        "reddit_data_lang=reddit_data_lang.dropna()\n",
        "reddit_data_lang['date']=reddit_data_lang['date'].str[:10]+' '+reddit_data_lang['date'].str[11:19]\n",
        "reddit_data_lang['date']=pd.to_datetime(reddit_data_lang['date'])"
      ]
    },
    {
      "cell_type": "code",
      "source": [
        "reddit_data_lang=[]"
      ],
      "metadata": {
        "id": "ncWbU8gRU37F"
      },
      "execution_count": null,
      "outputs": []
    },
    {
      "cell_type": "code",
      "source": [
        "# Breaking data to manage memory\n",
        "reddit_data_lang1=reddit_data_lang[:3000000]\n",
        "reddit_data_lang1.to_csv('reddit_data_modelled_first', mode='w', index=False, header=True)\n",
        "reddit_data_lang2=reddit_data_lang[3000000:]\n",
        "reddit_data_lang2.to_csv('reddit_data_modelled_second', mode='w', index=False, header=True)"
      ],
      "metadata": {
        "id": "X9BazMIOv5Kh"
      },
      "execution_count": null,
      "outputs": []
    },
    {
      "cell_type": "code",
      "source": [
        "# Breaking data to manage memory\n",
        "reddit_data_lang=pd.read_csv('reddit_data_modelled_first')\n",
        "reddit_data_lang=reddit_data_lang.dropna()\n",
        "reddit_data_lang['date']=reddit_data_lang['date'].str[:10]+' '+reddit_data_lang['date'].str[11:19]\n",
        "reddit_data_lang['date']=pd.to_datetime(reddit_data_lang['date'])\n",
        "reddit_data_lang1=reddit_data_lang[:1000000]\n",
        "reddit_data_lang1.to_csv('reddit_data_modelled_1', mode='w', index=False, header=True)\n",
        "reddit_data_lang1=reddit_data_lang[1000000:2000000]\n",
        "reddit_data_lang1.to_csv('reddit_data_modelled_=2', mode='w', index=False, header=True)\n",
        "reddit_data_lang1=reddit_data_lang[2000000:]\n",
        "reddit_data_lang1.to_csv('reddit_data_modelled_3', mode='w', index=False, header=True)"
      ],
      "metadata": {
        "id": "f7Q6vOuA0F0W"
      },
      "execution_count": null,
      "outputs": []
    },
    {
      "cell_type": "code",
      "source": [
        "# Breaking data to manage memory\n",
        "reddit_data_lang=pd.read_csv('reddit_data_modelled_second')\n",
        "reddit_data_lang=reddit_data_lang.dropna()\n",
        "reddit_data_lang['date']=reddit_data_lang['date'].str[:10]+' '+reddit_data_lang['date'].str[11:19]\n",
        "reddit_data_lang['date']=pd.to_datetime(reddit_data_lang['date'])\n",
        "reddit_data_lang1=reddit_data_lang[:1000000]\n",
        "reddit_data_lang1.to_csv('reddit_data_modelled_4', mode='w', index=False, header=True)\n",
        "reddit_data_lang1=reddit_data_lang[1000000:2000000]\n",
        "reddit_data_lang1.to_csv('reddit_data_modelled_5', mode='w', index=False, header=True)\n",
        "reddit_data_lang1=reddit_data_lang[2000000:]\n",
        "reddit_data_lang1.to_csv('reddit_data_modelled_6', mode='w', index=False, header=True)"
      ],
      "metadata": {
        "id": "kozk6NqM0WJC"
      },
      "execution_count": null,
      "outputs": []
    },
    {
      "cell_type": "code",
      "execution_count": null,
      "metadata": {
        "id": "m3HTZn6wwiOl"
      },
      "outputs": [],
      "source": [
        "# Predicting sentiment for the first 1 million data only\n",
        "reddit_data_lang=pd.read_csv('reddit_data_modelled_1')\n",
        "reddit_data_lang=reddit_data_lang.dropna()\n",
        "reddit_data_lang['date']=reddit_data_lang['date'].str[:10]+' '+reddit_data_lang['date'].str[11:19]\n",
        "reddit_data_lang['date']=pd.to_datetime(reddit_data_lang['date'])"
      ]
    },
    {
      "cell_type": "code",
      "source": [
        "sentiment = ['neu','neg','pos']\n",
        "tweet_clean=cleanup_data(reddit_data_lang)\n",
        "predictions = model.predict(tweet_clean)\n",
        "text_predictions=[]\n",
        "for prediction in predictions:\n",
        "  text_predictions.append(sentiment[np.around([prediction], decimals=0).argmax(axis=1)[0]])\n",
        "reddit_data_lang['comp_score']=text_predictions"
      ],
      "metadata": {
        "id": "0EyoDhEhv93L"
      },
      "execution_count": null,
      "outputs": []
    },
    {
      "cell_type": "code",
      "source": [
        "reddit_data_lang.to_csv('reddit_data_modelled_1', mode='w', index=False, header=True)"
      ],
      "metadata": {
        "id": "iTw3ICFjv3aw"
      },
      "execution_count": null,
      "outputs": []
    },
    {
      "cell_type": "code",
      "source": [
        "reddit_data_lang.head()"
      ],
      "metadata": {
        "colab": {
          "base_uri": "https://localhost:8080/",
          "height": 206
        },
        "id": "XJh-goZuCjhT",
        "outputId": "6230c7c6-5c1a-41f4-8a61-8d9adff28167"
      },
      "execution_count": null,
      "outputs": [
        {
          "output_type": "execute_result",
          "data": {
            "text/plain": [
              "        date                                               text comp_score\n",
              "0 2020-02-11  Are you guys worried about the Coronavirus (CO...        neu\n",
              "1 2020-02-11  [World] - WHO names deadly virus from China as...        pos\n",
              "2 2020-02-11  Is the COVID-19 death rate calculated correctl...        neg\n",
              "3 2020-02-11  [World] - WHO names deadly virus from China as...        neu\n",
              "4 2020-02-11  Is the COVID-19 death rate calculated correctl...        neu"
            ],
            "text/html": [
              "\n",
              "  <div id=\"df-be893f59-2899-4403-be23-4345a4c10bab\">\n",
              "    <div class=\"colab-df-container\">\n",
              "      <div>\n",
              "<style scoped>\n",
              "    .dataframe tbody tr th:only-of-type {\n",
              "        vertical-align: middle;\n",
              "    }\n",
              "\n",
              "    .dataframe tbody tr th {\n",
              "        vertical-align: top;\n",
              "    }\n",
              "\n",
              "    .dataframe thead th {\n",
              "        text-align: right;\n",
              "    }\n",
              "</style>\n",
              "<table border=\"1\" class=\"dataframe\">\n",
              "  <thead>\n",
              "    <tr style=\"text-align: right;\">\n",
              "      <th></th>\n",
              "      <th>date</th>\n",
              "      <th>text</th>\n",
              "      <th>comp_score</th>\n",
              "    </tr>\n",
              "  </thead>\n",
              "  <tbody>\n",
              "    <tr>\n",
              "      <th>0</th>\n",
              "      <td>2020-02-11</td>\n",
              "      <td>Are you guys worried about the Coronavirus (CO...</td>\n",
              "      <td>neu</td>\n",
              "    </tr>\n",
              "    <tr>\n",
              "      <th>1</th>\n",
              "      <td>2020-02-11</td>\n",
              "      <td>[World] - WHO names deadly virus from China as...</td>\n",
              "      <td>pos</td>\n",
              "    </tr>\n",
              "    <tr>\n",
              "      <th>2</th>\n",
              "      <td>2020-02-11</td>\n",
              "      <td>Is the COVID-19 death rate calculated correctl...</td>\n",
              "      <td>neg</td>\n",
              "    </tr>\n",
              "    <tr>\n",
              "      <th>3</th>\n",
              "      <td>2020-02-11</td>\n",
              "      <td>[World] - WHO names deadly virus from China as...</td>\n",
              "      <td>neu</td>\n",
              "    </tr>\n",
              "    <tr>\n",
              "      <th>4</th>\n",
              "      <td>2020-02-11</td>\n",
              "      <td>Is the COVID-19 death rate calculated correctl...</td>\n",
              "      <td>neu</td>\n",
              "    </tr>\n",
              "  </tbody>\n",
              "</table>\n",
              "</div>\n",
              "      <button class=\"colab-df-convert\" onclick=\"convertToInteractive('df-be893f59-2899-4403-be23-4345a4c10bab')\"\n",
              "              title=\"Convert this dataframe to an interactive table.\"\n",
              "              style=\"display:none;\">\n",
              "        \n",
              "  <svg xmlns=\"http://www.w3.org/2000/svg\" height=\"24px\"viewBox=\"0 0 24 24\"\n",
              "       width=\"24px\">\n",
              "    <path d=\"M0 0h24v24H0V0z\" fill=\"none\"/>\n",
              "    <path d=\"M18.56 5.44l.94 2.06.94-2.06 2.06-.94-2.06-.94-.94-2.06-.94 2.06-2.06.94zm-11 1L8.5 8.5l.94-2.06 2.06-.94-2.06-.94L8.5 2.5l-.94 2.06-2.06.94zm10 10l.94 2.06.94-2.06 2.06-.94-2.06-.94-.94-2.06-.94 2.06-2.06.94z\"/><path d=\"M17.41 7.96l-1.37-1.37c-.4-.4-.92-.59-1.43-.59-.52 0-1.04.2-1.43.59L10.3 9.45l-7.72 7.72c-.78.78-.78 2.05 0 2.83L4 21.41c.39.39.9.59 1.41.59.51 0 1.02-.2 1.41-.59l7.78-7.78 2.81-2.81c.8-.78.8-2.07 0-2.86zM5.41 20L4 18.59l7.72-7.72 1.47 1.35L5.41 20z\"/>\n",
              "  </svg>\n",
              "      </button>\n",
              "      \n",
              "  <style>\n",
              "    .colab-df-container {\n",
              "      display:flex;\n",
              "      flex-wrap:wrap;\n",
              "      gap: 12px;\n",
              "    }\n",
              "\n",
              "    .colab-df-convert {\n",
              "      background-color: #E8F0FE;\n",
              "      border: none;\n",
              "      border-radius: 50%;\n",
              "      cursor: pointer;\n",
              "      display: none;\n",
              "      fill: #1967D2;\n",
              "      height: 32px;\n",
              "      padding: 0 0 0 0;\n",
              "      width: 32px;\n",
              "    }\n",
              "\n",
              "    .colab-df-convert:hover {\n",
              "      background-color: #E2EBFA;\n",
              "      box-shadow: 0px 1px 2px rgba(60, 64, 67, 0.3), 0px 1px 3px 1px rgba(60, 64, 67, 0.15);\n",
              "      fill: #174EA6;\n",
              "    }\n",
              "\n",
              "    [theme=dark] .colab-df-convert {\n",
              "      background-color: #3B4455;\n",
              "      fill: #D2E3FC;\n",
              "    }\n",
              "\n",
              "    [theme=dark] .colab-df-convert:hover {\n",
              "      background-color: #434B5C;\n",
              "      box-shadow: 0px 1px 3px 1px rgba(0, 0, 0, 0.15);\n",
              "      filter: drop-shadow(0px 1px 2px rgba(0, 0, 0, 0.3));\n",
              "      fill: #FFFFFF;\n",
              "    }\n",
              "  </style>\n",
              "\n",
              "      <script>\n",
              "        const buttonEl =\n",
              "          document.querySelector('#df-be893f59-2899-4403-be23-4345a4c10bab button.colab-df-convert');\n",
              "        buttonEl.style.display =\n",
              "          google.colab.kernel.accessAllowed ? 'block' : 'none';\n",
              "\n",
              "        async function convertToInteractive(key) {\n",
              "          const element = document.querySelector('#df-be893f59-2899-4403-be23-4345a4c10bab');\n",
              "          const dataTable =\n",
              "            await google.colab.kernel.invokeFunction('convertToInteractive',\n",
              "                                                     [key], {});\n",
              "          if (!dataTable) return;\n",
              "\n",
              "          const docLinkHtml = 'Like what you see? Visit the ' +\n",
              "            '<a target=\"_blank\" href=https://colab.research.google.com/notebooks/data_table.ipynb>data table notebook</a>'\n",
              "            + ' to learn more about interactive tables.';\n",
              "          element.innerHTML = '';\n",
              "          dataTable['output_type'] = 'display_data';\n",
              "          await google.colab.output.renderOutput(dataTable, element);\n",
              "          const docLink = document.createElement('div');\n",
              "          docLink.innerHTML = docLinkHtml;\n",
              "          element.appendChild(docLink);\n",
              "        }\n",
              "      </script>\n",
              "    </div>\n",
              "  </div>\n",
              "  "
            ]
          },
          "metadata": {},
          "execution_count": 11
        }
      ]
    },
    {
      "cell_type": "code",
      "source": [
        "reddit_data_lang.count()"
      ],
      "metadata": {
        "colab": {
          "base_uri": "https://localhost:8080/"
        },
        "id": "R2-SIhn_ClLv",
        "outputId": "6a2f3f4f-3d9c-4279-be68-4d2cd209e0ac"
      },
      "execution_count": null,
      "outputs": [
        {
          "output_type": "execute_result",
          "data": {
            "text/plain": [
              "date          1000000\n",
              "text          1000000\n",
              "comp_score    1000000\n",
              "dtype: int64"
            ]
          },
          "metadata": {},
          "execution_count": 12
        }
      ]
    },
    {
      "cell_type": "code",
      "source": [
        "# Predicting sentiment for the remaining data in loop\n",
        "for i in range (2, 7):\n",
        "  reddit_data_lang=pd.read_csv('reddit_data_modelled_'+str(i))\n",
        "  reddit_data_lang=reddit_data_lang.dropna()\n",
        "  reddit_data_lang['date']=reddit_data_lang['date'].str[:10]+' '+reddit_data_lang['date'].str[11:19]\n",
        "  reddit_data_lang['date']=pd.to_datetime(reddit_data_lang['date'])\n",
        "\n",
        "  sentiment = ['neu','neg','pos']\n",
        "  tweet_clean=cleanup_data(reddit_data_lang)\n",
        "  predictions = model.predict(tweet_clean)\n",
        "  text_predictions=[]\n",
        "  for prediction in predictions:\n",
        "    text_predictions.append(sentiment[np.around([prediction], decimals=0).argmax(axis=1)[0]])\n",
        "  reddit_data_lang['comp_score']=text_predictions\n",
        "\n",
        "  reddit_data_lang.to_csv('reddit_data_modelled_'+str(i), mode='w', index=False, header=True)"
      ],
      "metadata": {
        "id": "5nQzwDW2Bl2d"
      },
      "execution_count": null,
      "outputs": []
    },
    {
      "cell_type": "code",
      "source": [
        "# combining the files\n",
        "reddit_data_lang1=pd.read_csv('reddit_data_modelled_1')\n",
        "for i in range (2, 7):\n",
        "    reddit_data_lang2=pd.read_csv('reddit_data_modelled_'+str(i))\n",
        "    reddit_data_lang1=pd.concat([reddit_data_lang1, reddit_data_lang2], ignore_index=True)\n",
        "\n",
        "reddit_data_lang1.head()"
      ],
      "metadata": {
        "colab": {
          "base_uri": "https://localhost:8080/",
          "height": 206
        },
        "id": "NM_bLgXXDKTQ",
        "outputId": "3370c57e-65b0-4728-e113-734d30536193"
      },
      "execution_count": null,
      "outputs": [
        {
          "output_type": "execute_result",
          "data": {
            "text/plain": [
              "         date                                               text comp_score\n",
              "0  2020-02-11  Are you guys worried about the Coronavirus (CO...        neu\n",
              "1  2020-02-11  [World] - WHO names deadly virus from China as...        pos\n",
              "2  2020-02-11  Is the COVID-19 death rate calculated correctl...        neg\n",
              "3  2020-02-11  [World] - WHO names deadly virus from China as...        neu\n",
              "4  2020-02-11  Is the COVID-19 death rate calculated correctl...        neu"
            ],
            "text/html": [
              "\n",
              "  <div id=\"df-68713429-3fc4-44a0-9001-a085a38c5e2b\">\n",
              "    <div class=\"colab-df-container\">\n",
              "      <div>\n",
              "<style scoped>\n",
              "    .dataframe tbody tr th:only-of-type {\n",
              "        vertical-align: middle;\n",
              "    }\n",
              "\n",
              "    .dataframe tbody tr th {\n",
              "        vertical-align: top;\n",
              "    }\n",
              "\n",
              "    .dataframe thead th {\n",
              "        text-align: right;\n",
              "    }\n",
              "</style>\n",
              "<table border=\"1\" class=\"dataframe\">\n",
              "  <thead>\n",
              "    <tr style=\"text-align: right;\">\n",
              "      <th></th>\n",
              "      <th>date</th>\n",
              "      <th>text</th>\n",
              "      <th>comp_score</th>\n",
              "    </tr>\n",
              "  </thead>\n",
              "  <tbody>\n",
              "    <tr>\n",
              "      <th>0</th>\n",
              "      <td>2020-02-11</td>\n",
              "      <td>Are you guys worried about the Coronavirus (CO...</td>\n",
              "      <td>neu</td>\n",
              "    </tr>\n",
              "    <tr>\n",
              "      <th>1</th>\n",
              "      <td>2020-02-11</td>\n",
              "      <td>[World] - WHO names deadly virus from China as...</td>\n",
              "      <td>pos</td>\n",
              "    </tr>\n",
              "    <tr>\n",
              "      <th>2</th>\n",
              "      <td>2020-02-11</td>\n",
              "      <td>Is the COVID-19 death rate calculated correctl...</td>\n",
              "      <td>neg</td>\n",
              "    </tr>\n",
              "    <tr>\n",
              "      <th>3</th>\n",
              "      <td>2020-02-11</td>\n",
              "      <td>[World] - WHO names deadly virus from China as...</td>\n",
              "      <td>neu</td>\n",
              "    </tr>\n",
              "    <tr>\n",
              "      <th>4</th>\n",
              "      <td>2020-02-11</td>\n",
              "      <td>Is the COVID-19 death rate calculated correctl...</td>\n",
              "      <td>neu</td>\n",
              "    </tr>\n",
              "  </tbody>\n",
              "</table>\n",
              "</div>\n",
              "      <button class=\"colab-df-convert\" onclick=\"convertToInteractive('df-68713429-3fc4-44a0-9001-a085a38c5e2b')\"\n",
              "              title=\"Convert this dataframe to an interactive table.\"\n",
              "              style=\"display:none;\">\n",
              "        \n",
              "  <svg xmlns=\"http://www.w3.org/2000/svg\" height=\"24px\"viewBox=\"0 0 24 24\"\n",
              "       width=\"24px\">\n",
              "    <path d=\"M0 0h24v24H0V0z\" fill=\"none\"/>\n",
              "    <path d=\"M18.56 5.44l.94 2.06.94-2.06 2.06-.94-2.06-.94-.94-2.06-.94 2.06-2.06.94zm-11 1L8.5 8.5l.94-2.06 2.06-.94-2.06-.94L8.5 2.5l-.94 2.06-2.06.94zm10 10l.94 2.06.94-2.06 2.06-.94-2.06-.94-.94-2.06-.94 2.06-2.06.94z\"/><path d=\"M17.41 7.96l-1.37-1.37c-.4-.4-.92-.59-1.43-.59-.52 0-1.04.2-1.43.59L10.3 9.45l-7.72 7.72c-.78.78-.78 2.05 0 2.83L4 21.41c.39.39.9.59 1.41.59.51 0 1.02-.2 1.41-.59l7.78-7.78 2.81-2.81c.8-.78.8-2.07 0-2.86zM5.41 20L4 18.59l7.72-7.72 1.47 1.35L5.41 20z\"/>\n",
              "  </svg>\n",
              "      </button>\n",
              "      \n",
              "  <style>\n",
              "    .colab-df-container {\n",
              "      display:flex;\n",
              "      flex-wrap:wrap;\n",
              "      gap: 12px;\n",
              "    }\n",
              "\n",
              "    .colab-df-convert {\n",
              "      background-color: #E8F0FE;\n",
              "      border: none;\n",
              "      border-radius: 50%;\n",
              "      cursor: pointer;\n",
              "      display: none;\n",
              "      fill: #1967D2;\n",
              "      height: 32px;\n",
              "      padding: 0 0 0 0;\n",
              "      width: 32px;\n",
              "    }\n",
              "\n",
              "    .colab-df-convert:hover {\n",
              "      background-color: #E2EBFA;\n",
              "      box-shadow: 0px 1px 2px rgba(60, 64, 67, 0.3), 0px 1px 3px 1px rgba(60, 64, 67, 0.15);\n",
              "      fill: #174EA6;\n",
              "    }\n",
              "\n",
              "    [theme=dark] .colab-df-convert {\n",
              "      background-color: #3B4455;\n",
              "      fill: #D2E3FC;\n",
              "    }\n",
              "\n",
              "    [theme=dark] .colab-df-convert:hover {\n",
              "      background-color: #434B5C;\n",
              "      box-shadow: 0px 1px 3px 1px rgba(0, 0, 0, 0.15);\n",
              "      filter: drop-shadow(0px 1px 2px rgba(0, 0, 0, 0.3));\n",
              "      fill: #FFFFFF;\n",
              "    }\n",
              "  </style>\n",
              "\n",
              "      <script>\n",
              "        const buttonEl =\n",
              "          document.querySelector('#df-68713429-3fc4-44a0-9001-a085a38c5e2b button.colab-df-convert');\n",
              "        buttonEl.style.display =\n",
              "          google.colab.kernel.accessAllowed ? 'block' : 'none';\n",
              "\n",
              "        async function convertToInteractive(key) {\n",
              "          const element = document.querySelector('#df-68713429-3fc4-44a0-9001-a085a38c5e2b');\n",
              "          const dataTable =\n",
              "            await google.colab.kernel.invokeFunction('convertToInteractive',\n",
              "                                                     [key], {});\n",
              "          if (!dataTable) return;\n",
              "\n",
              "          const docLinkHtml = 'Like what you see? Visit the ' +\n",
              "            '<a target=\"_blank\" href=https://colab.research.google.com/notebooks/data_table.ipynb>data table notebook</a>'\n",
              "            + ' to learn more about interactive tables.';\n",
              "          element.innerHTML = '';\n",
              "          dataTable['output_type'] = 'display_data';\n",
              "          await google.colab.output.renderOutput(dataTable, element);\n",
              "          const docLink = document.createElement('div');\n",
              "          docLink.innerHTML = docLinkHtml;\n",
              "          element.appendChild(docLink);\n",
              "        }\n",
              "      </script>\n",
              "    </div>\n",
              "  </div>\n",
              "  "
            ]
          },
          "metadata": {},
          "execution_count": 10
        }
      ]
    },
    {
      "cell_type": "code",
      "source": [
        "reddit_data_lang1.to_csv('reddit_data_modelled_final', mode='w', index=False, header=True)"
      ],
      "metadata": {
        "id": "fG0TXZoZGtpm"
      },
      "execution_count": null,
      "outputs": []
    },
    {
      "cell_type": "markdown",
      "metadata": {
        "id": "IQadvSkuT6Zw"
      },
      "source": [
        "# Post Processing"
      ]
    },
    {
      "cell_type": "code",
      "execution_count": null,
      "metadata": {
        "id": "g7Egqc8sXg8r"
      },
      "outputs": [],
      "source": [
        "us_state_to_abbrev = {\n",
        "    \"Alabama\": \"AL\",\n",
        "    \"Alaska\": \"AK\",\n",
        "    \"Arizona\": \"AZ\",\n",
        "    \"Arkansas\": \"AR\",\n",
        "    \"California\": \"CA\",\n",
        "    \"Colorado\": \"CO\",\n",
        "    \"Connecticut\": \"CT\",\n",
        "    \"Delaware\": \"DE\",\n",
        "    \"Florida\": \"FL\",\n",
        "    \"Georgia\": \"GA\",\n",
        "    \"Hawaii\": \"HI\",\n",
        "    \"Idaho\": \"ID\",\n",
        "    \"Illinois\": \"IL\",\n",
        "    \"Indiana\": \"IN\",\n",
        "    \"Iowa\": \"IA\",\n",
        "    \"Kansas\": \"KS\",\n",
        "    \"Kentucky\": \"KY\",\n",
        "    \"Louisiana\": \"LA\",\n",
        "    \"Maine\": \"ME\",\n",
        "    \"Maryland\": \"MD\",\n",
        "    \"Massachusetts\": \"MA\",\n",
        "    \"Michigan\": \"MI\",\n",
        "    \"Minnesota\": \"MN\",\n",
        "    \"Mississippi\": \"MS\",\n",
        "    \"Missouri\": \"MO\",\n",
        "    \"Montana\": \"MT\",\n",
        "    \"Nebraska\": \"NE\",\n",
        "    \"Nevada\": \"NV\",\n",
        "    \"New Hampshire\": \"NH\",\n",
        "    \"New Jersey\": \"NJ\",\n",
        "    \"New Mexico\": \"NM\",\n",
        "    \"New York\": \"NY\",\n",
        "    \"North Carolina\": \"NC\",\n",
        "    \"North Dakota\": \"ND\",\n",
        "    \"Ohio\": \"OH\",\n",
        "    \"Oklahoma\": \"OK\",\n",
        "    \"Oregon\": \"OR\",\n",
        "    \"Pennsylvania\": \"PA\",\n",
        "    \"Rhode Island\": \"RI\",\n",
        "    \"South Carolina\": \"SC\",\n",
        "    \"South Dakota\": \"SD\",\n",
        "    \"Tennessee\": \"TN\",\n",
        "    \"Texas\": \"TX\",\n",
        "    \"Utah\": \"UT\",\n",
        "    \"Vermont\": \"VT\",\n",
        "    \"Virginia\": \"VA\",\n",
        "    \"Washington\": \"WA\",\n",
        "    \"West Virginia\": \"WV\",\n",
        "    \"Wisconsin\": \"WI\",\n",
        "    \"Wyoming\": \"WY\",\n",
        "    \"District of Columbia\": \"DC\",\n",
        "    \"American Samoa\": \"AS\",\n",
        "    \"Guam\": \"GU\",\n",
        "    \"Northern Mariana Islands\": \"MP\",\n",
        "    \"Puerto Rico\": \"PR\",\n",
        "    \"United States Minor Outlying Islands\": \"UM\",\n",
        "    \"Virgin Islands\": \"VI\",\n",
        "}"
      ]
    },
    {
      "cell_type": "code",
      "source": [
        "abbrev_to_us_state = dict(map(reversed, us_state_to_abbrev.items()))"
      ],
      "metadata": {
        "id": "W7HFo9P_PGvu"
      },
      "execution_count": null,
      "outputs": []
    },
    {
      "cell_type": "code",
      "source": [
        "abbrev_to_us_state['TN']"
      ],
      "metadata": {
        "colab": {
          "base_uri": "https://localhost:8080/",
          "height": 35
        },
        "id": "EOpPgVodQJMA",
        "outputId": "0ea9ce35-e8da-4fe2-e446-41802b72d98f"
      },
      "execution_count": null,
      "outputs": [
        {
          "output_type": "execute_result",
          "data": {
            "text/plain": [
              "'Tennessee'"
            ],
            "application/vnd.google.colaboratory.intrinsic+json": {
              "type": "string"
            }
          },
          "metadata": {},
          "execution_count": 53
        }
      ]
    },
    {
      "cell_type": "code",
      "execution_count": null,
      "metadata": {
        "id": "-VZe_UxmUD6R"
      },
      "outputs": [],
      "source": [
        "tweet_data_labels=pd.read_csv('tweet_data_modelled')\n",
        "tweet_data_labels=tweet_data_labels.dropna()\n",
        "tweet_data_labels['date']=tweet_data_labels['date'].str[:10]+' '+tweet_data_labels['date'].str[11:19]\n",
        "tweet_data_labels['date']=pd.to_datetime(tweet_data_labels['date'])"
      ]
    },
    {
      "cell_type": "code",
      "source": [
        "pd.crosstab(tweet_data_labels['comp_score'],tweet_data_labels['comp_score'], normalize='all')*100"
      ],
      "metadata": {
        "colab": {
          "base_uri": "https://localhost:8080/",
          "height": 174
        },
        "id": "OuAPc453uLIL",
        "outputId": "d252d1f4-9a65-450e-82c4-85ffb3f3e4a2"
      },
      "execution_count": null,
      "outputs": [
        {
          "output_type": "execute_result",
          "data": {
            "text/plain": [
              "comp_score        neg        neu       pos\n",
              "comp_score                                \n",
              "neg         26.310555   0.000000   0.00000\n",
              "neu          0.000000  39.931465   0.00000\n",
              "pos          0.000000   0.000000  33.75798"
            ],
            "text/html": [
              "\n",
              "  <div id=\"df-c42377a2-3573-46b8-ba71-9997b1888e20\">\n",
              "    <div class=\"colab-df-container\">\n",
              "      <div>\n",
              "<style scoped>\n",
              "    .dataframe tbody tr th:only-of-type {\n",
              "        vertical-align: middle;\n",
              "    }\n",
              "\n",
              "    .dataframe tbody tr th {\n",
              "        vertical-align: top;\n",
              "    }\n",
              "\n",
              "    .dataframe thead th {\n",
              "        text-align: right;\n",
              "    }\n",
              "</style>\n",
              "<table border=\"1\" class=\"dataframe\">\n",
              "  <thead>\n",
              "    <tr style=\"text-align: right;\">\n",
              "      <th>comp_score</th>\n",
              "      <th>neg</th>\n",
              "      <th>neu</th>\n",
              "      <th>pos</th>\n",
              "    </tr>\n",
              "    <tr>\n",
              "      <th>comp_score</th>\n",
              "      <th></th>\n",
              "      <th></th>\n",
              "      <th></th>\n",
              "    </tr>\n",
              "  </thead>\n",
              "  <tbody>\n",
              "    <tr>\n",
              "      <th>neg</th>\n",
              "      <td>26.310555</td>\n",
              "      <td>0.000000</td>\n",
              "      <td>0.00000</td>\n",
              "    </tr>\n",
              "    <tr>\n",
              "      <th>neu</th>\n",
              "      <td>0.000000</td>\n",
              "      <td>39.931465</td>\n",
              "      <td>0.00000</td>\n",
              "    </tr>\n",
              "    <tr>\n",
              "      <th>pos</th>\n",
              "      <td>0.000000</td>\n",
              "      <td>0.000000</td>\n",
              "      <td>33.75798</td>\n",
              "    </tr>\n",
              "  </tbody>\n",
              "</table>\n",
              "</div>\n",
              "      <button class=\"colab-df-convert\" onclick=\"convertToInteractive('df-c42377a2-3573-46b8-ba71-9997b1888e20')\"\n",
              "              title=\"Convert this dataframe to an interactive table.\"\n",
              "              style=\"display:none;\">\n",
              "        \n",
              "  <svg xmlns=\"http://www.w3.org/2000/svg\" height=\"24px\"viewBox=\"0 0 24 24\"\n",
              "       width=\"24px\">\n",
              "    <path d=\"M0 0h24v24H0V0z\" fill=\"none\"/>\n",
              "    <path d=\"M18.56 5.44l.94 2.06.94-2.06 2.06-.94-2.06-.94-.94-2.06-.94 2.06-2.06.94zm-11 1L8.5 8.5l.94-2.06 2.06-.94-2.06-.94L8.5 2.5l-.94 2.06-2.06.94zm10 10l.94 2.06.94-2.06 2.06-.94-2.06-.94-.94-2.06-.94 2.06-2.06.94z\"/><path d=\"M17.41 7.96l-1.37-1.37c-.4-.4-.92-.59-1.43-.59-.52 0-1.04.2-1.43.59L10.3 9.45l-7.72 7.72c-.78.78-.78 2.05 0 2.83L4 21.41c.39.39.9.59 1.41.59.51 0 1.02-.2 1.41-.59l7.78-7.78 2.81-2.81c.8-.78.8-2.07 0-2.86zM5.41 20L4 18.59l7.72-7.72 1.47 1.35L5.41 20z\"/>\n",
              "  </svg>\n",
              "      </button>\n",
              "      \n",
              "  <style>\n",
              "    .colab-df-container {\n",
              "      display:flex;\n",
              "      flex-wrap:wrap;\n",
              "      gap: 12px;\n",
              "    }\n",
              "\n",
              "    .colab-df-convert {\n",
              "      background-color: #E8F0FE;\n",
              "      border: none;\n",
              "      border-radius: 50%;\n",
              "      cursor: pointer;\n",
              "      display: none;\n",
              "      fill: #1967D2;\n",
              "      height: 32px;\n",
              "      padding: 0 0 0 0;\n",
              "      width: 32px;\n",
              "    }\n",
              "\n",
              "    .colab-df-convert:hover {\n",
              "      background-color: #E2EBFA;\n",
              "      box-shadow: 0px 1px 2px rgba(60, 64, 67, 0.3), 0px 1px 3px 1px rgba(60, 64, 67, 0.15);\n",
              "      fill: #174EA6;\n",
              "    }\n",
              "\n",
              "    [theme=dark] .colab-df-convert {\n",
              "      background-color: #3B4455;\n",
              "      fill: #D2E3FC;\n",
              "    }\n",
              "\n",
              "    [theme=dark] .colab-df-convert:hover {\n",
              "      background-color: #434B5C;\n",
              "      box-shadow: 0px 1px 3px 1px rgba(0, 0, 0, 0.15);\n",
              "      filter: drop-shadow(0px 1px 2px rgba(0, 0, 0, 0.3));\n",
              "      fill: #FFFFFF;\n",
              "    }\n",
              "  </style>\n",
              "\n",
              "      <script>\n",
              "        const buttonEl =\n",
              "          document.querySelector('#df-c42377a2-3573-46b8-ba71-9997b1888e20 button.colab-df-convert');\n",
              "        buttonEl.style.display =\n",
              "          google.colab.kernel.accessAllowed ? 'block' : 'none';\n",
              "\n",
              "        async function convertToInteractive(key) {\n",
              "          const element = document.querySelector('#df-c42377a2-3573-46b8-ba71-9997b1888e20');\n",
              "          const dataTable =\n",
              "            await google.colab.kernel.invokeFunction('convertToInteractive',\n",
              "                                                     [key], {});\n",
              "          if (!dataTable) return;\n",
              "\n",
              "          const docLinkHtml = 'Like what you see? Visit the ' +\n",
              "            '<a target=\"_blank\" href=https://colab.research.google.com/notebooks/data_table.ipynb>data table notebook</a>'\n",
              "            + ' to learn more about interactive tables.';\n",
              "          element.innerHTML = '';\n",
              "          dataTable['output_type'] = 'display_data';\n",
              "          await google.colab.output.renderOutput(dataTable, element);\n",
              "          const docLink = document.createElement('div');\n",
              "          docLink.innerHTML = docLinkHtml;\n",
              "          element.appendChild(docLink);\n",
              "        }\n",
              "      </script>\n",
              "    </div>\n",
              "  </div>\n",
              "  "
            ]
          },
          "metadata": {},
          "execution_count": 6
        }
      ]
    },
    {
      "cell_type": "code",
      "source": [
        "  reddit_data_labels=pd.read_csv('reddit_data_modelled_final', lineterminator='\\n')\n",
        "  reddit_data_labels=reddit_data_labels.dropna()\n",
        "  reddit_data_labels['date']=reddit_data_labels['date'].str[:10]+' '+reddit_data_labels['date'].str[11:19]\n",
        "  reddit_data_labels['date']=pd.to_datetime(reddit_data_labels['date'])"
      ],
      "metadata": {
        "id": "CoeYdAeOvKEf"
      },
      "execution_count": null,
      "outputs": []
    },
    {
      "cell_type": "code",
      "source": [
        "pd.crosstab(reddit_data_labels['comp_score'],reddit_data_labels['comp_score'], normalize='all')*100"
      ],
      "metadata": {
        "colab": {
          "base_uri": "https://localhost:8080/",
          "height": 174
        },
        "id": "vrSsY1kivjSH",
        "outputId": "1b68688c-2a37-4731-be63-8683606fd855"
      },
      "execution_count": null,
      "outputs": [
        {
          "output_type": "execute_result",
          "data": {
            "text/plain": [
              "comp_score        neg        neu       pos\n",
              "comp_score                                \n",
              "neg         28.907643   0.000000   0.00000\n",
              "neu          0.000000  39.081487   0.00000\n",
              "pos          0.000000   0.000000  32.01087"
            ],
            "text/html": [
              "\n",
              "  <div id=\"df-c353052d-6364-4879-befb-678473065fc2\">\n",
              "    <div class=\"colab-df-container\">\n",
              "      <div>\n",
              "<style scoped>\n",
              "    .dataframe tbody tr th:only-of-type {\n",
              "        vertical-align: middle;\n",
              "    }\n",
              "\n",
              "    .dataframe tbody tr th {\n",
              "        vertical-align: top;\n",
              "    }\n",
              "\n",
              "    .dataframe thead th {\n",
              "        text-align: right;\n",
              "    }\n",
              "</style>\n",
              "<table border=\"1\" class=\"dataframe\">\n",
              "  <thead>\n",
              "    <tr style=\"text-align: right;\">\n",
              "      <th>comp_score</th>\n",
              "      <th>neg</th>\n",
              "      <th>neu</th>\n",
              "      <th>pos</th>\n",
              "    </tr>\n",
              "    <tr>\n",
              "      <th>comp_score</th>\n",
              "      <th></th>\n",
              "      <th></th>\n",
              "      <th></th>\n",
              "    </tr>\n",
              "  </thead>\n",
              "  <tbody>\n",
              "    <tr>\n",
              "      <th>neg</th>\n",
              "      <td>28.907643</td>\n",
              "      <td>0.000000</td>\n",
              "      <td>0.00000</td>\n",
              "    </tr>\n",
              "    <tr>\n",
              "      <th>neu</th>\n",
              "      <td>0.000000</td>\n",
              "      <td>39.081487</td>\n",
              "      <td>0.00000</td>\n",
              "    </tr>\n",
              "    <tr>\n",
              "      <th>pos</th>\n",
              "      <td>0.000000</td>\n",
              "      <td>0.000000</td>\n",
              "      <td>32.01087</td>\n",
              "    </tr>\n",
              "  </tbody>\n",
              "</table>\n",
              "</div>\n",
              "      <button class=\"colab-df-convert\" onclick=\"convertToInteractive('df-c353052d-6364-4879-befb-678473065fc2')\"\n",
              "              title=\"Convert this dataframe to an interactive table.\"\n",
              "              style=\"display:none;\">\n",
              "        \n",
              "  <svg xmlns=\"http://www.w3.org/2000/svg\" height=\"24px\"viewBox=\"0 0 24 24\"\n",
              "       width=\"24px\">\n",
              "    <path d=\"M0 0h24v24H0V0z\" fill=\"none\"/>\n",
              "    <path d=\"M18.56 5.44l.94 2.06.94-2.06 2.06-.94-2.06-.94-.94-2.06-.94 2.06-2.06.94zm-11 1L8.5 8.5l.94-2.06 2.06-.94-2.06-.94L8.5 2.5l-.94 2.06-2.06.94zm10 10l.94 2.06.94-2.06 2.06-.94-2.06-.94-.94-2.06-.94 2.06-2.06.94z\"/><path d=\"M17.41 7.96l-1.37-1.37c-.4-.4-.92-.59-1.43-.59-.52 0-1.04.2-1.43.59L10.3 9.45l-7.72 7.72c-.78.78-.78 2.05 0 2.83L4 21.41c.39.39.9.59 1.41.59.51 0 1.02-.2 1.41-.59l7.78-7.78 2.81-2.81c.8-.78.8-2.07 0-2.86zM5.41 20L4 18.59l7.72-7.72 1.47 1.35L5.41 20z\"/>\n",
              "  </svg>\n",
              "      </button>\n",
              "      \n",
              "  <style>\n",
              "    .colab-df-container {\n",
              "      display:flex;\n",
              "      flex-wrap:wrap;\n",
              "      gap: 12px;\n",
              "    }\n",
              "\n",
              "    .colab-df-convert {\n",
              "      background-color: #E8F0FE;\n",
              "      border: none;\n",
              "      border-radius: 50%;\n",
              "      cursor: pointer;\n",
              "      display: none;\n",
              "      fill: #1967D2;\n",
              "      height: 32px;\n",
              "      padding: 0 0 0 0;\n",
              "      width: 32px;\n",
              "    }\n",
              "\n",
              "    .colab-df-convert:hover {\n",
              "      background-color: #E2EBFA;\n",
              "      box-shadow: 0px 1px 2px rgba(60, 64, 67, 0.3), 0px 1px 3px 1px rgba(60, 64, 67, 0.15);\n",
              "      fill: #174EA6;\n",
              "    }\n",
              "\n",
              "    [theme=dark] .colab-df-convert {\n",
              "      background-color: #3B4455;\n",
              "      fill: #D2E3FC;\n",
              "    }\n",
              "\n",
              "    [theme=dark] .colab-df-convert:hover {\n",
              "      background-color: #434B5C;\n",
              "      box-shadow: 0px 1px 3px 1px rgba(0, 0, 0, 0.15);\n",
              "      filter: drop-shadow(0px 1px 2px rgba(0, 0, 0, 0.3));\n",
              "      fill: #FFFFFF;\n",
              "    }\n",
              "  </style>\n",
              "\n",
              "      <script>\n",
              "        const buttonEl =\n",
              "          document.querySelector('#df-c353052d-6364-4879-befb-678473065fc2 button.colab-df-convert');\n",
              "        buttonEl.style.display =\n",
              "          google.colab.kernel.accessAllowed ? 'block' : 'none';\n",
              "\n",
              "        async function convertToInteractive(key) {\n",
              "          const element = document.querySelector('#df-c353052d-6364-4879-befb-678473065fc2');\n",
              "          const dataTable =\n",
              "            await google.colab.kernel.invokeFunction('convertToInteractive',\n",
              "                                                     [key], {});\n",
              "          if (!dataTable) return;\n",
              "\n",
              "          const docLinkHtml = 'Like what you see? Visit the ' +\n",
              "            '<a target=\"_blank\" href=https://colab.research.google.com/notebooks/data_table.ipynb>data table notebook</a>'\n",
              "            + ' to learn more about interactive tables.';\n",
              "          element.innerHTML = '';\n",
              "          dataTable['output_type'] = 'display_data';\n",
              "          await google.colab.output.renderOutput(dataTable, element);\n",
              "          const docLink = document.createElement('div');\n",
              "          docLink.innerHTML = docLinkHtml;\n",
              "          element.appendChild(docLink);\n",
              "        }\n",
              "      </script>\n",
              "    </div>\n",
              "  </div>\n",
              "  "
            ]
          },
          "metadata": {},
          "execution_count": 10
        }
      ]
    },
    {
      "cell_type": "code",
      "execution_count": null,
      "metadata": {
        "id": "J1FqUKxwXmEj"
      },
      "outputs": [],
      "source": [
        "def get_state(location):\n",
        "  loc=location.split(', ')\n",
        "  if loc[1]=='USA':\n",
        "    return us_state_to_abbrev[loc[0]]\n",
        "  else:\n",
        "    return loc[1]"
      ]
    },
    {
      "cell_type": "code",
      "execution_count": null,
      "metadata": {
        "id": "rhEpAkbdUz_K"
      },
      "outputs": [],
      "source": [
        "tweet_data_labels = pd.get_dummies(data=tweet_data_labels, columns=['comp_score'], drop_first=False)\n",
        "\n",
        "tweet_data_labels=tweet_data_labels[(tweet_data_labels.loc_type=='city') | (tweet_data_labels.loc_type=='admin')]\n",
        "\n",
        "tweet_data_labels=tweet_data_labels[tweet_data_labels.loc_name.str.split(', ', expand=True)[0]!='Tumon']\n",
        "tweet_data_labels=tweet_data_labels[tweet_data_labels.loc_name.str.split(', ', expand=True)[0]!='Barrigada']\n",
        "tweet_data_labels=tweet_data_labels[tweet_data_labels.loc_name.str.split(', ', expand=True)[0]!='Maite']\n",
        "tweet_data_labels=tweet_data_labels[tweet_data_labels.loc_name.str.split(', ', expand=True)[0]!='Barrigada Heights']\n",
        "tweet_data_labels=tweet_data_labels[tweet_data_labels.loc_name.str.split(', ', expand=True)[0]!='Santa Rita']\n",
        "tweet_data_labels=tweet_data_labels[tweet_data_labels.loc_name.str.split(', ', expand=True)[0]!='Dededo']\n",
        "tweet_data_labels=tweet_data_labels[tweet_data_labels.loc_name.str.split(', ', expand=True)[0]!='Toto']\n",
        "\n",
        "tweet_data_labels=tweet_data_labels[tweet_data_labels.loc_name.str.contains(',')]\n",
        "\n",
        "tweet_data_labels['state'] = tweet_data_labels['loc_name'].apply(lambda c: get_state(c))\n",
        "\n",
        "tweet_data_labels['date_only']=tweet_data_labels['date'].dt.date\n",
        "\n",
        "tweet_data_labels['month'] = tweet_data_labels['date'].dt.month\n",
        "tweet_data_labels['year'] = tweet_data_labels['date'].dt.year\n",
        "\n",
        "tweet_data_labels['comp_score_pos']=tweet_data_labels['comp_score_pos'].astype(int)\n",
        "tweet_data_labels['comp_score_neg']=tweet_data_labels['comp_score_neg'].astype(int)\n",
        "tweet_data_labels['comp_score_neu']=tweet_data_labels['comp_score_neu'].astype(int)\n",
        "\n",
        "tweet_data_labels['sent_score']=tweet_data_labels['comp_score_pos']-tweet_data_labels['comp_score_neg']"
      ]
    },
    {
      "cell_type": "code",
      "execution_count": null,
      "metadata": {
        "id": "zeKY5DF55Ca0"
      },
      "outputs": [],
      "source": [
        "# Function to get freq words\n",
        "stop = stopwords.words('english')\n",
        "stop.extend(['covid', 'covid-19', 'covid19', '&amp;', '#covid_19', 'coronavirus', 'covid.', ' ', '', '-', '|', '&#x200b;', '*', '>', '<'])\n",
        "\n",
        "def freq_words(tweet):\n",
        "  counts=defaultdict(int)\n",
        "  tweet=depure_data(tweet)\n",
        "  words=tweet.split(' ')\n",
        "  for word in words:\n",
        "    word=word.lower()\n",
        "    if word not in (stop):\n",
        "      counts[word]+=1\n",
        "\n",
        "  sorted_words=sorted(counts.items(), key=operator.itemgetter(1), reverse=True)\n",
        "  return sorted_words[:20]"
      ]
    },
    {
      "cell_type": "code",
      "execution_count": null,
      "metadata": {
        "id": "oLpQW7ZpwMXM"
      },
      "outputs": [],
      "source": [
        "reddit_data_labels=[]\n",
        "for i in range(6):\n",
        "  reddit_data_labels.append(pd.read_csv('reddit_data_modelled_'+str(i+1), lineterminator='\\n'))\n",
        "  reddit_data_labels[i]=reddit_data_labels[i].dropna()\n",
        "  reddit_data_labels[i]['date']=reddit_data_labels[i]['date'].str[:10]+' '+reddit_data_labels[i]['date'].str[11:19]\n",
        "  reddit_data_labels[i]['date']=pd.to_datetime(reddit_data_labels[i]['date'])\n",
        "\n",
        "  reddit_data_labels[i] = pd.get_dummies(data=reddit_data_labels[i], columns=['comp_score'], drop_first=False)\n",
        "\n",
        "  reddit_data_labels[i]['date_only']=reddit_data_labels[i]['date'].dt.date\n",
        "\n",
        "  reddit_data_labels[i]['month'] = reddit_data_labels[i]['date'].dt.month\n",
        "  reddit_data_labels[i]['year'] = reddit_data_labels[i]['date'].dt.year\n",
        "\n",
        "  reddit_data_labels[i]['comp_score_pos']=reddit_data_labels[i]['comp_score_pos'].astype(int)\n",
        "  reddit_data_labels[i]['comp_score_neg']=reddit_data_labels[i]['comp_score_neg'].astype(int)\n",
        "  reddit_data_labels[i]['comp_score_neu']=reddit_data_labels[i]['comp_score_neu'].astype(int)\n",
        "\n",
        "  reddit_data_labels[i]['sent_score']=reddit_data_labels[i]['comp_score_pos']-reddit_data_labels[i]['comp_score_neg']\n",
        "\n",
        "  reddit_data_labels[i]=(reddit_data_labels[i].groupby(['date_only', 'month', 'year'])['text'].apply(lambda x: ' '.join(x)).reset_index())"
      ]
    },
    {
      "cell_type": "code",
      "source": [
        "reddit_data=reddit_data_labels[0]\n",
        "for i in range (1, 6):\n",
        "    reddit_data=pd.concat([reddit_data, reddit_data_labels[i]], ignore_index=True)\n",
        "\n",
        "reddit_data_labels=0\n",
        "reddit_data"
      ],
      "metadata": {
        "colab": {
          "base_uri": "https://localhost:8080/",
          "height": 423
        },
        "id": "kIpJFvqIyVsJ",
        "outputId": "8311ca25-2022-49c1-f597-c13a3d555a6b"
      },
      "execution_count": null,
      "outputs": [
        {
          "output_type": "execute_result",
          "data": {
            "text/plain": [
              "      date_only  month  year  \\\n",
              "0    2020-02-11      2  2020   \n",
              "1    2020-02-12      2  2020   \n",
              "2    2020-02-13      2  2020   \n",
              "3    2020-02-14      2  2020   \n",
              "4    2020-02-15      2  2020   \n",
              "..          ...    ...   ...   \n",
              "673  2021-12-27     12  2021   \n",
              "674  2021-12-28     12  2021   \n",
              "675  2021-12-29     12  2021   \n",
              "676  2021-12-30     12  2021   \n",
              "677  2021-12-31     12  2021   \n",
              "\n",
              "                                                  text  \n",
              "0    Are you guys worried about the Coronavirus (CO...  \n",
              "1    'Way too early' to predict end of COVID-19 cor...  \n",
              "2    Time is right for ATHX [removed] @TheEconomist...  \n",
              "3    Come join our user-moderated Discord Server to...  \n",
              "4    Keto Prepper Supplies? So, hub and I are mild ...  \n",
              "..                                                 ...  \n",
              "673  Nick Hudson of PANDA on recent events indicati...  \n",
              "674  Seeking marathon medal! [removed] [deleted by ...  \n",
              "675  Saying \"I'd rather have multiplayer cost $60\" ...  \n",
              "676  CDC Director Admits Latest COVID Restrictions ...  \n",
              "677  death burnout help Dear coven members. I am lo...  \n",
              "\n",
              "[678 rows x 4 columns]"
            ],
            "text/html": [
              "\n",
              "  <div id=\"df-b92ec504-05f6-4b9b-8367-0b5d8cf503f9\">\n",
              "    <div class=\"colab-df-container\">\n",
              "      <div>\n",
              "<style scoped>\n",
              "    .dataframe tbody tr th:only-of-type {\n",
              "        vertical-align: middle;\n",
              "    }\n",
              "\n",
              "    .dataframe tbody tr th {\n",
              "        vertical-align: top;\n",
              "    }\n",
              "\n",
              "    .dataframe thead th {\n",
              "        text-align: right;\n",
              "    }\n",
              "</style>\n",
              "<table border=\"1\" class=\"dataframe\">\n",
              "  <thead>\n",
              "    <tr style=\"text-align: right;\">\n",
              "      <th></th>\n",
              "      <th>date_only</th>\n",
              "      <th>month</th>\n",
              "      <th>year</th>\n",
              "      <th>text</th>\n",
              "    </tr>\n",
              "  </thead>\n",
              "  <tbody>\n",
              "    <tr>\n",
              "      <th>0</th>\n",
              "      <td>2020-02-11</td>\n",
              "      <td>2</td>\n",
              "      <td>2020</td>\n",
              "      <td>Are you guys worried about the Coronavirus (CO...</td>\n",
              "    </tr>\n",
              "    <tr>\n",
              "      <th>1</th>\n",
              "      <td>2020-02-12</td>\n",
              "      <td>2</td>\n",
              "      <td>2020</td>\n",
              "      <td>'Way too early' to predict end of COVID-19 cor...</td>\n",
              "    </tr>\n",
              "    <tr>\n",
              "      <th>2</th>\n",
              "      <td>2020-02-13</td>\n",
              "      <td>2</td>\n",
              "      <td>2020</td>\n",
              "      <td>Time is right for ATHX [removed] @TheEconomist...</td>\n",
              "    </tr>\n",
              "    <tr>\n",
              "      <th>3</th>\n",
              "      <td>2020-02-14</td>\n",
              "      <td>2</td>\n",
              "      <td>2020</td>\n",
              "      <td>Come join our user-moderated Discord Server to...</td>\n",
              "    </tr>\n",
              "    <tr>\n",
              "      <th>4</th>\n",
              "      <td>2020-02-15</td>\n",
              "      <td>2</td>\n",
              "      <td>2020</td>\n",
              "      <td>Keto Prepper Supplies? So, hub and I are mild ...</td>\n",
              "    </tr>\n",
              "    <tr>\n",
              "      <th>...</th>\n",
              "      <td>...</td>\n",
              "      <td>...</td>\n",
              "      <td>...</td>\n",
              "      <td>...</td>\n",
              "    </tr>\n",
              "    <tr>\n",
              "      <th>673</th>\n",
              "      <td>2021-12-27</td>\n",
              "      <td>12</td>\n",
              "      <td>2021</td>\n",
              "      <td>Nick Hudson of PANDA on recent events indicati...</td>\n",
              "    </tr>\n",
              "    <tr>\n",
              "      <th>674</th>\n",
              "      <td>2021-12-28</td>\n",
              "      <td>12</td>\n",
              "      <td>2021</td>\n",
              "      <td>Seeking marathon medal! [removed] [deleted by ...</td>\n",
              "    </tr>\n",
              "    <tr>\n",
              "      <th>675</th>\n",
              "      <td>2021-12-29</td>\n",
              "      <td>12</td>\n",
              "      <td>2021</td>\n",
              "      <td>Saying \"I'd rather have multiplayer cost $60\" ...</td>\n",
              "    </tr>\n",
              "    <tr>\n",
              "      <th>676</th>\n",
              "      <td>2021-12-30</td>\n",
              "      <td>12</td>\n",
              "      <td>2021</td>\n",
              "      <td>CDC Director Admits Latest COVID Restrictions ...</td>\n",
              "    </tr>\n",
              "    <tr>\n",
              "      <th>677</th>\n",
              "      <td>2021-12-31</td>\n",
              "      <td>12</td>\n",
              "      <td>2021</td>\n",
              "      <td>death burnout help Dear coven members. I am lo...</td>\n",
              "    </tr>\n",
              "  </tbody>\n",
              "</table>\n",
              "<p>678 rows × 4 columns</p>\n",
              "</div>\n",
              "      <button class=\"colab-df-convert\" onclick=\"convertToInteractive('df-b92ec504-05f6-4b9b-8367-0b5d8cf503f9')\"\n",
              "              title=\"Convert this dataframe to an interactive table.\"\n",
              "              style=\"display:none;\">\n",
              "        \n",
              "  <svg xmlns=\"http://www.w3.org/2000/svg\" height=\"24px\"viewBox=\"0 0 24 24\"\n",
              "       width=\"24px\">\n",
              "    <path d=\"M0 0h24v24H0V0z\" fill=\"none\"/>\n",
              "    <path d=\"M18.56 5.44l.94 2.06.94-2.06 2.06-.94-2.06-.94-.94-2.06-.94 2.06-2.06.94zm-11 1L8.5 8.5l.94-2.06 2.06-.94-2.06-.94L8.5 2.5l-.94 2.06-2.06.94zm10 10l.94 2.06.94-2.06 2.06-.94-2.06-.94-.94-2.06-.94 2.06-2.06.94z\"/><path d=\"M17.41 7.96l-1.37-1.37c-.4-.4-.92-.59-1.43-.59-.52 0-1.04.2-1.43.59L10.3 9.45l-7.72 7.72c-.78.78-.78 2.05 0 2.83L4 21.41c.39.39.9.59 1.41.59.51 0 1.02-.2 1.41-.59l7.78-7.78 2.81-2.81c.8-.78.8-2.07 0-2.86zM5.41 20L4 18.59l7.72-7.72 1.47 1.35L5.41 20z\"/>\n",
              "  </svg>\n",
              "      </button>\n",
              "      \n",
              "  <style>\n",
              "    .colab-df-container {\n",
              "      display:flex;\n",
              "      flex-wrap:wrap;\n",
              "      gap: 12px;\n",
              "    }\n",
              "\n",
              "    .colab-df-convert {\n",
              "      background-color: #E8F0FE;\n",
              "      border: none;\n",
              "      border-radius: 50%;\n",
              "      cursor: pointer;\n",
              "      display: none;\n",
              "      fill: #1967D2;\n",
              "      height: 32px;\n",
              "      padding: 0 0 0 0;\n",
              "      width: 32px;\n",
              "    }\n",
              "\n",
              "    .colab-df-convert:hover {\n",
              "      background-color: #E2EBFA;\n",
              "      box-shadow: 0px 1px 2px rgba(60, 64, 67, 0.3), 0px 1px 3px 1px rgba(60, 64, 67, 0.15);\n",
              "      fill: #174EA6;\n",
              "    }\n",
              "\n",
              "    [theme=dark] .colab-df-convert {\n",
              "      background-color: #3B4455;\n",
              "      fill: #D2E3FC;\n",
              "    }\n",
              "\n",
              "    [theme=dark] .colab-df-convert:hover {\n",
              "      background-color: #434B5C;\n",
              "      box-shadow: 0px 1px 3px 1px rgba(0, 0, 0, 0.15);\n",
              "      filter: drop-shadow(0px 1px 2px rgba(0, 0, 0, 0.3));\n",
              "      fill: #FFFFFF;\n",
              "    }\n",
              "  </style>\n",
              "\n",
              "      <script>\n",
              "        const buttonEl =\n",
              "          document.querySelector('#df-b92ec504-05f6-4b9b-8367-0b5d8cf503f9 button.colab-df-convert');\n",
              "        buttonEl.style.display =\n",
              "          google.colab.kernel.accessAllowed ? 'block' : 'none';\n",
              "\n",
              "        async function convertToInteractive(key) {\n",
              "          const element = document.querySelector('#df-b92ec504-05f6-4b9b-8367-0b5d8cf503f9');\n",
              "          const dataTable =\n",
              "            await google.colab.kernel.invokeFunction('convertToInteractive',\n",
              "                                                     [key], {});\n",
              "          if (!dataTable) return;\n",
              "\n",
              "          const docLinkHtml = 'Like what you see? Visit the ' +\n",
              "            '<a target=\"_blank\" href=https://colab.research.google.com/notebooks/data_table.ipynb>data table notebook</a>'\n",
              "            + ' to learn more about interactive tables.';\n",
              "          element.innerHTML = '';\n",
              "          dataTable['output_type'] = 'display_data';\n",
              "          await google.colab.output.renderOutput(dataTable, element);\n",
              "          const docLink = document.createElement('div');\n",
              "          docLink.innerHTML = docLinkHtml;\n",
              "          element.appendChild(docLink);\n",
              "        }\n",
              "      </script>\n",
              "    </div>\n",
              "  </div>\n",
              "  "
            ]
          },
          "metadata": {},
          "execution_count": 7
        }
      ]
    },
    {
      "cell_type": "code",
      "source": [
        "del reddit_data_labels"
      ],
      "metadata": {
        "id": "eXX_T73Z7BkX"
      },
      "execution_count": null,
      "outputs": []
    },
    {
      "cell_type": "code",
      "source": [
        "reddit_data=reddit_data.groupby(['date_only', 'month', 'year'])['text'].apply(lambda x: ' '.join(x)).reset_index()"
      ],
      "metadata": {
        "id": "pk3FnsF2zkTz"
      },
      "execution_count": null,
      "outputs": []
    },
    {
      "cell_type": "code",
      "source": [
        "reddit_data['freq_words'] = reddit_data['text'].apply(lambda c: freq_words(c))"
      ],
      "metadata": {
        "id": "1hdc3UaV4teI"
      },
      "execution_count": null,
      "outputs": []
    },
    {
      "cell_type": "code",
      "source": [
        "reddit_data_text_day=reddit_data[['date_only', 'month', 'year', 'freq_words']]\n",
        "\n",
        "reddit_data_text_day.to_csv('reddit_data_text_day', mode='w', index=False, header=True)\n",
        "reddit_data_text_day"
      ],
      "metadata": {
        "colab": {
          "base_uri": "https://localhost:8080/",
          "height": 423
        },
        "id": "o4fnfiik4yEH",
        "outputId": "38255f2e-e12b-43b1-e9fc-787d0c4619dd"
      },
      "execution_count": null,
      "outputs": [
        {
          "output_type": "execute_result",
          "data": {
            "text/plain": [
              "      date_only  month  year  \\\n",
              "0    2020-02-11      2  2020   \n",
              "1    2020-02-12      2  2020   \n",
              "2    2020-02-13      2  2020   \n",
              "3    2020-02-14      2  2020   \n",
              "4    2020-02-15      2  2020   \n",
              "..          ...    ...   ...   \n",
              "668  2021-12-27     12  2021   \n",
              "669  2021-12-28     12  2021   \n",
              "670  2021-12-29     12  2021   \n",
              "671  2021-12-30     12  2021   \n",
              "672  2021-12-31     12  2021   \n",
              "\n",
              "                                            freq_words  \n",
              "0    [(new, 57), (name, 48), (officially, 33), (vir...  \n",
              "1    [(new, 82), (cases, 59), ([removed], 57), (vir...  \n",
              "2    [(virus, 98), (china, 89), (cases, 77), (new, ...  \n",
              "3    [(outbreak, 148), (|[who, 138), (information, ...  \n",
              "4    [(virus, 72), (people, 62), (health, 60), (cas...  \n",
              "..                                                 ...  \n",
              "668  [(get, 2176), (like, 1998), (im, 1981), (would...  \n",
              "669  [(get, 2454), (like, 2297), (would, 1926), (im...  \n",
              "670  [(get, 2315), (like, 2240), (im, 2024), (new, ...  \n",
              "671  [(get, 2441), (like, 2328), (im, 2048), (new, ...  \n",
              "672  [(get, 2678), (new, 2574), (like, 2562), (im, ...  \n",
              "\n",
              "[673 rows x 4 columns]"
            ],
            "text/html": [
              "\n",
              "  <div id=\"df-f8dad67f-1265-47ea-a6c7-bed68202f154\">\n",
              "    <div class=\"colab-df-container\">\n",
              "      <div>\n",
              "<style scoped>\n",
              "    .dataframe tbody tr th:only-of-type {\n",
              "        vertical-align: middle;\n",
              "    }\n",
              "\n",
              "    .dataframe tbody tr th {\n",
              "        vertical-align: top;\n",
              "    }\n",
              "\n",
              "    .dataframe thead th {\n",
              "        text-align: right;\n",
              "    }\n",
              "</style>\n",
              "<table border=\"1\" class=\"dataframe\">\n",
              "  <thead>\n",
              "    <tr style=\"text-align: right;\">\n",
              "      <th></th>\n",
              "      <th>date_only</th>\n",
              "      <th>month</th>\n",
              "      <th>year</th>\n",
              "      <th>freq_words</th>\n",
              "    </tr>\n",
              "  </thead>\n",
              "  <tbody>\n",
              "    <tr>\n",
              "      <th>0</th>\n",
              "      <td>2020-02-11</td>\n",
              "      <td>2</td>\n",
              "      <td>2020</td>\n",
              "      <td>[(new, 57), (name, 48), (officially, 33), (vir...</td>\n",
              "    </tr>\n",
              "    <tr>\n",
              "      <th>1</th>\n",
              "      <td>2020-02-12</td>\n",
              "      <td>2</td>\n",
              "      <td>2020</td>\n",
              "      <td>[(new, 82), (cases, 59), ([removed], 57), (vir...</td>\n",
              "    </tr>\n",
              "    <tr>\n",
              "      <th>2</th>\n",
              "      <td>2020-02-13</td>\n",
              "      <td>2</td>\n",
              "      <td>2020</td>\n",
              "      <td>[(virus, 98), (china, 89), (cases, 77), (new, ...</td>\n",
              "    </tr>\n",
              "    <tr>\n",
              "      <th>3</th>\n",
              "      <td>2020-02-14</td>\n",
              "      <td>2</td>\n",
              "      <td>2020</td>\n",
              "      <td>[(outbreak, 148), (|[who, 138), (information, ...</td>\n",
              "    </tr>\n",
              "    <tr>\n",
              "      <th>4</th>\n",
              "      <td>2020-02-15</td>\n",
              "      <td>2</td>\n",
              "      <td>2020</td>\n",
              "      <td>[(virus, 72), (people, 62), (health, 60), (cas...</td>\n",
              "    </tr>\n",
              "    <tr>\n",
              "      <th>...</th>\n",
              "      <td>...</td>\n",
              "      <td>...</td>\n",
              "      <td>...</td>\n",
              "      <td>...</td>\n",
              "    </tr>\n",
              "    <tr>\n",
              "      <th>668</th>\n",
              "      <td>2021-12-27</td>\n",
              "      <td>12</td>\n",
              "      <td>2021</td>\n",
              "      <td>[(get, 2176), (like, 1998), (im, 1981), (would...</td>\n",
              "    </tr>\n",
              "    <tr>\n",
              "      <th>669</th>\n",
              "      <td>2021-12-28</td>\n",
              "      <td>12</td>\n",
              "      <td>2021</td>\n",
              "      <td>[(get, 2454), (like, 2297), (would, 1926), (im...</td>\n",
              "    </tr>\n",
              "    <tr>\n",
              "      <th>670</th>\n",
              "      <td>2021-12-29</td>\n",
              "      <td>12</td>\n",
              "      <td>2021</td>\n",
              "      <td>[(get, 2315), (like, 2240), (im, 2024), (new, ...</td>\n",
              "    </tr>\n",
              "    <tr>\n",
              "      <th>671</th>\n",
              "      <td>2021-12-30</td>\n",
              "      <td>12</td>\n",
              "      <td>2021</td>\n",
              "      <td>[(get, 2441), (like, 2328), (im, 2048), (new, ...</td>\n",
              "    </tr>\n",
              "    <tr>\n",
              "      <th>672</th>\n",
              "      <td>2021-12-31</td>\n",
              "      <td>12</td>\n",
              "      <td>2021</td>\n",
              "      <td>[(get, 2678), (new, 2574), (like, 2562), (im, ...</td>\n",
              "    </tr>\n",
              "  </tbody>\n",
              "</table>\n",
              "<p>673 rows × 4 columns</p>\n",
              "</div>\n",
              "      <button class=\"colab-df-convert\" onclick=\"convertToInteractive('df-f8dad67f-1265-47ea-a6c7-bed68202f154')\"\n",
              "              title=\"Convert this dataframe to an interactive table.\"\n",
              "              style=\"display:none;\">\n",
              "        \n",
              "  <svg xmlns=\"http://www.w3.org/2000/svg\" height=\"24px\"viewBox=\"0 0 24 24\"\n",
              "       width=\"24px\">\n",
              "    <path d=\"M0 0h24v24H0V0z\" fill=\"none\"/>\n",
              "    <path d=\"M18.56 5.44l.94 2.06.94-2.06 2.06-.94-2.06-.94-.94-2.06-.94 2.06-2.06.94zm-11 1L8.5 8.5l.94-2.06 2.06-.94-2.06-.94L8.5 2.5l-.94 2.06-2.06.94zm10 10l.94 2.06.94-2.06 2.06-.94-2.06-.94-.94-2.06-.94 2.06-2.06.94z\"/><path d=\"M17.41 7.96l-1.37-1.37c-.4-.4-.92-.59-1.43-.59-.52 0-1.04.2-1.43.59L10.3 9.45l-7.72 7.72c-.78.78-.78 2.05 0 2.83L4 21.41c.39.39.9.59 1.41.59.51 0 1.02-.2 1.41-.59l7.78-7.78 2.81-2.81c.8-.78.8-2.07 0-2.86zM5.41 20L4 18.59l7.72-7.72 1.47 1.35L5.41 20z\"/>\n",
              "  </svg>\n",
              "      </button>\n",
              "      \n",
              "  <style>\n",
              "    .colab-df-container {\n",
              "      display:flex;\n",
              "      flex-wrap:wrap;\n",
              "      gap: 12px;\n",
              "    }\n",
              "\n",
              "    .colab-df-convert {\n",
              "      background-color: #E8F0FE;\n",
              "      border: none;\n",
              "      border-radius: 50%;\n",
              "      cursor: pointer;\n",
              "      display: none;\n",
              "      fill: #1967D2;\n",
              "      height: 32px;\n",
              "      padding: 0 0 0 0;\n",
              "      width: 32px;\n",
              "    }\n",
              "\n",
              "    .colab-df-convert:hover {\n",
              "      background-color: #E2EBFA;\n",
              "      box-shadow: 0px 1px 2px rgba(60, 64, 67, 0.3), 0px 1px 3px 1px rgba(60, 64, 67, 0.15);\n",
              "      fill: #174EA6;\n",
              "    }\n",
              "\n",
              "    [theme=dark] .colab-df-convert {\n",
              "      background-color: #3B4455;\n",
              "      fill: #D2E3FC;\n",
              "    }\n",
              "\n",
              "    [theme=dark] .colab-df-convert:hover {\n",
              "      background-color: #434B5C;\n",
              "      box-shadow: 0px 1px 3px 1px rgba(0, 0, 0, 0.15);\n",
              "      filter: drop-shadow(0px 1px 2px rgba(0, 0, 0, 0.3));\n",
              "      fill: #FFFFFF;\n",
              "    }\n",
              "  </style>\n",
              "\n",
              "      <script>\n",
              "        const buttonEl =\n",
              "          document.querySelector('#df-f8dad67f-1265-47ea-a6c7-bed68202f154 button.colab-df-convert');\n",
              "        buttonEl.style.display =\n",
              "          google.colab.kernel.accessAllowed ? 'block' : 'none';\n",
              "\n",
              "        async function convertToInteractive(key) {\n",
              "          const element = document.querySelector('#df-f8dad67f-1265-47ea-a6c7-bed68202f154');\n",
              "          const dataTable =\n",
              "            await google.colab.kernel.invokeFunction('convertToInteractive',\n",
              "                                                     [key], {});\n",
              "          if (!dataTable) return;\n",
              "\n",
              "          const docLinkHtml = 'Like what you see? Visit the ' +\n",
              "            '<a target=\"_blank\" href=https://colab.research.google.com/notebooks/data_table.ipynb>data table notebook</a>'\n",
              "            + ' to learn more about interactive tables.';\n",
              "          element.innerHTML = '';\n",
              "          dataTable['output_type'] = 'display_data';\n",
              "          await google.colab.output.renderOutput(dataTable, element);\n",
              "          const docLink = document.createElement('div');\n",
              "          docLink.innerHTML = docLinkHtml;\n",
              "          element.appendChild(docLink);\n",
              "        }\n",
              "      </script>\n",
              "    </div>\n",
              "  </div>\n",
              "  "
            ]
          },
          "metadata": {},
          "execution_count": 16
        }
      ]
    },
    {
      "cell_type": "code",
      "execution_count": null,
      "metadata": {
        "id": "ltwxzNDLKoZK"
      },
      "outputs": [],
      "source": [
        "reddit_data_labels=[]\n",
        "for i in range(6):\n",
        "  reddit_data_labels.append(pd.read_csv('reddit_data_modelled_'+str(i+1), lineterminator='\\n'))\n",
        "  reddit_data_labels[i]=reddit_data_labels[i].dropna()\n",
        "  reddit_data_labels[i]['date']=reddit_data_labels[i]['date'].str[:10]+' '+reddit_data_labels[i]['date'].str[11:19]\n",
        "  reddit_data_labels[i]['date']=pd.to_datetime(reddit_data_labels[i]['date'])\n",
        "\n",
        "  reddit_data_labels[i] = pd.get_dummies(data=reddit_data_labels[i], columns=['comp_score'], drop_first=False)\n",
        "\n",
        "  reddit_data_labels[i]['date_only']=reddit_data_labels[i]['date'].dt.date\n",
        "\n",
        "  reddit_data_labels[i]['month'] = reddit_data_labels[i]['date'].dt.month\n",
        "  reddit_data_labels[i]['year'] = reddit_data_labels[i]['date'].dt.year\n",
        "\n",
        "  reddit_data_labels[i]['comp_score_pos']=reddit_data_labels[i]['comp_score_pos'].astype(int)\n",
        "  reddit_data_labels[i]['comp_score_neg']=reddit_data_labels[i]['comp_score_neg'].astype(int)\n",
        "  reddit_data_labels[i]['comp_score_neu']=reddit_data_labels[i]['comp_score_neu'].astype(int)\n",
        "\n",
        "  reddit_data_labels[i]['sent_score']=reddit_data_labels[i]['comp_score_pos']-reddit_data_labels[i]['comp_score_neg']\n",
        "\n",
        "  reddit_data_labels[i]=(reddit_data_labels[i].groupby(['month', 'year'])['text'].apply(lambda x: ' '.join(x)).reset_index())\n",
        "  reddit_data_labels[i]['freq_words'] = reddit_data_labels[i]['text'].apply(lambda c: freq_words(c))\n",
        "\n",
        "  reddit_data_labels[i]=reddit_data_labels[i][['month', 'year', 'freq_words']]"
      ]
    },
    {
      "cell_type": "code",
      "source": [
        "reddit_data=reddit_data_labels[0]\n",
        "for i in range (1, 6):\n",
        "    reddit_data=pd.concat([reddit_data, reddit_data_labels[i]], ignore_index=True)\n",
        "\n",
        "reddit_data_labels=0"
      ],
      "metadata": {
        "id": "UgnCh9cWKoZK"
      },
      "execution_count": null,
      "outputs": []
    },
    {
      "cell_type": "code",
      "source": [
        "reddit_data.sort_values(by=['year', 'month'])"
      ],
      "metadata": {
        "id": "L7lGYc0ZgrjJ"
      },
      "execution_count": null,
      "outputs": []
    },
    {
      "cell_type": "code",
      "source": [
        "def combine_freq_agg(freq_words):\n",
        "  counts=defaultdict(int)\n",
        "  for item in freq_words:\n",
        "    for words in item:\n",
        "      counts[words[0]]+=words[1]\n",
        "\n",
        "  sorted_words=sorted(counts.items(), key=operator.itemgetter(1), reverse=True)\n",
        "  return sorted_words[:40]"
      ],
      "metadata": {
        "id": "wdMWRGipX-op"
      },
      "execution_count": null,
      "outputs": []
    },
    {
      "cell_type": "code",
      "source": [
        "#combining boundary aggregations from different files\n",
        "reddit_data.at[4,'freq_words']=combine_freq_agg(list(reddit_data[(reddit_data.month==6) & (reddit_data.year==2020)]['freq_words']))\n",
        "reddit_data.at[10,'freq_words']=combine_freq_agg(list(reddit_data[(reddit_data.month==11) & (reddit_data.year==2020)]['freq_words']))\n",
        "reddit_data.at[12,'freq_words']=combine_freq_agg(list(reddit_data[(reddit_data.month==2) & (reddit_data.year==2021)]['freq_words']))\n",
        "reddit_data.at[20,'freq_words']=combine_freq_agg(list(reddit_data[(reddit_data.month==7) & (reddit_data.year==2021)]['freq_words']))\n",
        "reddit_data.at[26,'freq_words']=combine_freq_agg(list(reddit_data[(reddit_data.month==12) & (reddit_data.year==2021)]['freq_words']))"
      ],
      "metadata": {
        "id": "WIsVtVMubUOH"
      },
      "execution_count": null,
      "outputs": []
    },
    {
      "cell_type": "code",
      "source": [
        "reddit_data=reddit_data.drop([5, 13, 15, 21, 27])"
      ],
      "metadata": {
        "id": "NmMAF6mUerga"
      },
      "execution_count": null,
      "outputs": []
    },
    {
      "cell_type": "code",
      "source": [
        "reddit_data=reddit_data.reset_index().drop(['index'], axis=1)"
      ],
      "metadata": {
        "id": "-LdXXUVHeaqu"
      },
      "execution_count": null,
      "outputs": []
    },
    {
      "cell_type": "code",
      "source": [
        "reddit_data_text_month=reddit_data[['month', 'year', 'freq_words']]"
      ],
      "metadata": {
        "id": "g2QdRxhezFNX"
      },
      "execution_count": null,
      "outputs": []
    },
    {
      "cell_type": "code",
      "source": [
        "reddit_data_text_month.to_csv('reddit_data_text_month', mode='w', index=False, header=True)"
      ],
      "metadata": {
        "id": "dd8CfnS05eXr"
      },
      "execution_count": null,
      "outputs": []
    },
    {
      "cell_type": "code",
      "execution_count": null,
      "metadata": {
        "id": "0UKnRfVFUD6S"
      },
      "outputs": [],
      "source": [
        "reddit_data_labels=pd.read_csv('reddit_data_modelled_final', lineterminator='\\n')\n",
        "reddit_data_labels=reddit_data_labels.dropna()\n",
        "reddit_data_labels['date']=reddit_data_labels['date'].str[:10]+' '+reddit_data_labels['date'].str[11:19]\n",
        "reddit_data_labels['date']=pd.to_datetime(reddit_data_labels['date'])\n",
        "\n",
        "reddit_data_labels = pd.get_dummies(data=reddit_data_labels, columns=['comp_score'], drop_first=False)\n",
        "\n",
        "reddit_data_labels['date_only']=reddit_data_labels['date'].dt.date\n",
        "\n",
        "reddit_data_labels['month'] = reddit_data_labels['date'].dt.month\n",
        "reddit_data_labels['year'] = reddit_data_labels['date'].dt.year\n",
        "\n",
        "reddit_data_labels['comp_score_pos']=reddit_data_labels['comp_score_pos'].astype(int)\n",
        "reddit_data_labels['comp_score_neg']=reddit_data_labels['comp_score_neg'].astype(int)\n",
        "reddit_data_labels['comp_score_neu']=reddit_data_labels['comp_score_neu'].astype(int)\n",
        "\n",
        "reddit_data_labels['sent_score']=reddit_data_labels['comp_score_pos']-reddit_data_labels['comp_score_neg']"
      ]
    },
    {
      "cell_type": "markdown",
      "metadata": {
        "id": "-FtV6SscPD3U"
      },
      "source": [
        "# Exporting data for web"
      ]
    },
    {
      "cell_type": "markdown",
      "metadata": {
        "id": "8tqE6d4x1oME"
      },
      "source": [
        "# Daily and monthly sentiment for reddit and twitter comparison"
      ]
    },
    {
      "cell_type": "code",
      "execution_count": null,
      "metadata": {
        "id": "sVNhA7wCwv7U"
      },
      "outputs": [],
      "source": [
        "stop = stopwords.words('english')\n",
        "stop.extend(['covid', 'covid-19', 'covid19', '&amp;', '#covid_19', 'coronavirus', 'covid.', ' ', ''])\n",
        "\n",
        "def freq_words(tweet):\n",
        "  counts=defaultdict(int)\n",
        "  tweet=depure_data(tweet)\n",
        "  words=tweet.split(' ')\n",
        "  for word in words:\n",
        "    word=word.lower()\n",
        "    if word not in (stop):\n",
        "      counts[word]+=1\n",
        "\n",
        "  sorted_words=sorted(counts.items(), key=operator.itemgetter(1), reverse=True)\n",
        "  return sorted_words[:20]"
      ]
    },
    {
      "cell_type": "code",
      "execution_count": null,
      "metadata": {
        "id": "mqSy56y0aMFT"
      },
      "outputs": [],
      "source": [
        "tweet_data_time=tweet_data_labels.groupby('date_only').agg({'month':'max', 'year':'max', 'date':'count', 'sent_score':'sum',  'comp_score_neg':'sum', 'comp_score_neu':'sum', 'comp_score_pos':'sum'})\n",
        "tweet_data_time_text=tweet_data_labels.groupby(['date_only', 'month', 'year'])['text'].apply(lambda x: ' '.join(x)).reset_index()\n",
        "tweet_data_time=tweet_data_time.merge(tweet_data_time_text, on=['date_only', 'month', 'year'])\n",
        "\n",
        "tweet_data_time['sent_score_s']=tweet_data_time['sent_score']/tweet_data_time['date']\n",
        "tweet_data_time['comp_score_neg_s']=tweet_data_time['comp_score_neg']/tweet_data_time['date']\n",
        "tweet_data_time['comp_score_neu_s']=tweet_data_time['comp_score_neu']/tweet_data_time['date']\n",
        "tweet_data_time['comp_score_pos_s']=tweet_data_time['comp_score_pos']/tweet_data_time['date']\n",
        "\n",
        "tweet_data_time['freq_words'] = tweet_data_time['text'].apply(lambda c: freq_words(c))\n",
        "\n",
        "tweet_data_day=tweet_data_time[['date_only', 'comp_score_neg_s', 'comp_score_neu_s', 'comp_score_pos_s', 'sent_score_s', 'freq_words']]\n",
        "tweet_data_day.columns = ['date', 'negativity', 'neutrality', 'positivity', 'sentiment', 'freq_words']\n",
        "\n",
        "tweet_data_day.to_json('json_files/tweet_data_day.json', orient=\"records\", date_format='iso')"
      ]
    },
    {
      "cell_type": "code",
      "execution_count": null,
      "metadata": {
        "id": "kr6YqJkIrSgw"
      },
      "outputs": [],
      "source": [
        "tweet_data_month=tweet_data_time.groupby(['month', 'year']).agg({'date':'sum', 'sent_score':'sum',  'comp_score_neg':'sum', 'comp_score_neu':'sum', 'comp_score_pos':'sum'})\n",
        "tweet_data_month_text=tweet_data_time.groupby(['month', 'year'])['text'].apply(lambda x: ' '.join(x)).reset_index()\n",
        "tweet_data_month=tweet_data_month.merge(tweet_data_month_text, on=['month', 'year'])\n",
        "\n",
        "tweet_data_month['sent_score_s']=tweet_data_month['sent_score']/tweet_data_month['date']\n",
        "tweet_data_month['comp_score_neg_s']=tweet_data_month['comp_score_neg']/tweet_data_month['date']\n",
        "tweet_data_month['comp_score_neu_s']=tweet_data_month['comp_score_neu']/tweet_data_month['date']\n",
        "tweet_data_month['comp_score_pos_s']=tweet_data_month['comp_score_pos']/tweet_data_month['date']\n",
        "\n",
        "tweet_data_month['freq_words'] = tweet_data_month['text'].apply(lambda c: freq_words(c))\n",
        "\n",
        "tweet_data_month=tweet_data_month[['month', 'year', 'comp_score_neg_s', 'comp_score_neu_s', 'comp_score_pos_s', 'sent_score_s', 'freq_words']]\n",
        "tweet_data_month.columns = ['month', 'year', 'negativity', 'neutrality', 'positivity', 'sentiment', 'freq_words']\n",
        "\n",
        "tweet_data_month.to_json('json_files/tweet_data_month.json', orient=\"records\")"
      ]
    },
    {
      "cell_type": "code",
      "source": [
        "reddit_data_time=reddit_data_labels.groupby('date_only').agg({'month':'max', 'year':'max', 'date':'count', 'sent_score':'sum',  'comp_score_neg':'sum', 'comp_score_neu':'sum', 'comp_score_pos':'sum'})\n",
        "reddit_data_time=reddit_data_time.reset_index()\n",
        "\n",
        "reddit_data_text_day=pd.read_csv('reddit_data_text_day', lineterminator='\\n')\n",
        "reddit_data_text_day=reddit_data_text_day.dropna()\n",
        "reddit_data_text_day['date_only']=reddit_data_text_day['date_only'].str[:10]\n",
        "reddit_data_text_day['date_only']=pd.to_datetime(reddit_data_text_day['date_only'])\n",
        "\n",
        "reddit_data_text_day['date_only']=reddit_data_text_day['date_only'].dt.date\n",
        "\n",
        "reddit_data_text_month=pd.read_csv('reddit_data_text_month', lineterminator='\\n')\n",
        "reddit_data_text_month=reddit_data_text_month.dropna()"
      ],
      "metadata": {
        "id": "FLB5CWRN1qUj"
      },
      "execution_count": null,
      "outputs": []
    },
    {
      "cell_type": "code",
      "source": [
        "reddit_data_time=reddit_data_time.merge(reddit_data_text_day, on=['date_only', 'month', 'year'])\n",
        "\n",
        "reddit_data_time['sent_score_s']=reddit_data_time['sent_score']/reddit_data_time['date']\n",
        "reddit_data_time['comp_score_neg_s']=reddit_data_time['comp_score_neg']/reddit_data_time['date']\n",
        "reddit_data_time['comp_score_neu_s']=reddit_data_time['comp_score_neu']/reddit_data_time['date']\n",
        "reddit_data_time['comp_score_pos_s']=reddit_data_time['comp_score_pos']/reddit_data_time['date']\n",
        "\n",
        "reddit_data_day=reddit_data_time[['date_only', 'comp_score_neg_s', 'comp_score_neu_s', 'comp_score_pos_s', 'sent_score_s', 'freq_words']]\n",
        "reddit_data_day.columns = ['date', 'negativity', 'neutrality', 'positivity', 'sentiment', 'freq_words']\n",
        "\n",
        "reddit_data_day.to_json('json_files/reddit_data_day.json', orient=\"records\", date_format='iso')"
      ],
      "metadata": {
        "id": "_cgQloBurzJs"
      },
      "execution_count": null,
      "outputs": []
    },
    {
      "cell_type": "code",
      "source": [
        "reddit_data_month=reddit_data_time.groupby(['month', 'year']).agg({'date':'sum', 'sent_score':'sum',  'comp_score_neg':'sum', 'comp_score_neu':'sum', 'comp_score_pos':'sum'})\n",
        "reddit_data_month=reddit_data_month.merge(reddit_data_text_month, on=['month', 'year'])\n",
        "\n",
        "reddit_data_month['sent_score_s']=reddit_data_month['sent_score']/reddit_data_month['date']\n",
        "reddit_data_month['comp_score_neg_s']=reddit_data_month['comp_score_neg']/reddit_data_month['date']\n",
        "reddit_data_month['comp_score_neu_s']=reddit_data_month['comp_score_neu']/reddit_data_month['date']\n",
        "reddit_data_month['comp_score_pos_s']=reddit_data_month['comp_score_pos']/reddit_data_month['date']\n",
        "\n",
        "reddit_data_month=reddit_data_month[['month', 'year', 'comp_score_neg_s', 'comp_score_neu_s', 'comp_score_pos_s', 'sent_score_s', 'freq_words']]\n",
        "reddit_data_month.columns = ['month', 'year', 'negativity', 'neutrality', 'positivity', 'sentiment', 'freq_words']\n",
        "\n",
        "reddit_data_month.to_json('json_files/reddit_data_month.json', orient=\"records\")"
      ],
      "metadata": {
        "id": "qU5Zx1JYjVR3"
      },
      "execution_count": null,
      "outputs": []
    },
    {
      "cell_type": "markdown",
      "metadata": {
        "id": "SDQmBOLo1fG4"
      },
      "source": [
        "# Statewise daily and monthly sentiment"
      ]
    },
    {
      "cell_type": "code",
      "execution_count": null,
      "metadata": {
        "id": "U534SnZMxAmv"
      },
      "outputs": [],
      "source": [
        "tweet_data_time_state=tweet_data_labels.groupby(['date_only', 'state']).agg({'month':'max', 'year':'max', 'date':'count', 'sent_score':'sum',  'comp_score_neg':'sum', 'comp_score_neu':'sum', 'comp_score_pos':'sum'})\n",
        "\n",
        "tweet_data_time_state_text=tweet_data_labels.groupby(['date_only', 'month', 'year', 'state'])['text'].apply(lambda x: ' '.join(x)).reset_index()\n",
        "tweet_data_time_state=tweet_data_time_state.merge(tweet_data_time_state_text, on=['date_only', 'month', 'year', 'state'])\n",
        "\n",
        "tweet_data_time_state['sent_score_s']=tweet_data_time_state['sent_score']/tweet_data_time_state['date']\n",
        "tweet_data_time_state['comp_score_neg_s']=tweet_data_time_state['comp_score_neg']/tweet_data_time_state['date']\n",
        "tweet_data_time_state['comp_score_neu_s']=tweet_data_time_state['comp_score_neu']/tweet_data_time_state['date']\n",
        "tweet_data_time_state['comp_score_pos_s']=tweet_data_time_state['comp_score_pos']/tweet_data_time_state['date']\n",
        "\n",
        "tweet_data_time_state['freq_words'] = tweet_data_time_state['text'].apply(lambda c: freq_words(c))\n",
        "\n",
        "tweet_data_day_state=tweet_data_time_state[['date_only', 'state', 'comp_score_neg_s', 'comp_score_neu_s', 'comp_score_pos_s', 'sent_score_s', 'freq_words']]\n",
        "tweet_data_day_state.columns = ['date', 'state', 'negativity', 'neutrality', 'positivity', 'sentiment', 'freq_words']\n",
        "\n",
        "tweet_data_day_state.to_json('json_files/tweet_data_day_state.json', orient=\"records\", date_format='iso')"
      ]
    },
    {
      "cell_type": "code",
      "source": [
        "tweet_data_month_state=tweet_data_time_state.groupby(['month', 'year', 'state']).agg({'date':'sum', 'sent_score':'sum',  'comp_score_neg':'sum', 'comp_score_neu':'sum', 'comp_score_pos':'sum'})\n",
        "\n",
        "tweet_data_month_state_text=tweet_data_time_state.groupby(['month', 'year', 'state'])['text'].apply(lambda x: ' '.join(x)).reset_index()\n",
        "tweet_data_month_state=tweet_data_month_state.merge(tweet_data_month_state_text, on=['month', 'year', 'state'])\n",
        "\n",
        "tweet_data_month_state['sent_score_s']=tweet_data_month_state['sent_score']/tweet_data_month_state['date']\n",
        "tweet_data_month_state['comp_score_neg_s']=tweet_data_month_state['comp_score_neg']/tweet_data_month_state['date']\n",
        "tweet_data_month_state['comp_score_neu_s']=tweet_data_month_state['comp_score_neu']/tweet_data_month_state['date']\n",
        "tweet_data_month_state['comp_score_pos_s']=tweet_data_month_state['comp_score_pos']/tweet_data_month_state['date']\n",
        "\n",
        "tweet_data_month_state['freq_words'] = tweet_data_month_state['text'].apply(lambda c: freq_words(c))\n",
        "\n",
        "tweet_data_month_state=tweet_data_month_state[['month', 'year', 'state', 'comp_score_neg_s', 'comp_score_neu_s', 'comp_score_pos_s', 'sent_score_s', 'freq_words']]\n",
        "tweet_data_month_state.columns = ['month', 'year', 'state', 'negativity', 'neutrality', 'positivity', 'sentiment', 'freq_words']\n",
        "\n",
        "tweet_data_month_state.to_json('json_files/tweet_data_month_state.json', orient=\"records\")"
      ],
      "metadata": {
        "id": "TYOW8lkGkBGp"
      },
      "execution_count": null,
      "outputs": []
    },
    {
      "cell_type": "markdown",
      "metadata": {
        "id": "CSf38PxV1avY"
      },
      "source": [
        "# Statewise heat map data (for coordinates)"
      ]
    },
    {
      "cell_type": "code",
      "execution_count": null,
      "metadata": {
        "id": "J2_rPk2s11iu"
      },
      "outputs": [],
      "source": [
        "tweet_data_labels['x_loc'] = tweet_data_labels['coordinates'].apply(lambda c: (float(c.strip('][').split(', ')[0])+float(c.strip('][').split(', ')[2]))/2)\n",
        "tweet_data_labels['y_loc'] = tweet_data_labels['coordinates'].apply(lambda c: (float(c.strip('][').split(', ')[1])+float(c.strip('][').split(', ')[3]))/2)"
      ]
    },
    {
      "cell_type": "code",
      "execution_count": null,
      "metadata": {
        "id": "XBAamOzn1YLJ"
      },
      "outputs": [],
      "source": [
        "tweet_data_time_loc=tweet_data_labels.groupby(['date_only', 'x_loc', 'y_loc', 'state']).agg({'month':'max', 'year':'max', 'date':'count', 'sent_score':'sum',  'comp_score_neg':'sum', 'comp_score_neu':'sum', 'comp_score_pos':'sum'})\n",
        "tweet_data_time_loc=tweet_data_time_loc.reset_index()\n",
        "\n",
        "tweet_data_time_loc['sent_score_s']=tweet_data_time_loc['sent_score']/tweet_data_time_loc['date']\n",
        "tweet_data_time_loc['comp_score_neg_s']=tweet_data_time_loc['comp_score_neg']/tweet_data_time_loc['date']\n",
        "tweet_data_time_loc['comp_score_neu_s']=tweet_data_time_loc['comp_score_neu']/tweet_data_time_loc['date']\n",
        "tweet_data_time_loc['comp_score_pos_s']=tweet_data_time_loc['comp_score_pos']/tweet_data_time_loc['date']\n",
        "\n",
        "tweet_data_day_loc=tweet_data_time_loc[['date_only', 'state', 'x_loc', 'y_loc', 'comp_score_neg_s', 'comp_score_neu_s', 'comp_score_pos_s', 'sent_score_s']]\n",
        "tweet_data_day_loc.columns = ['date', 'state', 'x_loc', 'y_loc', 'negativity', 'neutrality', 'positivity', 'sentiment']\n",
        "\n",
        "tweet_data_day_loc.to_json('json_files/tweet_data_day_loc.json', orient=\"records\", date_format='iso')"
      ]
    },
    {
      "cell_type": "code",
      "source": [
        "tweet_data_month_loc=tweet_data_time_loc.groupby(['month', 'year', 'x_loc', 'y_loc', 'state']).agg({'date':'sum', 'sent_score':'sum',  'comp_score_neg':'sum', 'comp_score_neu':'sum', 'comp_score_pos':'sum'})\n",
        "tweet_data_month_loc=tweet_data_month_loc.reset_index()\n",
        "\n",
        "tweet_data_month_loc['sent_score_s']=tweet_data_month_loc['sent_score']/tweet_data_month_loc['date']\n",
        "tweet_data_month_loc['comp_score_neg_s']=tweet_data_month_loc['comp_score_neg']/tweet_data_month_loc['date']\n",
        "tweet_data_month_loc['comp_score_neu_s']=tweet_data_month_loc['comp_score_neu']/tweet_data_month_loc['date']\n",
        "tweet_data_month_loc['comp_score_pos_s']=tweet_data_month_loc['comp_score_pos']/tweet_data_month_loc['date']\n",
        "\n",
        "tweet_data_month_loc=tweet_data_month_loc[['month', 'year', 'state', 'x_loc', 'y_loc', 'comp_score_neg_s', 'comp_score_neu_s', 'comp_score_pos_s', 'sent_score_s']]\n",
        "tweet_data_month_loc.columns = ['month', 'year', 'state', 'x_loc', 'y_loc', 'negativity', 'neutrality', 'positivity', 'sentiment']\n",
        "\n",
        "tweet_data_month_loc.to_json('json_files/tweet_data_month_loc.json', orient=\"records\")"
      ],
      "metadata": {
        "id": "FJMLm34Kki3U"
      },
      "execution_count": null,
      "outputs": []
    },
    {
      "cell_type": "markdown",
      "metadata": {
        "id": "d2v0e7XuPIl2"
      },
      "source": [
        "# Changing formats as required for visualizations"
      ]
    },
    {
      "cell_type": "markdown",
      "source": [
        "### Formatting freq words"
      ],
      "metadata": {
        "id": "_8Yqx_vWMsmb"
      }
    },
    {
      "cell_type": "code",
      "source": [
        "def reformat_freq_words(freq_words):\n",
        "  dict_list=[]\n",
        "  for word in freq_words:\n",
        "    if word:\n",
        "      temp={'text':word[0], 'size':word[1]}\n",
        "      dict_list.append(temp)\n",
        "  return dict_list\n",
        "\n",
        "def reformat_reddit_words(freq_words):\n",
        "  freq_words=freq_words.replace('(','[')\n",
        "  freq_words=freq_words.replace(')', ']')\n",
        "  freq_words = freq_words.strip('][').split('], ')\n",
        "  freq_words = [asd.strip('][').replace('\\'', '').split(', ') for asd in freq_words]\n",
        "  freq_words = [[asd[0], int(asd[1])] for asd in freq_words]\n",
        "  return reformat_freq_words(freq_words)"
      ],
      "metadata": {
        "id": "hLzTh4blM2u-"
      },
      "execution_count": null,
      "outputs": []
    },
    {
      "cell_type": "code",
      "source": [
        "tweet_data_month_state = pd.read_json('json_files/tweet_data_month_state.json')\n",
        "tweet_data_day_state = pd.read_json('json_files/tweet_data_day_state.json')\n",
        "tweet_data_month = pd.read_json('json_files/tweet_data_month.json')\n",
        "tweet_data_day = pd.read_json('json_files/tweet_data_day.json')\n",
        "reddit_data_month = pd.read_json('json_files/reddit_data_month.json')\n",
        "reddit_data_day = pd.read_json('json_files/reddit_data_day.json')"
      ],
      "metadata": {
        "id": "hwhzqWcmMrZk"
      },
      "execution_count": null,
      "outputs": []
    },
    {
      "cell_type": "code",
      "source": [
        "tweet_data_month_state['freq_words'] = tweet_data_month_state['freq_words'].apply(lambda c: reformat_freq_words(c))\n",
        "tweet_data_day_state['freq_words'] = tweet_data_day_state['freq_words'].apply(lambda c: reformat_freq_words(c))\n",
        "tweet_data_month['freq_words'] = tweet_data_month['freq_words'].apply(lambda c: reformat_freq_words(c))\n",
        "tweet_data_day['freq_words'] = tweet_data_day['freq_words'].apply(lambda c: reformat_freq_words(c))\n",
        "reddit_data_month['freq_words'] = reddit_data_month['freq_words'].apply(lambda c: reformat_reddit_words(c))\n",
        "reddit_data_day['freq_words'] = reddit_data_day['freq_words'].apply(lambda c: reformat_reddit_words(c))"
      ],
      "metadata": {
        "id": "ZquJa8VxOAiN"
      },
      "execution_count": null,
      "outputs": []
    },
    {
      "cell_type": "code",
      "source": [
        "tweet_data_month_state"
      ],
      "metadata": {
        "colab": {
          "base_uri": "https://localhost:8080/",
          "height": 423
        },
        "id": "ZdzLKZoQ3XaC",
        "outputId": "abe3f2d3-cc2d-45f4-9656-d4c7811616c9"
      },
      "execution_count": null,
      "outputs": [
        {
          "output_type": "execute_result",
          "data": {
            "text/plain": [
              "      month  year           state  negativity  neutrality  positivity  \\\n",
              "0         1  2021              AK    0.269663    0.387640    0.342697   \n",
              "1         1  2021              AL    0.258575    0.430079    0.311346   \n",
              "2         1  2021              AR    0.249141    0.422680    0.328179   \n",
              "3         1  2021              AZ    0.259918    0.414843    0.325239   \n",
              "4         1  2021              CA    0.266836    0.407257    0.325907   \n",
              "...     ...   ...             ...         ...         ...         ...   \n",
              "1251     12  2021  Virgin Islands    0.272727    0.636364    0.090909   \n",
              "1252     12  2021              WA    0.265168    0.380993    0.353840   \n",
              "1253     12  2021              WI    0.236735    0.441633    0.321633   \n",
              "1254     12  2021              WV    0.252033    0.443089    0.304878   \n",
              "1255     12  2021              WY    0.301887    0.283019    0.415094   \n",
              "\n",
              "      sentiment                                         freq_words  \n",
              "0      0.073034  [{'text': 'get', 'size': 24}, {'text': 'people...  \n",
              "1      0.052770  [{'text': 'get', 'size': 113}, {'text': 'peopl...  \n",
              "2      0.079038  [{'text': 'get', 'size': 79}, {'text': 'like',...  \n",
              "3      0.065321  [{'text': 'get', 'size': 300}, {'text': 'peopl...  \n",
              "4      0.059071  [{'text': 'get', 'size': 1569}, {'text': 'peop...  \n",
              "...         ...                                                ...  \n",
              "1251  -0.181818  [{'text': 'that’s', 'size': 3}, {'text': 'guy'...  \n",
              "1252   0.088672  [{'text': 'get', 'size': 334}, {'text': 'peopl...  \n",
              "1253   0.084898  [{'text': 'get', 'size': 140}, {'text': 'peopl...  \n",
              "1254   0.052846  [{'text': 'get', 'size': 45}, {'text': 'like',...  \n",
              "1255   0.113208  [{'text': 'it.', 'size': 6}, {'text': 'said', ...  \n",
              "\n",
              "[1256 rows x 8 columns]"
            ],
            "text/html": [
              "\n",
              "  <div id=\"df-1be29033-eec1-4358-a315-37a7c5a2b46c\">\n",
              "    <div class=\"colab-df-container\">\n",
              "      <div>\n",
              "<style scoped>\n",
              "    .dataframe tbody tr th:only-of-type {\n",
              "        vertical-align: middle;\n",
              "    }\n",
              "\n",
              "    .dataframe tbody tr th {\n",
              "        vertical-align: top;\n",
              "    }\n",
              "\n",
              "    .dataframe thead th {\n",
              "        text-align: right;\n",
              "    }\n",
              "</style>\n",
              "<table border=\"1\" class=\"dataframe\">\n",
              "  <thead>\n",
              "    <tr style=\"text-align: right;\">\n",
              "      <th></th>\n",
              "      <th>month</th>\n",
              "      <th>year</th>\n",
              "      <th>state</th>\n",
              "      <th>negativity</th>\n",
              "      <th>neutrality</th>\n",
              "      <th>positivity</th>\n",
              "      <th>sentiment</th>\n",
              "      <th>freq_words</th>\n",
              "    </tr>\n",
              "  </thead>\n",
              "  <tbody>\n",
              "    <tr>\n",
              "      <th>0</th>\n",
              "      <td>1</td>\n",
              "      <td>2021</td>\n",
              "      <td>AK</td>\n",
              "      <td>0.269663</td>\n",
              "      <td>0.387640</td>\n",
              "      <td>0.342697</td>\n",
              "      <td>0.073034</td>\n",
              "      <td>[{'text': 'get', 'size': 24}, {'text': 'people...</td>\n",
              "    </tr>\n",
              "    <tr>\n",
              "      <th>1</th>\n",
              "      <td>1</td>\n",
              "      <td>2021</td>\n",
              "      <td>AL</td>\n",
              "      <td>0.258575</td>\n",
              "      <td>0.430079</td>\n",
              "      <td>0.311346</td>\n",
              "      <td>0.052770</td>\n",
              "      <td>[{'text': 'get', 'size': 113}, {'text': 'peopl...</td>\n",
              "    </tr>\n",
              "    <tr>\n",
              "      <th>2</th>\n",
              "      <td>1</td>\n",
              "      <td>2021</td>\n",
              "      <td>AR</td>\n",
              "      <td>0.249141</td>\n",
              "      <td>0.422680</td>\n",
              "      <td>0.328179</td>\n",
              "      <td>0.079038</td>\n",
              "      <td>[{'text': 'get', 'size': 79}, {'text': 'like',...</td>\n",
              "    </tr>\n",
              "    <tr>\n",
              "      <th>3</th>\n",
              "      <td>1</td>\n",
              "      <td>2021</td>\n",
              "      <td>AZ</td>\n",
              "      <td>0.259918</td>\n",
              "      <td>0.414843</td>\n",
              "      <td>0.325239</td>\n",
              "      <td>0.065321</td>\n",
              "      <td>[{'text': 'get', 'size': 300}, {'text': 'peopl...</td>\n",
              "    </tr>\n",
              "    <tr>\n",
              "      <th>4</th>\n",
              "      <td>1</td>\n",
              "      <td>2021</td>\n",
              "      <td>CA</td>\n",
              "      <td>0.266836</td>\n",
              "      <td>0.407257</td>\n",
              "      <td>0.325907</td>\n",
              "      <td>0.059071</td>\n",
              "      <td>[{'text': 'get', 'size': 1569}, {'text': 'peop...</td>\n",
              "    </tr>\n",
              "    <tr>\n",
              "      <th>...</th>\n",
              "      <td>...</td>\n",
              "      <td>...</td>\n",
              "      <td>...</td>\n",
              "      <td>...</td>\n",
              "      <td>...</td>\n",
              "      <td>...</td>\n",
              "      <td>...</td>\n",
              "      <td>...</td>\n",
              "    </tr>\n",
              "    <tr>\n",
              "      <th>1251</th>\n",
              "      <td>12</td>\n",
              "      <td>2021</td>\n",
              "      <td>Virgin Islands</td>\n",
              "      <td>0.272727</td>\n",
              "      <td>0.636364</td>\n",
              "      <td>0.090909</td>\n",
              "      <td>-0.181818</td>\n",
              "      <td>[{'text': 'that’s', 'size': 3}, {'text': 'guy'...</td>\n",
              "    </tr>\n",
              "    <tr>\n",
              "      <th>1252</th>\n",
              "      <td>12</td>\n",
              "      <td>2021</td>\n",
              "      <td>WA</td>\n",
              "      <td>0.265168</td>\n",
              "      <td>0.380993</td>\n",
              "      <td>0.353840</td>\n",
              "      <td>0.088672</td>\n",
              "      <td>[{'text': 'get', 'size': 334}, {'text': 'peopl...</td>\n",
              "    </tr>\n",
              "    <tr>\n",
              "      <th>1253</th>\n",
              "      <td>12</td>\n",
              "      <td>2021</td>\n",
              "      <td>WI</td>\n",
              "      <td>0.236735</td>\n",
              "      <td>0.441633</td>\n",
              "      <td>0.321633</td>\n",
              "      <td>0.084898</td>\n",
              "      <td>[{'text': 'get', 'size': 140}, {'text': 'peopl...</td>\n",
              "    </tr>\n",
              "    <tr>\n",
              "      <th>1254</th>\n",
              "      <td>12</td>\n",
              "      <td>2021</td>\n",
              "      <td>WV</td>\n",
              "      <td>0.252033</td>\n",
              "      <td>0.443089</td>\n",
              "      <td>0.304878</td>\n",
              "      <td>0.052846</td>\n",
              "      <td>[{'text': 'get', 'size': 45}, {'text': 'like',...</td>\n",
              "    </tr>\n",
              "    <tr>\n",
              "      <th>1255</th>\n",
              "      <td>12</td>\n",
              "      <td>2021</td>\n",
              "      <td>WY</td>\n",
              "      <td>0.301887</td>\n",
              "      <td>0.283019</td>\n",
              "      <td>0.415094</td>\n",
              "      <td>0.113208</td>\n",
              "      <td>[{'text': 'it.', 'size': 6}, {'text': 'said', ...</td>\n",
              "    </tr>\n",
              "  </tbody>\n",
              "</table>\n",
              "<p>1256 rows × 8 columns</p>\n",
              "</div>\n",
              "      <button class=\"colab-df-convert\" onclick=\"convertToInteractive('df-1be29033-eec1-4358-a315-37a7c5a2b46c')\"\n",
              "              title=\"Convert this dataframe to an interactive table.\"\n",
              "              style=\"display:none;\">\n",
              "        \n",
              "  <svg xmlns=\"http://www.w3.org/2000/svg\" height=\"24px\"viewBox=\"0 0 24 24\"\n",
              "       width=\"24px\">\n",
              "    <path d=\"M0 0h24v24H0V0z\" fill=\"none\"/>\n",
              "    <path d=\"M18.56 5.44l.94 2.06.94-2.06 2.06-.94-2.06-.94-.94-2.06-.94 2.06-2.06.94zm-11 1L8.5 8.5l.94-2.06 2.06-.94-2.06-.94L8.5 2.5l-.94 2.06-2.06.94zm10 10l.94 2.06.94-2.06 2.06-.94-2.06-.94-.94-2.06-.94 2.06-2.06.94z\"/><path d=\"M17.41 7.96l-1.37-1.37c-.4-.4-.92-.59-1.43-.59-.52 0-1.04.2-1.43.59L10.3 9.45l-7.72 7.72c-.78.78-.78 2.05 0 2.83L4 21.41c.39.39.9.59 1.41.59.51 0 1.02-.2 1.41-.59l7.78-7.78 2.81-2.81c.8-.78.8-2.07 0-2.86zM5.41 20L4 18.59l7.72-7.72 1.47 1.35L5.41 20z\"/>\n",
              "  </svg>\n",
              "      </button>\n",
              "      \n",
              "  <style>\n",
              "    .colab-df-container {\n",
              "      display:flex;\n",
              "      flex-wrap:wrap;\n",
              "      gap: 12px;\n",
              "    }\n",
              "\n",
              "    .colab-df-convert {\n",
              "      background-color: #E8F0FE;\n",
              "      border: none;\n",
              "      border-radius: 50%;\n",
              "      cursor: pointer;\n",
              "      display: none;\n",
              "      fill: #1967D2;\n",
              "      height: 32px;\n",
              "      padding: 0 0 0 0;\n",
              "      width: 32px;\n",
              "    }\n",
              "\n",
              "    .colab-df-convert:hover {\n",
              "      background-color: #E2EBFA;\n",
              "      box-shadow: 0px 1px 2px rgba(60, 64, 67, 0.3), 0px 1px 3px 1px rgba(60, 64, 67, 0.15);\n",
              "      fill: #174EA6;\n",
              "    }\n",
              "\n",
              "    [theme=dark] .colab-df-convert {\n",
              "      background-color: #3B4455;\n",
              "      fill: #D2E3FC;\n",
              "    }\n",
              "\n",
              "    [theme=dark] .colab-df-convert:hover {\n",
              "      background-color: #434B5C;\n",
              "      box-shadow: 0px 1px 3px 1px rgba(0, 0, 0, 0.15);\n",
              "      filter: drop-shadow(0px 1px 2px rgba(0, 0, 0, 0.3));\n",
              "      fill: #FFFFFF;\n",
              "    }\n",
              "  </style>\n",
              "\n",
              "      <script>\n",
              "        const buttonEl =\n",
              "          document.querySelector('#df-1be29033-eec1-4358-a315-37a7c5a2b46c button.colab-df-convert');\n",
              "        buttonEl.style.display =\n",
              "          google.colab.kernel.accessAllowed ? 'block' : 'none';\n",
              "\n",
              "        async function convertToInteractive(key) {\n",
              "          const element = document.querySelector('#df-1be29033-eec1-4358-a315-37a7c5a2b46c');\n",
              "          const dataTable =\n",
              "            await google.colab.kernel.invokeFunction('convertToInteractive',\n",
              "                                                     [key], {});\n",
              "          if (!dataTable) return;\n",
              "\n",
              "          const docLinkHtml = 'Like what you see? Visit the ' +\n",
              "            '<a target=\"_blank\" href=https://colab.research.google.com/notebooks/data_table.ipynb>data table notebook</a>'\n",
              "            + ' to learn more about interactive tables.';\n",
              "          element.innerHTML = '';\n",
              "          dataTable['output_type'] = 'display_data';\n",
              "          await google.colab.output.renderOutput(dataTable, element);\n",
              "          const docLink = document.createElement('div');\n",
              "          docLink.innerHTML = docLinkHtml;\n",
              "          element.appendChild(docLink);\n",
              "        }\n",
              "      </script>\n",
              "    </div>\n",
              "  </div>\n",
              "  "
            ]
          },
          "metadata": {},
          "execution_count": 115
        }
      ]
    },
    {
      "cell_type": "code",
      "source": [
        "tweet_data_month_state.to_json('json_files_new/tweet_data_month_state.json', orient=\"records\")\n",
        "tweet_data_day_state.to_json('json_files_new/tweet_data_day_state.json', orient=\"records\", date_format='iso')\n",
        "tweet_data_month.to_json('json_files_new/tweet_data_month.json', orient=\"records\")\n",
        "tweet_data_day.to_json('json_files_new/tweet_data_day.json', orient=\"records\", date_format='iso')\n",
        "reddit_data_month.to_json('json_files_new/reddit_data_month.json', orient=\"records\")\n",
        "reddit_data_day.to_json('json_files_new/reddit_data_day.json', orient=\"records\", date_format='iso')"
      ],
      "metadata": {
        "id": "PEgMB9yNOK7X"
      },
      "execution_count": null,
      "outputs": []
    },
    {
      "cell_type": "markdown",
      "source": [
        "### Standardize sentiment"
      ],
      "metadata": {
        "id": "W_Rto5N3GZde"
      }
    },
    {
      "cell_type": "code",
      "source": [
        "tweet_data_month_state = pd.read_json('json_files_new/tweet_data_month_state.json')\n",
        "tweet_data_day_state = pd.read_json('json_files_new/tweet_data_day_state.json')\n",
        "tweet_data_month = pd.read_json('json_files_new/tweet_data_month.json')\n",
        "tweet_data_day = pd.read_json('json_files_new/tweet_data_day.json')\n",
        "reddit_data_month = pd.read_json('json_files_new/reddit_data_month.json')\n",
        "reddit_data_day = pd.read_json('json_files_new/reddit_data_day.json')"
      ],
      "metadata": {
        "id": "tIi6bi4LGZdi"
      },
      "execution_count": null,
      "outputs": []
    },
    {
      "cell_type": "code",
      "source": [
        "tweet_data_month_state_s=tweet_data_month_state.groupby(['month', 'year']).agg(min_sentiment=('sentiment','min'), max_sentiment=('sentiment','max')).reset_index()\n",
        "tweet_data_day_state_s=tweet_data_day_state.groupby(['date']).agg(min_sentiment=('sentiment','min'), max_sentiment=('sentiment','max')).reset_index()\n",
        "tweet_data_month_s=tweet_data_month.groupby(['month', 'year']).agg(min_sentiment=('sentiment','min'), max_sentiment=('sentiment','max')).reset_index()\n",
        "tweet_data_day_s=tweet_data_day.groupby(['date']).agg(min_sentiment=('sentiment','min'), max_sentiment=('sentiment','max')).reset_index()\n",
        "reddit_data_month_s=reddit_data_month.groupby(['month', 'year']).agg(min_sentiment=('sentiment','min'), max_sentiment=('sentiment','max')).reset_index()\n",
        "reddit_data_day_s=reddit_data_day.groupby(['date']).agg(min_sentiment=('sentiment','min'), max_sentiment=('sentiment','max')).reset_index()\n",
        "\n",
        "tweet_data_month_state=tweet_data_month_state.merge(tweet_data_month_state_s, on=['month', 'year'])\n",
        "tweet_data_day_state=tweet_data_day_state.merge(tweet_data_day_state_s, on=['date'])\n",
        "tweet_data_month=tweet_data_month.merge(tweet_data_month_s, on=['month', 'year'])\n",
        "tweet_data_day=tweet_data_day.merge(tweet_data_day_s, on=['date'])\n",
        "reddit_data_month=reddit_data_month.merge(reddit_data_month_s, on=['month', 'year'])\n",
        "reddit_data_day=reddit_data_day.merge(reddit_data_day_s, on=['date'])"
      ],
      "metadata": {
        "id": "ojJMUv_zIAPq"
      },
      "execution_count": null,
      "outputs": []
    },
    {
      "cell_type": "code",
      "source": [
        "tweet_data_month_state['std_sentiment'] = (tweet_data_month_state['sentiment']-tweet_data_month_state['min_sentiment'])/(tweet_data_month_state['max_sentiment']-tweet_data_month_state['min_sentiment'])\n",
        "tweet_data_day_state['std_sentiment'] = (tweet_data_day_state['sentiment']-tweet_data_day_state['min_sentiment'])/(tweet_data_day_state['max_sentiment']-tweet_data_day_state['min_sentiment'])\n",
        "tweet_data_month['std_sentiment'] = (tweet_data_month['sentiment']-tweet_data_month['min_sentiment'])/(tweet_data_month['max_sentiment']-tweet_data_month['min_sentiment'])\n",
        "tweet_data_day['std_sentiment'] = (tweet_data_day['sentiment']-tweet_data_day['min_sentiment'])/(tweet_data_day['max_sentiment']-tweet_data_day['min_sentiment'])\n",
        "reddit_data_month['std_sentiment'] = (reddit_data_month['sentiment']-reddit_data_month['min_sentiment'])/(reddit_data_month['max_sentiment']-reddit_data_month['min_sentiment'])\n",
        "reddit_data_day['std_sentiment'] = (reddit_data_day['sentiment']-reddit_data_day['min_sentiment'])/(reddit_data_day['max_sentiment']-reddit_data_day['min_sentiment'])"
      ],
      "metadata": {
        "id": "x5S6G5h5GmJS"
      },
      "execution_count": null,
      "outputs": []
    },
    {
      "cell_type": "code",
      "source": [
        "def get_state_name(state):\n",
        "  if len(state)==2:\n",
        "    return abbrev_to_us_state[state]\n",
        "  else:\n",
        "    return state"
      ],
      "metadata": {
        "id": "en_HoDLQPhl5"
      },
      "execution_count": null,
      "outputs": []
    },
    {
      "cell_type": "code",
      "source": [
        "tweet_data_month_state['state_name'] = tweet_data_month_state['state'].apply(lambda c: get_state_name(c))\n",
        "tweet_data_day_state['state_name'] = tweet_data_day_state['state'].apply(lambda c: get_state_name(c))"
      ],
      "metadata": {
        "id": "_VO5O8_JPf_P"
      },
      "execution_count": null,
      "outputs": []
    },
    {
      "cell_type": "code",
      "source": [
        "tweet_data_month_state.drop(['min_sentiment', 'max_sentiment'], axis=1, inplace=True)\n",
        "tweet_data_day_state.drop(['min_sentiment', 'max_sentiment'], axis=1, inplace=True)\n",
        "tweet_data_month.drop(['min_sentiment', 'max_sentiment'], axis=1, inplace=True)\n",
        "tweet_data_day.drop(['min_sentiment', 'max_sentiment'], axis=1, inplace=True)\n",
        "reddit_data_month.drop(['min_sentiment', 'max_sentiment'], axis=1, inplace=True)\n",
        "reddit_data_day.drop(['min_sentiment', 'max_sentiment'], axis=1, inplace=True)"
      ],
      "metadata": {
        "id": "f9N2nu2FHRW-"
      },
      "execution_count": null,
      "outputs": []
    },
    {
      "cell_type": "code",
      "source": [
        "tweet_data_month_state.to_json('json_files_new/tweet_data_month_state.json', orient=\"records\")\n",
        "tweet_data_day_state.to_json('json_files_new/tweet_data_day_state.json', orient=\"records\", date_format='iso')\n",
        "tweet_data_month.to_json('json_files_new/tweet_data_month.json', orient=\"records\")\n",
        "tweet_data_day.to_json('json_files_new/tweet_data_day.json', orient=\"records\", date_format='iso')\n",
        "reddit_data_month.to_json('json_files_new/reddit_data_month.json', orient=\"records\")\n",
        "reddit_data_day.to_json('json_files_new/reddit_data_day.json', orient=\"records\", date_format='iso')"
      ],
      "metadata": {
        "id": "ECuzXpuJGZdj"
      },
      "execution_count": null,
      "outputs": []
    },
    {
      "cell_type": "code",
      "source": [
        "tweet_data_month_state.to_csv('csv_files/tweet_data_month_state.csv')\n",
        "tweet_data_day_state.to_csv('csv_files/tweet_data_day_state.csv')\n",
        "tweet_data_month.to_csv('csv_files/tweet_data_month.csv')\n",
        "tweet_data_day.to_csv('csv_files/tweet_data_day.csv')\n",
        "reddit_data_month.to_csv('csv_files/reddit_data_month.csv')\n",
        "reddit_data_day.to_csv('csv_files/reddit_data_day.csv')"
      ],
      "metadata": {
        "id": "dgXhh-RhNQYy"
      },
      "execution_count": null,
      "outputs": []
    },
    {
      "cell_type": "code",
      "source": [
        "tweet_data_month_state"
      ],
      "metadata": {
        "colab": {
          "base_uri": "https://localhost:8080/",
          "height": 423
        },
        "id": "3_elUTJG2_aP",
        "outputId": "4568b9ca-efc3-488a-c6f4-1a84669ab578"
      },
      "execution_count": null,
      "outputs": [
        {
          "output_type": "execute_result",
          "data": {
            "text/plain": [
              "      month  year           state  negativity  neutrality  positivity  \\\n",
              "0         1  2021              AK    0.269663    0.387640    0.342697   \n",
              "1         1  2021              AL    0.258575    0.430079    0.311346   \n",
              "2         1  2021              AR    0.249141    0.422680    0.328179   \n",
              "3         1  2021              AZ    0.259918    0.414843    0.325239   \n",
              "4         1  2021              CA    0.266836    0.407257    0.325907   \n",
              "...     ...   ...             ...         ...         ...         ...   \n",
              "1251     12  2021  Virgin Islands    0.272727    0.636364    0.090909   \n",
              "1252     12  2021              WA    0.265168    0.380993    0.353840   \n",
              "1253     12  2021              WI    0.236735    0.441633    0.321633   \n",
              "1254     12  2021              WV    0.252033    0.443089    0.304878   \n",
              "1255     12  2021              WY    0.301887    0.283019    0.415094   \n",
              "\n",
              "      sentiment                                         freq_words  \\\n",
              "0      0.073034  [{'text': 'get', 'size': 24}, {'text': 'people...   \n",
              "1      0.052770  [{'text': 'get', 'size': 113}, {'text': 'peopl...   \n",
              "2      0.079038  [{'text': 'get', 'size': 79}, {'text': 'like',...   \n",
              "3      0.065321  [{'text': 'get', 'size': 300}, {'text': 'peopl...   \n",
              "4      0.059071  [{'text': 'get', 'size': 1569}, {'text': 'peop...   \n",
              "...         ...                                                ...   \n",
              "1251  -0.181818  [{'text': 'that’s', 'size': 3}, {'text': 'guy'...   \n",
              "1252   0.088672  [{'text': 'get', 'size': 334}, {'text': 'peopl...   \n",
              "1253   0.084898  [{'text': 'get', 'size': 140}, {'text': 'peopl...   \n",
              "1254   0.052846  [{'text': 'get', 'size': 45}, {'text': 'like',...   \n",
              "1255   0.113208  [{'text': 'it.', 'size': 6}, {'text': 'said', ...   \n",
              "\n",
              "      std_sentiment      state_name  \n",
              "0          0.711560          Alaska  \n",
              "1          0.687981         Alabama  \n",
              "2          0.718547        Arkansas  \n",
              "3          0.702586         Arizona  \n",
              "4          0.695312      California  \n",
              "...             ...             ...  \n",
              "1251       0.100478  Virgin Islands  \n",
              "1252       0.499096      Washington  \n",
              "1253       0.493534       Wisconsin  \n",
              "1254       0.446299   West Virginia  \n",
              "1255       0.535253         Wyoming  \n",
              "\n",
              "[1256 rows x 10 columns]"
            ],
            "text/html": [
              "\n",
              "  <div id=\"df-290b9a8e-a44a-4a23-91a6-1382e1a76302\">\n",
              "    <div class=\"colab-df-container\">\n",
              "      <div>\n",
              "<style scoped>\n",
              "    .dataframe tbody tr th:only-of-type {\n",
              "        vertical-align: middle;\n",
              "    }\n",
              "\n",
              "    .dataframe tbody tr th {\n",
              "        vertical-align: top;\n",
              "    }\n",
              "\n",
              "    .dataframe thead th {\n",
              "        text-align: right;\n",
              "    }\n",
              "</style>\n",
              "<table border=\"1\" class=\"dataframe\">\n",
              "  <thead>\n",
              "    <tr style=\"text-align: right;\">\n",
              "      <th></th>\n",
              "      <th>month</th>\n",
              "      <th>year</th>\n",
              "      <th>state</th>\n",
              "      <th>negativity</th>\n",
              "      <th>neutrality</th>\n",
              "      <th>positivity</th>\n",
              "      <th>sentiment</th>\n",
              "      <th>freq_words</th>\n",
              "      <th>std_sentiment</th>\n",
              "      <th>state_name</th>\n",
              "    </tr>\n",
              "  </thead>\n",
              "  <tbody>\n",
              "    <tr>\n",
              "      <th>0</th>\n",
              "      <td>1</td>\n",
              "      <td>2021</td>\n",
              "      <td>AK</td>\n",
              "      <td>0.269663</td>\n",
              "      <td>0.387640</td>\n",
              "      <td>0.342697</td>\n",
              "      <td>0.073034</td>\n",
              "      <td>[{'text': 'get', 'size': 24}, {'text': 'people...</td>\n",
              "      <td>0.711560</td>\n",
              "      <td>Alaska</td>\n",
              "    </tr>\n",
              "    <tr>\n",
              "      <th>1</th>\n",
              "      <td>1</td>\n",
              "      <td>2021</td>\n",
              "      <td>AL</td>\n",
              "      <td>0.258575</td>\n",
              "      <td>0.430079</td>\n",
              "      <td>0.311346</td>\n",
              "      <td>0.052770</td>\n",
              "      <td>[{'text': 'get', 'size': 113}, {'text': 'peopl...</td>\n",
              "      <td>0.687981</td>\n",
              "      <td>Alabama</td>\n",
              "    </tr>\n",
              "    <tr>\n",
              "      <th>2</th>\n",
              "      <td>1</td>\n",
              "      <td>2021</td>\n",
              "      <td>AR</td>\n",
              "      <td>0.249141</td>\n",
              "      <td>0.422680</td>\n",
              "      <td>0.328179</td>\n",
              "      <td>0.079038</td>\n",
              "      <td>[{'text': 'get', 'size': 79}, {'text': 'like',...</td>\n",
              "      <td>0.718547</td>\n",
              "      <td>Arkansas</td>\n",
              "    </tr>\n",
              "    <tr>\n",
              "      <th>3</th>\n",
              "      <td>1</td>\n",
              "      <td>2021</td>\n",
              "      <td>AZ</td>\n",
              "      <td>0.259918</td>\n",
              "      <td>0.414843</td>\n",
              "      <td>0.325239</td>\n",
              "      <td>0.065321</td>\n",
              "      <td>[{'text': 'get', 'size': 300}, {'text': 'peopl...</td>\n",
              "      <td>0.702586</td>\n",
              "      <td>Arizona</td>\n",
              "    </tr>\n",
              "    <tr>\n",
              "      <th>4</th>\n",
              "      <td>1</td>\n",
              "      <td>2021</td>\n",
              "      <td>CA</td>\n",
              "      <td>0.266836</td>\n",
              "      <td>0.407257</td>\n",
              "      <td>0.325907</td>\n",
              "      <td>0.059071</td>\n",
              "      <td>[{'text': 'get', 'size': 1569}, {'text': 'peop...</td>\n",
              "      <td>0.695312</td>\n",
              "      <td>California</td>\n",
              "    </tr>\n",
              "    <tr>\n",
              "      <th>...</th>\n",
              "      <td>...</td>\n",
              "      <td>...</td>\n",
              "      <td>...</td>\n",
              "      <td>...</td>\n",
              "      <td>...</td>\n",
              "      <td>...</td>\n",
              "      <td>...</td>\n",
              "      <td>...</td>\n",
              "      <td>...</td>\n",
              "      <td>...</td>\n",
              "    </tr>\n",
              "    <tr>\n",
              "      <th>1251</th>\n",
              "      <td>12</td>\n",
              "      <td>2021</td>\n",
              "      <td>Virgin Islands</td>\n",
              "      <td>0.272727</td>\n",
              "      <td>0.636364</td>\n",
              "      <td>0.090909</td>\n",
              "      <td>-0.181818</td>\n",
              "      <td>[{'text': 'that’s', 'size': 3}, {'text': 'guy'...</td>\n",
              "      <td>0.100478</td>\n",
              "      <td>Virgin Islands</td>\n",
              "    </tr>\n",
              "    <tr>\n",
              "      <th>1252</th>\n",
              "      <td>12</td>\n",
              "      <td>2021</td>\n",
              "      <td>WA</td>\n",
              "      <td>0.265168</td>\n",
              "      <td>0.380993</td>\n",
              "      <td>0.353840</td>\n",
              "      <td>0.088672</td>\n",
              "      <td>[{'text': 'get', 'size': 334}, {'text': 'peopl...</td>\n",
              "      <td>0.499096</td>\n",
              "      <td>Washington</td>\n",
              "    </tr>\n",
              "    <tr>\n",
              "      <th>1253</th>\n",
              "      <td>12</td>\n",
              "      <td>2021</td>\n",
              "      <td>WI</td>\n",
              "      <td>0.236735</td>\n",
              "      <td>0.441633</td>\n",
              "      <td>0.321633</td>\n",
              "      <td>0.084898</td>\n",
              "      <td>[{'text': 'get', 'size': 140}, {'text': 'peopl...</td>\n",
              "      <td>0.493534</td>\n",
              "      <td>Wisconsin</td>\n",
              "    </tr>\n",
              "    <tr>\n",
              "      <th>1254</th>\n",
              "      <td>12</td>\n",
              "      <td>2021</td>\n",
              "      <td>WV</td>\n",
              "      <td>0.252033</td>\n",
              "      <td>0.443089</td>\n",
              "      <td>0.304878</td>\n",
              "      <td>0.052846</td>\n",
              "      <td>[{'text': 'get', 'size': 45}, {'text': 'like',...</td>\n",
              "      <td>0.446299</td>\n",
              "      <td>West Virginia</td>\n",
              "    </tr>\n",
              "    <tr>\n",
              "      <th>1255</th>\n",
              "      <td>12</td>\n",
              "      <td>2021</td>\n",
              "      <td>WY</td>\n",
              "      <td>0.301887</td>\n",
              "      <td>0.283019</td>\n",
              "      <td>0.415094</td>\n",
              "      <td>0.113208</td>\n",
              "      <td>[{'text': 'it.', 'size': 6}, {'text': 'said', ...</td>\n",
              "      <td>0.535253</td>\n",
              "      <td>Wyoming</td>\n",
              "    </tr>\n",
              "  </tbody>\n",
              "</table>\n",
              "<p>1256 rows × 10 columns</p>\n",
              "</div>\n",
              "      <button class=\"colab-df-convert\" onclick=\"convertToInteractive('df-290b9a8e-a44a-4a23-91a6-1382e1a76302')\"\n",
              "              title=\"Convert this dataframe to an interactive table.\"\n",
              "              style=\"display:none;\">\n",
              "        \n",
              "  <svg xmlns=\"http://www.w3.org/2000/svg\" height=\"24px\"viewBox=\"0 0 24 24\"\n",
              "       width=\"24px\">\n",
              "    <path d=\"M0 0h24v24H0V0z\" fill=\"none\"/>\n",
              "    <path d=\"M18.56 5.44l.94 2.06.94-2.06 2.06-.94-2.06-.94-.94-2.06-.94 2.06-2.06.94zm-11 1L8.5 8.5l.94-2.06 2.06-.94-2.06-.94L8.5 2.5l-.94 2.06-2.06.94zm10 10l.94 2.06.94-2.06 2.06-.94-2.06-.94-.94-2.06-.94 2.06-2.06.94z\"/><path d=\"M17.41 7.96l-1.37-1.37c-.4-.4-.92-.59-1.43-.59-.52 0-1.04.2-1.43.59L10.3 9.45l-7.72 7.72c-.78.78-.78 2.05 0 2.83L4 21.41c.39.39.9.59 1.41.59.51 0 1.02-.2 1.41-.59l7.78-7.78 2.81-2.81c.8-.78.8-2.07 0-2.86zM5.41 20L4 18.59l7.72-7.72 1.47 1.35L5.41 20z\"/>\n",
              "  </svg>\n",
              "      </button>\n",
              "      \n",
              "  <style>\n",
              "    .colab-df-container {\n",
              "      display:flex;\n",
              "      flex-wrap:wrap;\n",
              "      gap: 12px;\n",
              "    }\n",
              "\n",
              "    .colab-df-convert {\n",
              "      background-color: #E8F0FE;\n",
              "      border: none;\n",
              "      border-radius: 50%;\n",
              "      cursor: pointer;\n",
              "      display: none;\n",
              "      fill: #1967D2;\n",
              "      height: 32px;\n",
              "      padding: 0 0 0 0;\n",
              "      width: 32px;\n",
              "    }\n",
              "\n",
              "    .colab-df-convert:hover {\n",
              "      background-color: #E2EBFA;\n",
              "      box-shadow: 0px 1px 2px rgba(60, 64, 67, 0.3), 0px 1px 3px 1px rgba(60, 64, 67, 0.15);\n",
              "      fill: #174EA6;\n",
              "    }\n",
              "\n",
              "    [theme=dark] .colab-df-convert {\n",
              "      background-color: #3B4455;\n",
              "      fill: #D2E3FC;\n",
              "    }\n",
              "\n",
              "    [theme=dark] .colab-df-convert:hover {\n",
              "      background-color: #434B5C;\n",
              "      box-shadow: 0px 1px 3px 1px rgba(0, 0, 0, 0.15);\n",
              "      filter: drop-shadow(0px 1px 2px rgba(0, 0, 0, 0.3));\n",
              "      fill: #FFFFFF;\n",
              "    }\n",
              "  </style>\n",
              "\n",
              "      <script>\n",
              "        const buttonEl =\n",
              "          document.querySelector('#df-290b9a8e-a44a-4a23-91a6-1382e1a76302 button.colab-df-convert');\n",
              "        buttonEl.style.display =\n",
              "          google.colab.kernel.accessAllowed ? 'block' : 'none';\n",
              "\n",
              "        async function convertToInteractive(key) {\n",
              "          const element = document.querySelector('#df-290b9a8e-a44a-4a23-91a6-1382e1a76302');\n",
              "          const dataTable =\n",
              "            await google.colab.kernel.invokeFunction('convertToInteractive',\n",
              "                                                     [key], {});\n",
              "          if (!dataTable) return;\n",
              "\n",
              "          const docLinkHtml = 'Like what you see? Visit the ' +\n",
              "            '<a target=\"_blank\" href=https://colab.research.google.com/notebooks/data_table.ipynb>data table notebook</a>'\n",
              "            + ' to learn more about interactive tables.';\n",
              "          element.innerHTML = '';\n",
              "          dataTable['output_type'] = 'display_data';\n",
              "          await google.colab.output.renderOutput(dataTable, element);\n",
              "          const docLink = document.createElement('div');\n",
              "          docLink.innerHTML = docLinkHtml;\n",
              "          element.appendChild(docLink);\n",
              "        }\n",
              "      </script>\n",
              "    </div>\n",
              "  </div>\n",
              "  "
            ]
          },
          "metadata": {},
          "execution_count": 126
        }
      ]
    },
    {
      "cell_type": "code",
      "source": [
        "tweet_data_month_loc = pd.read_json('json_files/tweet_data_month_loc.json')"
      ],
      "metadata": {
        "id": "1W5mVNCxpTC7"
      },
      "execution_count": null,
      "outputs": []
    },
    {
      "cell_type": "code",
      "source": [
        "tweet_data_month_loc_s=tweet_data_month_loc.groupby(['month', 'year']).agg(min_sentiment=('sentiment','min'), max_sentiment=('sentiment','max')).reset_index()\n",
        "\n",
        "tweet_data_month_loc=tweet_data_month_loc.merge(tweet_data_month_loc_s, on=['month', 'year'])"
      ],
      "metadata": {
        "id": "qgJeYS5BpdtW"
      },
      "execution_count": null,
      "outputs": []
    },
    {
      "cell_type": "code",
      "source": [
        "tweet_data_month_loc['std_sentiment'] = (tweet_data_month_loc['sentiment']-tweet_data_month_loc['min_sentiment'])/(tweet_data_month_loc['max_sentiment']-tweet_data_month_loc['min_sentiment'])"
      ],
      "metadata": {
        "id": "KJFZvmDmpdtY"
      },
      "execution_count": null,
      "outputs": []
    },
    {
      "cell_type": "code",
      "source": [
        "def get_state_name(state):\n",
        "  if len(state)==2:\n",
        "    return abbrev_to_us_state[state]\n",
        "  else:\n",
        "    return state"
      ],
      "metadata": {
        "id": "CUYt8haepdtY"
      },
      "execution_count": null,
      "outputs": []
    },
    {
      "cell_type": "code",
      "source": [
        "tweet_data_month_loc['state_name'] = tweet_data_month_loc['state'].apply(lambda c: get_state_name(c))"
      ],
      "metadata": {
        "id": "L6_YOG_TpdtZ"
      },
      "execution_count": null,
      "outputs": []
    },
    {
      "cell_type": "code",
      "source": [
        "tweet_data_month_loc.drop(['min_sentiment', 'max_sentiment'], axis=1, inplace=True)"
      ],
      "metadata": {
        "id": "6Tu566iYpdtZ"
      },
      "execution_count": null,
      "outputs": []
    },
    {
      "cell_type": "code",
      "source": [
        "tweet_data_month_loc.to_json('json_files_new/tweet_data_month_loc.json', orient=\"records\")"
      ],
      "metadata": {
        "id": "v_oMXG9lpdta"
      },
      "execution_count": null,
      "outputs": []
    },
    {
      "cell_type": "code",
      "source": [
        "tweet_data_month_loc.to_csv('csv_files/tweet_data_month_loc.csv')"
      ],
      "metadata": {
        "id": "V1AksW1EpXjW"
      },
      "execution_count": null,
      "outputs": []
    },
    {
      "cell_type": "markdown",
      "metadata": {
        "id": "mli30XTsPRsn"
      },
      "source": [
        "# Generating state center data for state visualization"
      ]
    },
    {
      "cell_type": "code",
      "source": [
        "centers=pd.read_csv('centers.csv')"
      ],
      "metadata": {
        "id": "x-Uc8pz8IhmS"
      },
      "execution_count": null,
      "outputs": []
    },
    {
      "cell_type": "code",
      "source": [
        "centers['mean_latitude']=centers['latitude'].min()+(centers['latitude'].max()-centers['latitude'].min())/2\n",
        "centers['mean_longitude']=centers['longitude'].min()+(centers['longitude'].max()-centers['longitude'].min())/2\n",
        "centers['min_latitude']=centers['latitude'].min()\n",
        "centers['min_longitude']=centers['longitude'].min()\n",
        "centers['max_latitude']=centers['latitude'].max()\n",
        "centers['max_longitude']=centers['longitude'].max()"
      ],
      "metadata": {
        "id": "mFXnJU2II2HT"
      },
      "execution_count": null,
      "outputs": []
    },
    {
      "cell_type": "code",
      "source": [
        "centers['x']=(centers.longitude+97.93)-0.6\n",
        "centers['y']=(centers.latitude-38.0608)+38.7"
      ],
      "metadata": {
        "id": "_3nZRv9_I2__"
      },
      "execution_count": null,
      "outputs": []
    },
    {
      "cell_type": "code",
      "source": [
        "centers=centers[['state', 'x', 'y']]"
      ],
      "metadata": {
        "id": "czO_hEpdJHq4"
      },
      "execution_count": null,
      "outputs": []
    },
    {
      "cell_type": "code",
      "source": [
        "centers.to_csv('centers')"
      ],
      "metadata": {
        "id": "SWi8AH96K2nf"
      },
      "execution_count": null,
      "outputs": []
    },
    {
      "cell_type": "markdown",
      "source": [
        "### Visualizations of daily tweet sentiment in USA map"
      ],
      "metadata": {
        "id": "95zvBvawvLfU"
      }
    },
    {
      "cell_type": "code",
      "source": [
        "%%capture\n",
        "!pip install kaleido\n",
        "!pip install plotly>=4.0.0\n",
        "!wget https://github.com/plotly/orca/releases/download/v1.2.1/orca-1.2.1-x86_64.AppImage -O /usr/local/bin/orca\n",
        "!chmod +x /usr/local/bin/orca\n",
        "!apt-get install xvfb libgtk2.0-0 libgconf-2-4"
      ],
      "metadata": {
        "id": "4F2le95MuPl9"
      },
      "execution_count": null,
      "outputs": []
    },
    {
      "cell_type": "code",
      "source": [
        "tweet_data_day_state=pd.read_csv('csv_files/tweet_data_day_state.csv')\n",
        "tweet_data_day_state['date']=tweet_data_day_state['date'].str[:10]+' '+tweet_data_day_state['date'].str[11:19]\n",
        "tweet_data_day_state['date']=pd.to_datetime(tweet_data_day_state['date'])"
      ],
      "metadata": {
        "id": "64w2EMH4r1ZV"
      },
      "execution_count": null,
      "outputs": []
    },
    {
      "cell_type": "code",
      "source": [
        "import plotly.express as px  # Be sure to import express\n",
        "import plotly.io as pio\n",
        "start_date = datetime.datetime(2020, 2, 11)\n",
        "end_date = datetime.datetime(2021, 12, 31)\n",
        "delta = datetime.timedelta(days=1)\n",
        "count=0\n",
        "while start_date <= end_date:\n",
        "  temp_df=tweet_data_day_state.copy()\n",
        "  temp_df=temp_df[temp_df['date']==start_date]\n",
        "  temp_df=temp_df[['state', 'sentiment']]\n",
        "  fig = px.choropleth(temp_df,  # Input Pandas DataFrame\n",
        "                      locations=\"state\",  # DataFrame column with locations\n",
        "                      color=\"sentiment\",  # DataFrame column with color values\n",
        "                      hover_name=\"state\", # DataFrame column hover info\n",
        "                      locationmode = 'USA-states') # Set to plot as US States\n",
        "  fig.update_layout(\n",
        "      title_text = 'State-wise Sentiment for '+start_date.strftime(\"%m-%d-%Y\"), # Create a Title\n",
        "      geo_scope='usa')\n",
        "  fig.write_image('figures/figure_'+str(count)+'.jpeg')\n",
        "  start_date += delta\n",
        "  count+=1"
      ],
      "metadata": {
        "id": "sqB3bMawqlqI"
      },
      "execution_count": null,
      "outputs": []
    },
    {
      "cell_type": "markdown",
      "source": [
        "### Visualizations of daily tweet and reddit sentiment"
      ],
      "metadata": {
        "id": "05-QbQOwPhVr"
      }
    },
    {
      "cell_type": "code",
      "source": [
        "tweet_data_day=pd.read_csv('csv_files/tweet_data_day.csv')\n",
        "tweet_data_day['date']=tweet_data_day['date'].str[:10]+' '+tweet_data_day['date'].str[11:19]\n",
        "tweet_data_day['date']=pd.to_datetime(tweet_data_day['date'])\n",
        "\n",
        "reddit_data_day=pd.read_csv('csv_files/reddit_data_day.csv')\n",
        "reddit_data_day['date']=reddit_data_day['date'].str[:10]+' '+reddit_data_day['date'].str[11:19]\n",
        "reddit_data_day['date']=pd.to_datetime(reddit_data_day['date'])"
      ],
      "metadata": {
        "id": "013_AlxPtiqN"
      },
      "execution_count": null,
      "outputs": []
    },
    {
      "cell_type": "code",
      "source": [
        "plt.figure(figsize=(8,5))\n",
        "sns.lineplot(x='date', y='sentiment', data=tweet_data_day, label='Tweet Sentiment')\n",
        "sns.lineplot(x='date', y='sentiment', data=reddit_data_day, label='Reddit Sentiment')\n",
        "plt.title('Daily sentiment towards COVID-19')"
      ],
      "metadata": {
        "colab": {
          "base_uri": "https://localhost:8080/",
          "height": 367
        },
        "id": "ocH41uTxx85B",
        "outputId": "4587a4a2-ffc6-44b0-a8bc-1f97d9ec7d19"
      },
      "execution_count": null,
      "outputs": [
        {
          "output_type": "execute_result",
          "data": {
            "text/plain": [
              "Text(0.5, 1.0, 'Daily sentiment towards COVID-19')"
            ]
          },
          "metadata": {},
          "execution_count": 65
        },
        {
          "output_type": "display_data",
          "data": {
            "text/plain": [
              "<Figure size 576x360 with 1 Axes>"
            ],
            "image/png": "[encoded data removed]"
          },
          "metadata": {
            "needs_background": "light"
          }
        }
      ]
    }
  ],
  "metadata": {
    "colab": {
      "collapsed_sections": [
        "glAPHSj-ujH3"
      ],
      "name": "CS5890_Project.ipynb",
      "provenance": []
    },
    "kernelspec": {
      "display_name": "Python 3",
      "language": "python",
      "name": "python3"
    },
    "language_info": {
      "codemirror_mode": {
        "name": "ipython",
        "version": 3
      },
      "file_extension": ".py",
      "mimetype": "text/x-python",
      "name": "python",
      "nbconvert_exporter": "python",
      "pygments_lexer": "ipython3",
      "version": "3.7.6"
    },
    "papermill": {
      "duration": 2724.650172,
      "end_time": "2020-10-06T22:04:52.151005",
      "environment_variables": {},
      "exception": null,
      "input_path": "__notebook__.ipynb",
      "output_path": "__notebook__.ipynb",
      "parameters": {},
      "start_time": "2020-10-06T21:19:27.500833",
      "version": "2.1.0"
    }
  },
  "nbformat": 4,
  "nbformat_minor": 0
}